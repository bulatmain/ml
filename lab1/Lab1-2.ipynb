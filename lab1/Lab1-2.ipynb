{
 "cells": [
  {
   "cell_type": "markdown",
   "id": "ec6e7d18-6a6e-4a51-a7cd-0a1152604973",
   "metadata": {},
   "source": [
    "## Лабораторная работа №1 | Вариант 2"
   ]
  },
  {
   "cell_type": "markdown",
   "id": "277877ce-f982-4711-a6a6-2a4a90871409",
   "metadata": {},
   "source": [
    "Выполнил: Ахметшин Б.Р., М8О-303Б-22"
   ]
  },
  {
   "cell_type": "markdown",
   "id": "031f025d-84dc-470f-b839-456a76d9636b",
   "metadata": {},
   "source": [
    "### 1. Numpy"
   ]
  },
  {
   "cell_type": "code",
   "execution_count": 3,
   "id": "8a2c6f8d-e85b-4982-ba6d-77ffdb7d53e8",
   "metadata": {},
   "outputs": [],
   "source": [
    "import numpy as np"
   ]
  },
  {
   "cell_type": "markdown",
   "id": "6ff3559d-5f3e-4540-9a31-bfb9f42a23da",
   "metadata": {},
   "source": [
    "1. Создайте матрицу размером 8х8 и заполните ее шахматным рисунком"
   ]
  },
  {
   "cell_type": "code",
   "execution_count": 4,
   "id": "752bc586-1e3f-4085-85c3-4068b781314f",
   "metadata": {},
   "outputs": [
    {
     "data": {
      "text/plain": [
       "matrix([[0, 1, 0, 1, 0, 1, 0, 1],\n",
       "        [1, 0, 1, 0, 1, 0, 1, 0],\n",
       "        [0, 1, 0, 1, 0, 1, 0, 1],\n",
       "        [1, 0, 1, 0, 1, 0, 1, 0],\n",
       "        [0, 1, 0, 1, 0, 1, 0, 1],\n",
       "        [1, 0, 1, 0, 1, 0, 1, 0],\n",
       "        [0, 1, 0, 1, 0, 1, 0, 1],\n",
       "        [1, 0, 1, 0, 1, 0, 1, 0]])"
      ]
     },
     "execution_count": 4,
     "metadata": {},
     "output_type": "execute_result"
    }
   ],
   "source": [
    "np.matrix([\n",
    "    [0, 1, 0, 1, 0, 1, 0, 1],\n",
    "    [1, 0, 1, 0, 1, 0, 1, 0],\n",
    "    [0, 1, 0, 1, 0, 1, 0, 1],\n",
    "    [1, 0, 1, 0, 1, 0, 1, 0],\n",
    "    [0, 1, 0, 1, 0, 1, 0, 1],\n",
    "    [1, 0, 1, 0, 1, 0, 1, 0],\n",
    "    [0, 1, 0, 1, 0, 1, 0, 1],\n",
    "    [1, 0, 1, 0, 1, 0, 1, 0]\n",
    "])"
   ]
  },
  {
   "cell_type": "markdown",
   "id": "0243a0f6-1905-4e2d-9572-9ba49dc003a8",
   "metadata": {},
   "source": [
    "2. Каков результат выполнения следующих выражений?\n",
    "\n",
    "```python\n",
    "np.array(0) / np.array(0)\n",
    "np.array(0) // np.array(0)\n",
    "np.array([np.nan]).astype(int).astype(float)\n",
    "```"
   ]
  },
  {
   "cell_type": "code",
   "execution_count": 5,
   "id": "ec6ae581-5adf-459c-bdc7-8b015d9529f6",
   "metadata": {},
   "outputs": [
    {
     "name": "stderr",
     "output_type": "stream",
     "text": [
      "/tmp/ipykernel_8459/873513115.py:1: RuntimeWarning: invalid value encountered in divide\n",
      "  np.array(0) / np.array(0)\n"
     ]
    },
    {
     "data": {
      "text/plain": [
       "nan"
      ]
     },
     "execution_count": 5,
     "metadata": {},
     "output_type": "execute_result"
    }
   ],
   "source": [
    "np.array(0) / np.array(0)"
   ]
  },
  {
   "cell_type": "code",
   "execution_count": 6,
   "id": "22610009",
   "metadata": {},
   "outputs": [
    {
     "name": "stderr",
     "output_type": "stream",
     "text": [
      "/tmp/ipykernel_8459/2018018105.py:1: RuntimeWarning: divide by zero encountered in floor_divide\n",
      "  np.array(0) // np.array(0)\n"
     ]
    },
    {
     "data": {
      "text/plain": [
       "0"
      ]
     },
     "execution_count": 6,
     "metadata": {},
     "output_type": "execute_result"
    }
   ],
   "source": [
    "np.array(0) // np.array(0)"
   ]
  },
  {
   "cell_type": "code",
   "execution_count": 7,
   "id": "de6fc05a",
   "metadata": {},
   "outputs": [
    {
     "name": "stderr",
     "output_type": "stream",
     "text": [
      "/tmp/ipykernel_8459/699728972.py:1: RuntimeWarning: invalid value encountered in cast\n",
      "  np.array([np.nan]).astype(int).astype(float)\n"
     ]
    },
    {
     "data": {
      "text/plain": [
       "array([-9.22337204e+18])"
      ]
     },
     "execution_count": 7,
     "metadata": {},
     "output_type": "execute_result"
    }
   ],
   "source": [
    "np.array([np.nan]).astype(int).astype(float)"
   ]
  },
  {
   "cell_type": "markdown",
   "id": "8c7d3811-a555-4c02-ada8-e4a70b9dee46",
   "metadata": {},
   "source": [
    "3. Создайте матрицу-шахматную доску 8х8 используя функцию `tile`"
   ]
  },
  {
   "cell_type": "code",
   "execution_count": 8,
   "id": "12d0ed34-908c-4840-8b81-457e64dd7b0b",
   "metadata": {},
   "outputs": [
    {
     "data": {
      "text/plain": [
       "array([[0, 1, 0, 1, 0, 1, 0, 1],\n",
       "       [1, 0, 1, 0, 1, 0, 1, 0],\n",
       "       [0, 1, 0, 1, 0, 1, 0, 1],\n",
       "       [1, 0, 1, 0, 1, 0, 1, 0],\n",
       "       [0, 1, 0, 1, 0, 1, 0, 1],\n",
       "       [1, 0, 1, 0, 1, 0, 1, 0],\n",
       "       [0, 1, 0, 1, 0, 1, 0, 1],\n",
       "       [1, 0, 1, 0, 1, 0, 1, 0]])"
      ]
     },
     "execution_count": 8,
     "metadata": {},
     "output_type": "execute_result"
    }
   ],
   "source": [
    "np.tile([[0, 1], [1, 0]], (4, 4))"
   ]
  },
  {
   "cell_type": "markdown",
   "id": "b7ca56e6-a194-4c42-b8a2-307fcf40f648",
   "metadata": {},
   "source": [
    "4. Как округлить до целых массив чисел с плавающей точкой?"
   ]
  },
  {
   "cell_type": "code",
   "execution_count": 9,
   "id": "1b1d64cd-0e28-400f-8d49-a1274947e150",
   "metadata": {},
   "outputs": [
    {
     "name": "stdout",
     "output_type": "stream",
     "text": [
      "[[1.26312602 2.67733461 2.10495038 5.86790939 1.49043621]]\n",
      "[[1. 2. 2. 5. 1.]]\n"
     ]
    }
   ],
   "source": [
    "arr = np.random.rand(1, 5)*10\n",
    "print(arr)\n",
    "arr = np.floor(arr)\n",
    "print(arr)"
   ]
  },
  {
   "cell_type": "markdown",
   "id": "b3b2cd1e-e996-45e0-b9ed-e12ce653a9c3",
   "metadata": {},
   "source": [
    "5. Как найти общие значения между двумя массивами?"
   ]
  },
  {
   "cell_type": "code",
   "execution_count": 10,
   "id": "c40ef785-d750-42ba-ac6e-b777866202a6",
   "metadata": {},
   "outputs": [
    {
     "name": "stdout",
     "output_type": "stream",
     "text": [
      "intersection: [2 4]\n"
     ]
    }
   ],
   "source": [
    "a = np.array([1, 2, 3, 4, 5])\n",
    "b = np.array([2, 4, 6])\n",
    "print(\"intersection:\", np.intersect1d(a, b))"
   ]
  },
  {
   "cell_type": "markdown",
   "id": "8108b3a8-5ba8-472d-ad6b-095ade8678ef",
   "metadata": {},
   "source": [
    "6. Как вычислить ((A+B)*(-A/2)) на месте (без копирования)?"
   ]
  },
  {
   "cell_type": "code",
   "execution_count": 11,
   "id": "89b58c0a-bd5d-435a-be45-719fdfce662a",
   "metadata": {},
   "outputs": [
    {
     "name": "stdout",
     "output_type": "stream",
     "text": [
      "a: [[0.8239903  0.61133818 0.07322874 0.88993109 0.56048704]]\n",
      "b: [[0.8239903  0.61133818 0.07322874 0.88993109 0.56048704]]\n",
      "c: [[-0.58660201 -0.3149702  -0.01026293 -0.76144535 -0.25887831]]\n",
      "True\n"
     ]
    }
   ],
   "source": [
    "a = np.random.rand(1, 5)\n",
    "b = np.random.rand(1, 5)\n",
    "c = (a + b)*(-a/2)\n",
    "print(\"a:\", a)\n",
    "print(\"b:\", a)\n",
    "print(\"c:\", c)\n",
    "b += a \n",
    "a /= -2\n",
    "b *= a\n",
    "print(np.array_equal(b, c))\n"
   ]
  },
  {
   "cell_type": "markdown",
   "id": "98511652-db85-4506-a5b8-f94b05d35ce9",
   "metadata": {},
   "source": [
    "7. Рассмотрим случайный вектор с формой 100х2, представляющей координаты, и найдем расстояния от точки к точке"
   ]
  },
  {
   "cell_type": "code",
   "execution_count": 12,
   "id": "ca72cdb0-ed24-460d-81a9-220b850d62c3",
   "metadata": {},
   "outputs": [],
   "source": [
    "coords = np.random.random((100, 2))\n"
   ]
  },
  {
   "cell_type": "code",
   "execution_count": 13,
   "id": "2f1a7849",
   "metadata": {},
   "outputs": [
    {
     "data": {
      "text/plain": [
       "array([[0.        , 0.65851739, 0.28944771, ..., 0.7841119 , 0.39529482,\n",
       "        0.82888624],\n",
       "       [0.65851739, 0.        , 0.38259009, ..., 0.30682865, 0.26799477,\n",
       "        0.23959238],\n",
       "       [0.28944771, 0.38259009, 0.        , ..., 0.57454842, 0.11495823,\n",
       "        0.58383086],\n",
       "       ...,\n",
       "       [0.7841119 , 0.30682865, 0.57454842, ..., 0.        , 0.47366681,\n",
       "        0.13912884],\n",
       "       [0.39529482, 0.26799477, 0.11495823, ..., 0.47366681, 0.        ,\n",
       "        0.47199206],\n",
       "       [0.82888624, 0.23959238, 0.58383086, ..., 0.13912884, 0.47199206,\n",
       "        0.        ]])"
      ]
     },
     "execution_count": 13,
     "metadata": {},
     "output_type": "execute_result"
    }
   ],
   "source": [
    "distances = np.linalg.norm(coords[:, np.newaxis] - coords, axis=2)\n",
    "\n",
    "distances"
   ]
  },
  {
   "cell_type": "markdown",
   "id": "1412a70a-2a1e-406e-a227-afc9a47ed659",
   "metadata": {},
   "source": [
    "8. Как конвертировать массив float(32 bit) к массиву целых чисел (integer 32 bit) in place?"
   ]
  },
  {
   "cell_type": "code",
   "execution_count": 14,
   "id": "22bb8bbf-52dd-4d3c-86c0-c4e9637b909b",
   "metadata": {},
   "outputs": [],
   "source": [
    "a = np.random.rand(1, 10)\n",
    "a = a.astype(np.int32, copy=False)"
   ]
  },
  {
   "cell_type": "markdown",
   "id": "f7dc66bf-f7c8-4d78-834b-451651f6839a",
   "metadata": {},
   "source": [
    "9. Создайте структурированный массив, представляющий позицию (x, y) и цвет (r, g, b)."
   ]
  },
  {
   "cell_type": "code",
   "execution_count": 15,
   "id": "0ecf5586-d30e-4256-ab93-7ff9bab0b34b",
   "metadata": {},
   "outputs": [
    {
     "data": {
      "text/plain": [
       "array([([0, 0], [100, 100, 100]), ([1, 1], [255, 255, 255])],\n",
       "      dtype=[('f0', '<i4', (2,)), ('f1', '<i4', (3,))])"
      ]
     },
     "execution_count": 15,
     "metadata": {},
     "output_type": "execute_result"
    }
   ],
   "source": [
    "np.array([((0, 0), (100, 100, 100)), ((1, 1), (255, 255, 255))], dtype='2i, 3i')"
   ]
  },
  {
   "cell_type": "markdown",
   "id": "a66194f1-0099-4808-8ebf-5cf10eee5071",
   "metadata": {},
   "source": [
    "10. Какой эквивалент enumerate для numpy массивов?"
   ]
  },
  {
   "cell_type": "code",
   "execution_count": 16,
   "id": "07ed452c-3f7c-40a7-a5b5-716602a5eed9",
   "metadata": {},
   "outputs": [
    {
     "data": {
      "text/plain": [
       "<numpy.ndenumerate at 0x7b5c05cd4f10>"
      ]
     },
     "execution_count": 16,
     "metadata": {},
     "output_type": "execute_result"
    }
   ],
   "source": [
    "np.ndenumerate(a)"
   ]
  },
  {
   "cell_type": "markdown",
   "id": "5bd0f757-bb01-4afb-b4f0-6821b5c5b2b7",
   "metadata": {},
   "source": [
    "### 2. Pandas"
   ]
  },
  {
   "cell_type": "markdown",
   "id": "bdffd013-e573-4318-8062-65ae1c5e07e8",
   "metadata": {},
   "source": [
    "Найдите ответы на вопросы или выполните действия с предложенным датасетом \n",
    "\n",
    "Данные о преступлениях, совершенных женщинами в Индии, с демографическими подробностями.\n",
    "\n",
    "Файл: `CrimesOnWomenData.csv`\n",
    "\n",
    "```\n",
    "State - название штата/региона\n",
    "Year - год записи\n",
    "Rape - случаи изнасилования\n",
    "K&A - случаи похищения \n",
    "DD - смерти из-за приданого\n",
    "AoW - нападение на женщин\n",
    "AoM - нападение на женскую скромность(modestity)\n",
    "DV - бытовое насилие\n",
    "WT - торговля женщинами\n",
    "```"
   ]
  },
  {
   "cell_type": "code",
   "execution_count": 17,
   "id": "0778ec2b-a7b2-4738-b771-bb1781986f62",
   "metadata": {},
   "outputs": [],
   "source": [
    "import pandas as pd\n",
    "pd.set_option(\"display.precision\", 2)"
   ]
  },
  {
   "cell_type": "code",
   "execution_count": 18,
   "id": "bfc45614-d44b-49bd-a55c-c410a95a808f",
   "metadata": {},
   "outputs": [
    {
     "data": {
      "text/html": [
       "<div>\n",
       "<style scoped>\n",
       "    .dataframe tbody tr th:only-of-type {\n",
       "        vertical-align: middle;\n",
       "    }\n",
       "\n",
       "    .dataframe tbody tr th {\n",
       "        vertical-align: top;\n",
       "    }\n",
       "\n",
       "    .dataframe thead th {\n",
       "        text-align: right;\n",
       "    }\n",
       "</style>\n",
       "<table border=\"1\" class=\"dataframe\">\n",
       "  <thead>\n",
       "    <tr style=\"text-align: right;\">\n",
       "      <th></th>\n",
       "      <th>Unnamed: 0</th>\n",
       "      <th>State</th>\n",
       "      <th>Year</th>\n",
       "      <th>Rape</th>\n",
       "      <th>K&amp;A</th>\n",
       "      <th>DD</th>\n",
       "      <th>AoW</th>\n",
       "      <th>AoM</th>\n",
       "      <th>DV</th>\n",
       "      <th>WT</th>\n",
       "    </tr>\n",
       "  </thead>\n",
       "  <tbody>\n",
       "    <tr>\n",
       "      <th>731</th>\n",
       "      <td>731</td>\n",
       "      <td>D&amp;N Haveli</td>\n",
       "      <td>2021</td>\n",
       "      <td>1250</td>\n",
       "      <td>4083</td>\n",
       "      <td>141</td>\n",
       "      <td>2068</td>\n",
       "      <td>417</td>\n",
       "      <td>4731</td>\n",
       "      <td>4</td>\n",
       "    </tr>\n",
       "    <tr>\n",
       "      <th>732</th>\n",
       "      <td>732</td>\n",
       "      <td>Daman &amp; Diu</td>\n",
       "      <td>2021</td>\n",
       "      <td>315</td>\n",
       "      <td>904</td>\n",
       "      <td>16</td>\n",
       "      <td>1851</td>\n",
       "      <td>10</td>\n",
       "      <td>501</td>\n",
       "      <td>1</td>\n",
       "    </tr>\n",
       "    <tr>\n",
       "      <th>733</th>\n",
       "      <td>733</td>\n",
       "      <td>Delhi UT</td>\n",
       "      <td>2021</td>\n",
       "      <td>2</td>\n",
       "      <td>1</td>\n",
       "      <td>0</td>\n",
       "      <td>5</td>\n",
       "      <td>1</td>\n",
       "      <td>9</td>\n",
       "      <td>0</td>\n",
       "    </tr>\n",
       "    <tr>\n",
       "      <th>734</th>\n",
       "      <td>734</td>\n",
       "      <td>Lakshadweep</td>\n",
       "      <td>2021</td>\n",
       "      <td>0</td>\n",
       "      <td>0</td>\n",
       "      <td>0</td>\n",
       "      <td>1</td>\n",
       "      <td>1</td>\n",
       "      <td>3</td>\n",
       "      <td>0</td>\n",
       "    </tr>\n",
       "    <tr>\n",
       "      <th>735</th>\n",
       "      <td>735</td>\n",
       "      <td>Puducherry</td>\n",
       "      <td>2021</td>\n",
       "      <td>2</td>\n",
       "      <td>0</td>\n",
       "      <td>2</td>\n",
       "      <td>31</td>\n",
       "      <td>3</td>\n",
       "      <td>12</td>\n",
       "      <td>0</td>\n",
       "    </tr>\n",
       "  </tbody>\n",
       "</table>\n",
       "</div>"
      ],
      "text/plain": [
       "     Unnamed: 0        State  Year  Rape   K&A   DD   AoW  AoM    DV  WT\n",
       "731         731   D&N Haveli  2021  1250  4083  141  2068  417  4731   4\n",
       "732         732  Daman & Diu  2021   315   904   16  1851   10   501   1\n",
       "733         733     Delhi UT  2021     2     1    0     5    1     9   0\n",
       "734         734  Lakshadweep  2021     0     0    0     1    1     3   0\n",
       "735         735   Puducherry  2021     2     0    2    31    3    12   0"
      ]
     },
     "execution_count": 18,
     "metadata": {},
     "output_type": "execute_result"
    }
   ],
   "source": [
    "# Load dataset here\n",
    "DATA_PATH=\"CrimesOnWomenData.csv\"\n",
    "df = pd.read_csv(DATA_PATH)\n",
    "df.tail()"
   ]
  },
  {
   "cell_type": "markdown",
   "id": "1026e8c6-513a-41e3-b2f4-68aae18b8435",
   "metadata": {},
   "source": [
    "1. За какие года представлен набор данных?"
   ]
  },
  {
   "cell_type": "code",
   "execution_count": 19,
   "id": "e74655aa-b97c-42e5-b972-e0753ddc2331",
   "metadata": {},
   "outputs": [
    {
     "data": {
      "text/plain": [
       "'2001-2021'"
      ]
     },
     "execution_count": 19,
     "metadata": {},
     "output_type": "execute_result"
    }
   ],
   "source": [
    "year_column = df['Year']\n",
    "str(np.min(year_column)) + \"-\" + str(np.max(year_column))"
   ]
  },
  {
   "cell_type": "markdown",
   "id": "eee028a5-9311-4a4f-b4ac-1fb75acfb4b3",
   "metadata": {},
   "source": [
    "2. Выявите район с самым высоким количеством убийств женщин"
   ]
  },
  {
   "cell_type": "code",
   "execution_count": 20,
   "id": "ac0fb641-96d2-4e7c-88d5-636ce3b699d2",
   "metadata": {},
   "outputs": [
    {
     "data": {
      "text/html": [
       "<div>\n",
       "<style scoped>\n",
       "    .dataframe tbody tr th:only-of-type {\n",
       "        vertical-align: middle;\n",
       "    }\n",
       "\n",
       "    .dataframe tbody tr th {\n",
       "        vertical-align: top;\n",
       "    }\n",
       "\n",
       "    .dataframe thead th {\n",
       "        text-align: right;\n",
       "    }\n",
       "</style>\n",
       "<table border=\"1\" class=\"dataframe\">\n",
       "  <thead>\n",
       "    <tr style=\"text-align: right;\">\n",
       "      <th></th>\n",
       "      <th>State</th>\n",
       "      <th>DD</th>\n",
       "    </tr>\n",
       "  </thead>\n",
       "  <tbody>\n",
       "    <tr>\n",
       "      <th>582</th>\n",
       "      <td>Uttar Pradesh</td>\n",
       "      <td>2524</td>\n",
       "    </tr>\n",
       "  </tbody>\n",
       "</table>\n",
       "</div>"
      ],
      "text/plain": [
       "             State    DD\n",
       "582  Uttar Pradesh  2524"
      ]
     },
     "execution_count": 20,
     "metadata": {},
     "output_type": "execute_result"
    }
   ],
   "source": [
    "max_killed_woman = np.max(df['DD'])\n",
    "df[df['DD'] == max_killed_woman][['State', 'DD']]"
   ]
  },
  {
   "cell_type": "markdown",
   "id": "cd7979ba-2fa8-4fd3-986d-26cee122da1f",
   "metadata": {},
   "source": [
    "3. Какое среднее число изнасилований женщин в индии наблюдалось в указанные года?"
   ]
  },
  {
   "cell_type": "code",
   "execution_count": 21,
   "id": "3915f77b-116c-482b-8644-2f5f11931af9",
   "metadata": {},
   "outputs": [
    {
     "data": {
      "text/plain": [
       "727.8559782608696"
      ]
     },
     "execution_count": 21,
     "metadata": {},
     "output_type": "execute_result"
    }
   ],
   "source": [
    "np.average(df['Rape'])"
   ]
  },
  {
   "cell_type": "markdown",
   "id": "1b69ba67-61a8-4765-9795-cfab1a09e929",
   "metadata": {},
   "source": [
    "4. Выявите район с минимальным числом похищений за период 2001-2003 года"
   ]
  },
  {
   "cell_type": "code",
   "execution_count": 22,
   "id": "1228d2e9-fc56-4240-95c6-c98a8b84c016",
   "metadata": {},
   "outputs": [
    {
     "data": {
      "text/plain": [
       "K&A    LAKSHADWEEP\n",
       "dtype: object"
      ]
     },
     "execution_count": 22,
     "metadata": {},
     "output_type": "execute_result"
    }
   ],
   "source": [
    "gb = df[df['Year'].between(2001, 2003)].groupby(['State'])\n",
    "gb.agg({'K&A' : np.sum}).idxmin()"
   ]
  },
  {
   "cell_type": "markdown",
   "id": "5acec4fd-f740-49a8-a5d8-562d358239c9",
   "metadata": {},
   "source": [
    "5. Перечислите районы в которых наблюдались наиболее частые случае домашнего насилия за период с 2005 по 2012 года"
   ]
  },
  {
   "cell_type": "code",
   "execution_count": 23,
   "id": "cac8daef-f4e8-4c8b-b7f4-d41a6adf35ed",
   "metadata": {},
   "outputs": [
    {
     "data": {
      "text/html": [
       "<div>\n",
       "<style scoped>\n",
       "    .dataframe tbody tr th:only-of-type {\n",
       "        vertical-align: middle;\n",
       "    }\n",
       "\n",
       "    .dataframe tbody tr th {\n",
       "        vertical-align: top;\n",
       "    }\n",
       "\n",
       "    .dataframe thead th {\n",
       "        text-align: right;\n",
       "    }\n",
       "</style>\n",
       "<table border=\"1\" class=\"dataframe\">\n",
       "  <thead>\n",
       "    <tr style=\"text-align: right;\">\n",
       "      <th></th>\n",
       "      <th>DV</th>\n",
       "    </tr>\n",
       "    <tr>\n",
       "      <th>State</th>\n",
       "      <th></th>\n",
       "    </tr>\n",
       "  </thead>\n",
       "  <tbody>\n",
       "    <tr>\n",
       "      <th>UTTAR PRADESH</th>\n",
       "      <td>42215</td>\n",
       "    </tr>\n",
       "    <tr>\n",
       "      <th>MAHARASHTRA</th>\n",
       "      <td>43271</td>\n",
       "    </tr>\n",
       "    <tr>\n",
       "      <th>RAJASTHAN</th>\n",
       "      <td>50834</td>\n",
       "    </tr>\n",
       "    <tr>\n",
       "      <th>ANDHRA PRADESH</th>\n",
       "      <td>62878</td>\n",
       "    </tr>\n",
       "    <tr>\n",
       "      <th>WEST BENGAL</th>\n",
       "      <td>71821</td>\n",
       "    </tr>\n",
       "  </tbody>\n",
       "</table>\n",
       "</div>"
      ],
      "text/plain": [
       "                   DV\n",
       "State                \n",
       "UTTAR PRADESH   42215\n",
       "MAHARASHTRA     43271\n",
       "RAJASTHAN       50834\n",
       "ANDHRA PRADESH  62878\n",
       "WEST BENGAL     71821"
      ]
     },
     "execution_count": 23,
     "metadata": {},
     "output_type": "execute_result"
    }
   ],
   "source": [
    "gb = df[df['Year'].between(2005, 2012)].groupby(['State'])\n",
    "gb.agg({'DV' : np.sum}).sort_values(by='DV').tail()"
   ]
  },
  {
   "cell_type": "markdown",
   "id": "8d6171a9-0f75-4f3e-ac54-95d03d1f70b6",
   "metadata": {},
   "source": [
    "6. Выведите названия районов в порядке не возрастания случаев торговли женщинами за 2020 год"
   ]
  },
  {
   "cell_type": "code",
   "execution_count": 24,
   "id": "c64d0892-2fb8-4304-966c-5cbb32b03c0a",
   "metadata": {},
   "outputs": [
    {
     "data": {
      "text/html": [
       "<div>\n",
       "<style scoped>\n",
       "    .dataframe tbody tr th:only-of-type {\n",
       "        vertical-align: middle;\n",
       "    }\n",
       "\n",
       "    .dataframe tbody tr th {\n",
       "        vertical-align: top;\n",
       "    }\n",
       "\n",
       "    .dataframe thead th {\n",
       "        text-align: right;\n",
       "    }\n",
       "</style>\n",
       "<table border=\"1\" class=\"dataframe\">\n",
       "  <thead>\n",
       "    <tr style=\"text-align: right;\">\n",
       "      <th></th>\n",
       "      <th>WT</th>\n",
       "    </tr>\n",
       "    <tr>\n",
       "      <th>State</th>\n",
       "      <th></th>\n",
       "    </tr>\n",
       "  </thead>\n",
       "  <tbody>\n",
       "    <tr>\n",
       "      <th>Sikkim</th>\n",
       "      <td>231</td>\n",
       "    </tr>\n",
       "    <tr>\n",
       "      <th>Jharkhand</th>\n",
       "      <td>159</td>\n",
       "    </tr>\n",
       "    <tr>\n",
       "      <th>Madhya Pradesh</th>\n",
       "      <td>85</td>\n",
       "    </tr>\n",
       "    <tr>\n",
       "      <th>Punjab</th>\n",
       "      <td>67</td>\n",
       "    </tr>\n",
       "    <tr>\n",
       "      <th>Uttarakhand</th>\n",
       "      <td>52</td>\n",
       "    </tr>\n",
       "    <tr>\n",
       "      <th>Andhra Pradesh</th>\n",
       "      <td>48</td>\n",
       "    </tr>\n",
       "    <tr>\n",
       "      <th>Gujarat</th>\n",
       "      <td>47</td>\n",
       "    </tr>\n",
       "    <tr>\n",
       "      <th>Bihar</th>\n",
       "      <td>30</td>\n",
       "    </tr>\n",
       "    <tr>\n",
       "      <th>Haryana</th>\n",
       "      <td>28</td>\n",
       "    </tr>\n",
       "    <tr>\n",
       "      <th>Tripura</th>\n",
       "      <td>25</td>\n",
       "    </tr>\n",
       "    <tr>\n",
       "      <th>Nagaland</th>\n",
       "      <td>19</td>\n",
       "    </tr>\n",
       "    <tr>\n",
       "      <th>Assam</th>\n",
       "      <td>18</td>\n",
       "    </tr>\n",
       "    <tr>\n",
       "      <th>Kerala</th>\n",
       "      <td>14</td>\n",
       "    </tr>\n",
       "    <tr>\n",
       "      <th>Tamil Nadu</th>\n",
       "      <td>13</td>\n",
       "    </tr>\n",
       "    <tr>\n",
       "      <th>Odisha</th>\n",
       "      <td>11</td>\n",
       "    </tr>\n",
       "    <tr>\n",
       "      <th>Uttar Pradesh</th>\n",
       "      <td>8</td>\n",
       "    </tr>\n",
       "    <tr>\n",
       "      <th>Karnataka</th>\n",
       "      <td>5</td>\n",
       "    </tr>\n",
       "    <tr>\n",
       "      <th>D&amp;N Haveli</th>\n",
       "      <td>3</td>\n",
       "    </tr>\n",
       "    <tr>\n",
       "      <th>Chhattisgarh</th>\n",
       "      <td>3</td>\n",
       "    </tr>\n",
       "    <tr>\n",
       "      <th>Jammu &amp; Kashmir</th>\n",
       "      <td>2</td>\n",
       "    </tr>\n",
       "    <tr>\n",
       "      <th>Telangana</th>\n",
       "      <td>0</td>\n",
       "    </tr>\n",
       "    <tr>\n",
       "      <th>Rajasthan</th>\n",
       "      <td>0</td>\n",
       "    </tr>\n",
       "    <tr>\n",
       "      <th>Puducherry</th>\n",
       "      <td>0</td>\n",
       "    </tr>\n",
       "    <tr>\n",
       "      <th>A &amp; N Islands</th>\n",
       "      <td>0</td>\n",
       "    </tr>\n",
       "    <tr>\n",
       "      <th>Lakshadweep</th>\n",
       "      <td>0</td>\n",
       "    </tr>\n",
       "    <tr>\n",
       "      <th>Mizoram</th>\n",
       "      <td>0</td>\n",
       "    </tr>\n",
       "    <tr>\n",
       "      <th>Meghalaya</th>\n",
       "      <td>0</td>\n",
       "    </tr>\n",
       "    <tr>\n",
       "      <th>Manipur</th>\n",
       "      <td>0</td>\n",
       "    </tr>\n",
       "    <tr>\n",
       "      <th>Maharashtra</th>\n",
       "      <td>0</td>\n",
       "    </tr>\n",
       "    <tr>\n",
       "      <th>Himachal Pradesh</th>\n",
       "      <td>0</td>\n",
       "    </tr>\n",
       "    <tr>\n",
       "      <th>Goa</th>\n",
       "      <td>0</td>\n",
       "    </tr>\n",
       "    <tr>\n",
       "      <th>Delhi UT</th>\n",
       "      <td>0</td>\n",
       "    </tr>\n",
       "    <tr>\n",
       "      <th>Daman &amp; Diu</th>\n",
       "      <td>0</td>\n",
       "    </tr>\n",
       "    <tr>\n",
       "      <th>Chandigarh</th>\n",
       "      <td>0</td>\n",
       "    </tr>\n",
       "    <tr>\n",
       "      <th>Arunachal Pradesh</th>\n",
       "      <td>0</td>\n",
       "    </tr>\n",
       "    <tr>\n",
       "      <th>West Bengal</th>\n",
       "      <td>0</td>\n",
       "    </tr>\n",
       "  </tbody>\n",
       "</table>\n",
       "</div>"
      ],
      "text/plain": [
       "                    WT\n",
       "State                 \n",
       "Sikkim             231\n",
       "Jharkhand          159\n",
       "Madhya Pradesh      85\n",
       "Punjab              67\n",
       "Uttarakhand         52\n",
       "Andhra Pradesh      48\n",
       "Gujarat             47\n",
       "Bihar               30\n",
       "Haryana             28\n",
       "Tripura             25\n",
       "Nagaland            19\n",
       "Assam               18\n",
       "Kerala              14\n",
       "Tamil Nadu          13\n",
       "Odisha              11\n",
       "Uttar Pradesh        8\n",
       "Karnataka            5\n",
       "D&N Haveli           3\n",
       "Chhattisgarh         3\n",
       "Jammu & Kashmir      2\n",
       "Telangana            0\n",
       "Rajasthan            0\n",
       "Puducherry           0\n",
       "A & N Islands        0\n",
       "Lakshadweep          0\n",
       "Mizoram              0\n",
       "Meghalaya            0\n",
       "Manipur              0\n",
       "Maharashtra          0\n",
       "Himachal Pradesh     0\n",
       "Goa                  0\n",
       "Delhi UT             0\n",
       "Daman & Diu          0\n",
       "Chandigarh           0\n",
       "Arunachal Pradesh    0\n",
       "West Bengal          0"
      ]
     },
     "execution_count": 24,
     "metadata": {},
     "output_type": "execute_result"
    }
   ],
   "source": [
    "gb = df[df['Year'] == 2020].groupby('State')\n",
    "gb.agg({'WT' : np.sum}).sort_values(by='WT', ascending=False)"
   ]
  },
  {
   "cell_type": "markdown",
   "id": "a24c2f59-eeaf-47fd-8224-1023d1a8edeb",
   "metadata": {},
   "source": [
    "Перейдем к следующему набору данных.\n",
    "\n",
    "Файл: `CustomerPurchasingBehaviors.csv`\n",
    "\n",
    "Этот набор данных содержит информацию о профилях клиентов и их покупательском поведении. Данные содержат столбцы, содержащие идентификатор пользователя, возраст, годовой доход, сумму покупки, показатель лояльности (в разбивке по классам), регион и частоту покупок. Он предназначен для анализа тенденций сегментации клиентов и лояльности и может быть использован для различных задач машинного обучения и анализа данных, связанных с поведением клиентов и исследованиями рынка.\n",
    "\n",
    "```\n",
    "user_id - ID клиента\n",
    "age - Возраст\n",
    "annual_income - Годовой доход клиента (в долларах США).\n",
    "purchase_amount - Общая сумма покупок, совершенных клиентом (в долларах США).\n",
    "loyalty_score - Показатель лояльности клиента (значение от 0 до 100).\n",
    "region - Регион, в котором проживает клиент (Север, Юг, Восток, Запад).\n",
    "purchase_frequency - Частота покупок клиентов (количество раз в год).\n",
    "```"
   ]
  },
  {
   "cell_type": "code",
   "execution_count": 25,
   "id": "7407fc92-f656-44b4-bc3a-b86d0a8664ea",
   "metadata": {},
   "outputs": [
    {
     "data": {
      "text/html": [
       "<div>\n",
       "<style scoped>\n",
       "    .dataframe tbody tr th:only-of-type {\n",
       "        vertical-align: middle;\n",
       "    }\n",
       "\n",
       "    .dataframe tbody tr th {\n",
       "        vertical-align: top;\n",
       "    }\n",
       "\n",
       "    .dataframe thead th {\n",
       "        text-align: right;\n",
       "    }\n",
       "</style>\n",
       "<table border=\"1\" class=\"dataframe\">\n",
       "  <thead>\n",
       "    <tr style=\"text-align: right;\">\n",
       "      <th></th>\n",
       "      <th>user_id</th>\n",
       "      <th>age</th>\n",
       "      <th>annual_income</th>\n",
       "      <th>purchase_amount</th>\n",
       "      <th>loyalty_score</th>\n",
       "      <th>region</th>\n",
       "      <th>purchase_frequency</th>\n",
       "    </tr>\n",
       "  </thead>\n",
       "  <tbody>\n",
       "    <tr>\n",
       "      <th>0</th>\n",
       "      <td>1</td>\n",
       "      <td>25</td>\n",
       "      <td>45000</td>\n",
       "      <td>200</td>\n",
       "      <td>4.5</td>\n",
       "      <td>North</td>\n",
       "      <td>12</td>\n",
       "    </tr>\n",
       "    <tr>\n",
       "      <th>1</th>\n",
       "      <td>2</td>\n",
       "      <td>34</td>\n",
       "      <td>55000</td>\n",
       "      <td>350</td>\n",
       "      <td>7.0</td>\n",
       "      <td>South</td>\n",
       "      <td>18</td>\n",
       "    </tr>\n",
       "    <tr>\n",
       "      <th>2</th>\n",
       "      <td>3</td>\n",
       "      <td>45</td>\n",
       "      <td>65000</td>\n",
       "      <td>500</td>\n",
       "      <td>8.0</td>\n",
       "      <td>West</td>\n",
       "      <td>22</td>\n",
       "    </tr>\n",
       "    <tr>\n",
       "      <th>3</th>\n",
       "      <td>4</td>\n",
       "      <td>22</td>\n",
       "      <td>30000</td>\n",
       "      <td>150</td>\n",
       "      <td>3.0</td>\n",
       "      <td>East</td>\n",
       "      <td>10</td>\n",
       "    </tr>\n",
       "    <tr>\n",
       "      <th>4</th>\n",
       "      <td>5</td>\n",
       "      <td>29</td>\n",
       "      <td>47000</td>\n",
       "      <td>220</td>\n",
       "      <td>4.8</td>\n",
       "      <td>North</td>\n",
       "      <td>13</td>\n",
       "    </tr>\n",
       "  </tbody>\n",
       "</table>\n",
       "</div>"
      ],
      "text/plain": [
       "   user_id  age  annual_income  purchase_amount  loyalty_score region   \n",
       "0        1   25          45000              200            4.5  North  \\\n",
       "1        2   34          55000              350            7.0  South   \n",
       "2        3   45          65000              500            8.0   West   \n",
       "3        4   22          30000              150            3.0   East   \n",
       "4        5   29          47000              220            4.8  North   \n",
       "\n",
       "   purchase_frequency  \n",
       "0                  12  \n",
       "1                  18  \n",
       "2                  22  \n",
       "3                  10  \n",
       "4                  13  "
      ]
     },
     "execution_count": 25,
     "metadata": {},
     "output_type": "execute_result"
    }
   ],
   "source": [
    "# Load dataset here\n",
    "df = pd.read_csv('CustomerPurchasingBehaviors.csv')\n",
    "df.head()"
   ]
  },
  {
   "cell_type": "markdown",
   "id": "1d447d6e-cfde-411c-9078-cd8f41f02d8b",
   "metadata": {},
   "source": [
    "8. Какой средний годовой доход у клиентов с уровнем лояльности больше 50 живущих на севере \\\n",
    "   (Тут, видимо, ошибка, потому что уровень лояльности клиентов в датасете от 3 до 9.5)"
   ]
  },
  {
   "cell_type": "code",
   "execution_count": 26,
   "id": "b339c0ba",
   "metadata": {},
   "outputs": [
    {
     "data": {
      "text/plain": [
       "count    238.00\n",
       "mean       6.79\n",
       "std        1.90\n",
       "min        3.00\n",
       "25%        5.50\n",
       "50%        7.00\n",
       "75%        8.28\n",
       "max        9.50\n",
       "Name: loyalty_score, dtype: float64"
      ]
     },
     "execution_count": 26,
     "metadata": {},
     "output_type": "execute_result"
    }
   ],
   "source": [
    "df['loyalty_score'].describe()"
   ]
  },
  {
   "cell_type": "code",
   "execution_count": 27,
   "id": "b30df6b1-5eca-43da-a115-1c1a3cbfd899",
   "metadata": {},
   "outputs": [
    {
     "data": {
      "text/plain": [
       "60146.34146341463"
      ]
     },
     "execution_count": 27,
     "metadata": {},
     "output_type": "execute_result"
    }
   ],
   "source": [
    "df[(df['region'] == 'North') & (5.0 < df['loyalty_score'])]['annual_income'].mean()"
   ]
  },
  {
   "cell_type": "markdown",
   "id": "c41d5d99-65f7-4d17-82ae-971ec959f327",
   "metadata": {},
   "source": [
    "9. Выведите 25 и 75 перцентили уровня лоальности клиентов живущих на западе с частотой покупок более 20 раз в год"
   ]
  },
  {
   "cell_type": "code",
   "execution_count": 28,
   "id": "275bcc04-659b-4521-a9e5-200a5f4ef674",
   "metadata": {},
   "outputs": [
    {
     "name": "stdout",
     "output_type": "stream",
     "text": [
      "8.5 9.2\n"
     ]
    }
   ],
   "source": [
    "cut = df[(df['region'] == 'West') & (20 < df['purchase_frequency'])]\n",
    "ls = cut['loyalty_score']\n",
    "print(ls.quantile(0.25), ls.quantile(0.75))"
   ]
  },
  {
   "cell_type": "markdown",
   "id": "a1f7a5c0-259c-4837-a5d1-2dfc05e7c13e",
   "metadata": {},
   "source": [
    "10. Отличается ли медианный возраст клиентов с уровнем лояльности более 70 и менее 10 для жителей Востока и Севера."
   ]
  },
  {
   "cell_type": "code",
   "execution_count": 29,
   "id": "a2da4d57-edb4-4179-8bee-3deda6cd00e6",
   "metadata": {},
   "outputs": [
    {
     "data": {
      "text/html": [
       "<div>\n",
       "<style scoped>\n",
       "    .dataframe tbody tr th:only-of-type {\n",
       "        vertical-align: middle;\n",
       "    }\n",
       "\n",
       "    .dataframe tbody tr th {\n",
       "        vertical-align: top;\n",
       "    }\n",
       "\n",
       "    .dataframe thead th {\n",
       "        text-align: right;\n",
       "    }\n",
       "</style>\n",
       "<table border=\"1\" class=\"dataframe\">\n",
       "  <thead>\n",
       "    <tr style=\"text-align: right;\">\n",
       "      <th></th>\n",
       "      <th>user_id</th>\n",
       "      <th>age</th>\n",
       "      <th>annual_income</th>\n",
       "      <th>purchase_amount</th>\n",
       "      <th>loyalty_score</th>\n",
       "      <th>purchase_frequency</th>\n",
       "    </tr>\n",
       "  </thead>\n",
       "  <tbody>\n",
       "    <tr>\n",
       "      <th>count</th>\n",
       "      <td>83.00</td>\n",
       "      <td>83.00</td>\n",
       "      <td>83.00</td>\n",
       "      <td>83.00</td>\n",
       "      <td>83.00</td>\n",
       "      <td>83.00</td>\n",
       "    </tr>\n",
       "    <tr>\n",
       "      <th>mean</th>\n",
       "      <td>115.02</td>\n",
       "      <td>43.36</td>\n",
       "      <td>63036.14</td>\n",
       "      <td>496.75</td>\n",
       "      <td>7.73</td>\n",
       "      <td>22.12</td>\n",
       "    </tr>\n",
       "    <tr>\n",
       "      <th>std</th>\n",
       "      <td>70.77</td>\n",
       "      <td>8.75</td>\n",
       "      <td>9758.61</td>\n",
       "      <td>123.91</td>\n",
       "      <td>1.61</td>\n",
       "      <td>4.00</td>\n",
       "    </tr>\n",
       "    <tr>\n",
       "      <th>min</th>\n",
       "      <td>3.00</td>\n",
       "      <td>22.00</td>\n",
       "      <td>30000.00</td>\n",
       "      <td>150.00</td>\n",
       "      <td>3.00</td>\n",
       "      <td>10.00</td>\n",
       "    </tr>\n",
       "    <tr>\n",
       "      <th>25%</th>\n",
       "      <td>52.50</td>\n",
       "      <td>37.00</td>\n",
       "      <td>58000.00</td>\n",
       "      <td>420.00</td>\n",
       "      <td>6.80</td>\n",
       "      <td>20.00</td>\n",
       "    </tr>\n",
       "    <tr>\n",
       "      <th>50%</th>\n",
       "      <td>114.00</td>\n",
       "      <td>48.00</td>\n",
       "      <td>68000.00</td>\n",
       "      <td>550.00</td>\n",
       "      <td>8.50</td>\n",
       "      <td>24.00</td>\n",
       "    </tr>\n",
       "    <tr>\n",
       "      <th>75%</th>\n",
       "      <td>175.50</td>\n",
       "      <td>50.50</td>\n",
       "      <td>70500.00</td>\n",
       "      <td>600.00</td>\n",
       "      <td>9.00</td>\n",
       "      <td>25.00</td>\n",
       "    </tr>\n",
       "    <tr>\n",
       "      <th>max</th>\n",
       "      <td>237.00</td>\n",
       "      <td>55.00</td>\n",
       "      <td>75000.00</td>\n",
       "      <td>640.00</td>\n",
       "      <td>9.50</td>\n",
       "      <td>28.00</td>\n",
       "    </tr>\n",
       "  </tbody>\n",
       "</table>\n",
       "</div>"
      ],
      "text/plain": [
       "       user_id    age  annual_income  purchase_amount  loyalty_score   \n",
       "count    83.00  83.00          83.00            83.00          83.00  \\\n",
       "mean    115.02  43.36       63036.14           496.75           7.73   \n",
       "std      70.77   8.75        9758.61           123.91           1.61   \n",
       "min       3.00  22.00       30000.00           150.00           3.00   \n",
       "25%      52.50  37.00       58000.00           420.00           6.80   \n",
       "50%     114.00  48.00       68000.00           550.00           8.50   \n",
       "75%     175.50  50.50       70500.00           600.00           9.00   \n",
       "max     237.00  55.00       75000.00           640.00           9.50   \n",
       "\n",
       "       purchase_frequency  \n",
       "count               83.00  \n",
       "mean                22.12  \n",
       "std                  4.00  \n",
       "min                 10.00  \n",
       "25%                 20.00  \n",
       "50%                 24.00  \n",
       "75%                 25.00  \n",
       "max                 28.00  "
      ]
     },
     "execution_count": 29,
     "metadata": {},
     "output_type": "execute_result"
    }
   ],
   "source": [
    "cut = df[(df['region'] == 'West') | (df['region'] == 'East')]\n",
    "cut.describe()\n",
    "# В датасете нет данных о клиентах с уровнем лояльности меньше 10 :("
   ]
  },
  {
   "cell_type": "markdown",
   "id": "deb4ca3a-3d8a-4205-bee9-d26fd28638b2",
   "metadata": {},
   "source": [
    "### 3. Визуализация"
   ]
  },
  {
   "cell_type": "markdown",
   "id": "f8941ce1-cbf2-465a-b013-1b84aeb999ef",
   "metadata": {},
   "source": [
    "Используя библиотеки matplotlib/sns/plotly/pandas и набор данных представленный ранее визуализируйте"
   ]
  },
  {
   "cell_type": "code",
   "execution_count": 30,
   "id": "d84ae5c1",
   "metadata": {},
   "outputs": [],
   "source": [
    "import plotly.graph_objects as go\n",
    "import plotly.express as px"
   ]
  },
  {
   "cell_type": "markdown",
   "id": "5e98ce6f-8d02-4120-ad85-241494c038d6",
   "metadata": {},
   "source": [
    "1. Постройте диаграмму которая отражает средний уровень лояльности во всех регионах"
   ]
  },
  {
   "cell_type": "code",
   "execution_count": 31,
   "id": "664666b2-17b7-49dd-a3bd-c4be9361755d",
   "metadata": {},
   "outputs": [
    {
     "data": {
      "application/vnd.plotly.v1+json": {
       "config": {
        "plotlyServerURL": "https://plot.ly"
       },
       "data": [
        {
         "name": "East",
         "type": "bar",
         "x": [
          "East"
         ],
         "y": [
          5.400000000000001
         ]
        },
        {
         "name": "North",
         "type": "bar",
         "x": [
          "North"
         ],
         "y": [
          5.865384615384615
         ]
        },
        {
         "name": "South",
         "type": "bar",
         "x": [
          "South"
         ],
         "y": [
          6.7259740259740255
         ]
        },
        {
         "name": "West",
         "type": "bar",
         "x": [
          "West"
         ],
         "y": [
          7.911688311688312
         ]
        }
       ],
       "layout": {
        "template": {
         "data": {
          "bar": [
           {
            "error_x": {
             "color": "#2a3f5f"
            },
            "error_y": {
             "color": "#2a3f5f"
            },
            "marker": {
             "line": {
              "color": "#E5ECF6",
              "width": 0.5
             },
             "pattern": {
              "fillmode": "overlay",
              "size": 10,
              "solidity": 0.2
             }
            },
            "type": "bar"
           }
          ],
          "barpolar": [
           {
            "marker": {
             "line": {
              "color": "#E5ECF6",
              "width": 0.5
             },
             "pattern": {
              "fillmode": "overlay",
              "size": 10,
              "solidity": 0.2
             }
            },
            "type": "barpolar"
           }
          ],
          "carpet": [
           {
            "aaxis": {
             "endlinecolor": "#2a3f5f",
             "gridcolor": "white",
             "linecolor": "white",
             "minorgridcolor": "white",
             "startlinecolor": "#2a3f5f"
            },
            "baxis": {
             "endlinecolor": "#2a3f5f",
             "gridcolor": "white",
             "linecolor": "white",
             "minorgridcolor": "white",
             "startlinecolor": "#2a3f5f"
            },
            "type": "carpet"
           }
          ],
          "choropleth": [
           {
            "colorbar": {
             "outlinewidth": 0,
             "ticks": ""
            },
            "type": "choropleth"
           }
          ],
          "contour": [
           {
            "colorbar": {
             "outlinewidth": 0,
             "ticks": ""
            },
            "colorscale": [
             [
              0,
              "#0d0887"
             ],
             [
              0.1111111111111111,
              "#46039f"
             ],
             [
              0.2222222222222222,
              "#7201a8"
             ],
             [
              0.3333333333333333,
              "#9c179e"
             ],
             [
              0.4444444444444444,
              "#bd3786"
             ],
             [
              0.5555555555555556,
              "#d8576b"
             ],
             [
              0.6666666666666666,
              "#ed7953"
             ],
             [
              0.7777777777777778,
              "#fb9f3a"
             ],
             [
              0.8888888888888888,
              "#fdca26"
             ],
             [
              1,
              "#f0f921"
             ]
            ],
            "type": "contour"
           }
          ],
          "contourcarpet": [
           {
            "colorbar": {
             "outlinewidth": 0,
             "ticks": ""
            },
            "type": "contourcarpet"
           }
          ],
          "heatmap": [
           {
            "colorbar": {
             "outlinewidth": 0,
             "ticks": ""
            },
            "colorscale": [
             [
              0,
              "#0d0887"
             ],
             [
              0.1111111111111111,
              "#46039f"
             ],
             [
              0.2222222222222222,
              "#7201a8"
             ],
             [
              0.3333333333333333,
              "#9c179e"
             ],
             [
              0.4444444444444444,
              "#bd3786"
             ],
             [
              0.5555555555555556,
              "#d8576b"
             ],
             [
              0.6666666666666666,
              "#ed7953"
             ],
             [
              0.7777777777777778,
              "#fb9f3a"
             ],
             [
              0.8888888888888888,
              "#fdca26"
             ],
             [
              1,
              "#f0f921"
             ]
            ],
            "type": "heatmap"
           }
          ],
          "heatmapgl": [
           {
            "colorbar": {
             "outlinewidth": 0,
             "ticks": ""
            },
            "colorscale": [
             [
              0,
              "#0d0887"
             ],
             [
              0.1111111111111111,
              "#46039f"
             ],
             [
              0.2222222222222222,
              "#7201a8"
             ],
             [
              0.3333333333333333,
              "#9c179e"
             ],
             [
              0.4444444444444444,
              "#bd3786"
             ],
             [
              0.5555555555555556,
              "#d8576b"
             ],
             [
              0.6666666666666666,
              "#ed7953"
             ],
             [
              0.7777777777777778,
              "#fb9f3a"
             ],
             [
              0.8888888888888888,
              "#fdca26"
             ],
             [
              1,
              "#f0f921"
             ]
            ],
            "type": "heatmapgl"
           }
          ],
          "histogram": [
           {
            "marker": {
             "pattern": {
              "fillmode": "overlay",
              "size": 10,
              "solidity": 0.2
             }
            },
            "type": "histogram"
           }
          ],
          "histogram2d": [
           {
            "colorbar": {
             "outlinewidth": 0,
             "ticks": ""
            },
            "colorscale": [
             [
              0,
              "#0d0887"
             ],
             [
              0.1111111111111111,
              "#46039f"
             ],
             [
              0.2222222222222222,
              "#7201a8"
             ],
             [
              0.3333333333333333,
              "#9c179e"
             ],
             [
              0.4444444444444444,
              "#bd3786"
             ],
             [
              0.5555555555555556,
              "#d8576b"
             ],
             [
              0.6666666666666666,
              "#ed7953"
             ],
             [
              0.7777777777777778,
              "#fb9f3a"
             ],
             [
              0.8888888888888888,
              "#fdca26"
             ],
             [
              1,
              "#f0f921"
             ]
            ],
            "type": "histogram2d"
           }
          ],
          "histogram2dcontour": [
           {
            "colorbar": {
             "outlinewidth": 0,
             "ticks": ""
            },
            "colorscale": [
             [
              0,
              "#0d0887"
             ],
             [
              0.1111111111111111,
              "#46039f"
             ],
             [
              0.2222222222222222,
              "#7201a8"
             ],
             [
              0.3333333333333333,
              "#9c179e"
             ],
             [
              0.4444444444444444,
              "#bd3786"
             ],
             [
              0.5555555555555556,
              "#d8576b"
             ],
             [
              0.6666666666666666,
              "#ed7953"
             ],
             [
              0.7777777777777778,
              "#fb9f3a"
             ],
             [
              0.8888888888888888,
              "#fdca26"
             ],
             [
              1,
              "#f0f921"
             ]
            ],
            "type": "histogram2dcontour"
           }
          ],
          "mesh3d": [
           {
            "colorbar": {
             "outlinewidth": 0,
             "ticks": ""
            },
            "type": "mesh3d"
           }
          ],
          "parcoords": [
           {
            "line": {
             "colorbar": {
              "outlinewidth": 0,
              "ticks": ""
             }
            },
            "type": "parcoords"
           }
          ],
          "pie": [
           {
            "automargin": true,
            "type": "pie"
           }
          ],
          "scatter": [
           {
            "fillpattern": {
             "fillmode": "overlay",
             "size": 10,
             "solidity": 0.2
            },
            "type": "scatter"
           }
          ],
          "scatter3d": [
           {
            "line": {
             "colorbar": {
              "outlinewidth": 0,
              "ticks": ""
             }
            },
            "marker": {
             "colorbar": {
              "outlinewidth": 0,
              "ticks": ""
             }
            },
            "type": "scatter3d"
           }
          ],
          "scattercarpet": [
           {
            "marker": {
             "colorbar": {
              "outlinewidth": 0,
              "ticks": ""
             }
            },
            "type": "scattercarpet"
           }
          ],
          "scattergeo": [
           {
            "marker": {
             "colorbar": {
              "outlinewidth": 0,
              "ticks": ""
             }
            },
            "type": "scattergeo"
           }
          ],
          "scattergl": [
           {
            "marker": {
             "colorbar": {
              "outlinewidth": 0,
              "ticks": ""
             }
            },
            "type": "scattergl"
           }
          ],
          "scattermapbox": [
           {
            "marker": {
             "colorbar": {
              "outlinewidth": 0,
              "ticks": ""
             }
            },
            "type": "scattermapbox"
           }
          ],
          "scatterpolar": [
           {
            "marker": {
             "colorbar": {
              "outlinewidth": 0,
              "ticks": ""
             }
            },
            "type": "scatterpolar"
           }
          ],
          "scatterpolargl": [
           {
            "marker": {
             "colorbar": {
              "outlinewidth": 0,
              "ticks": ""
             }
            },
            "type": "scatterpolargl"
           }
          ],
          "scatterternary": [
           {
            "marker": {
             "colorbar": {
              "outlinewidth": 0,
              "ticks": ""
             }
            },
            "type": "scatterternary"
           }
          ],
          "surface": [
           {
            "colorbar": {
             "outlinewidth": 0,
             "ticks": ""
            },
            "colorscale": [
             [
              0,
              "#0d0887"
             ],
             [
              0.1111111111111111,
              "#46039f"
             ],
             [
              0.2222222222222222,
              "#7201a8"
             ],
             [
              0.3333333333333333,
              "#9c179e"
             ],
             [
              0.4444444444444444,
              "#bd3786"
             ],
             [
              0.5555555555555556,
              "#d8576b"
             ],
             [
              0.6666666666666666,
              "#ed7953"
             ],
             [
              0.7777777777777778,
              "#fb9f3a"
             ],
             [
              0.8888888888888888,
              "#fdca26"
             ],
             [
              1,
              "#f0f921"
             ]
            ],
            "type": "surface"
           }
          ],
          "table": [
           {
            "cells": {
             "fill": {
              "color": "#EBF0F8"
             },
             "line": {
              "color": "white"
             }
            },
            "header": {
             "fill": {
              "color": "#C8D4E3"
             },
             "line": {
              "color": "white"
             }
            },
            "type": "table"
           }
          ]
         },
         "layout": {
          "annotationdefaults": {
           "arrowcolor": "#2a3f5f",
           "arrowhead": 0,
           "arrowwidth": 1
          },
          "autotypenumbers": "strict",
          "coloraxis": {
           "colorbar": {
            "outlinewidth": 0,
            "ticks": ""
           }
          },
          "colorscale": {
           "diverging": [
            [
             0,
             "#8e0152"
            ],
            [
             0.1,
             "#c51b7d"
            ],
            [
             0.2,
             "#de77ae"
            ],
            [
             0.3,
             "#f1b6da"
            ],
            [
             0.4,
             "#fde0ef"
            ],
            [
             0.5,
             "#f7f7f7"
            ],
            [
             0.6,
             "#e6f5d0"
            ],
            [
             0.7,
             "#b8e186"
            ],
            [
             0.8,
             "#7fbc41"
            ],
            [
             0.9,
             "#4d9221"
            ],
            [
             1,
             "#276419"
            ]
           ],
           "sequential": [
            [
             0,
             "#0d0887"
            ],
            [
             0.1111111111111111,
             "#46039f"
            ],
            [
             0.2222222222222222,
             "#7201a8"
            ],
            [
             0.3333333333333333,
             "#9c179e"
            ],
            [
             0.4444444444444444,
             "#bd3786"
            ],
            [
             0.5555555555555556,
             "#d8576b"
            ],
            [
             0.6666666666666666,
             "#ed7953"
            ],
            [
             0.7777777777777778,
             "#fb9f3a"
            ],
            [
             0.8888888888888888,
             "#fdca26"
            ],
            [
             1,
             "#f0f921"
            ]
           ],
           "sequentialminus": [
            [
             0,
             "#0d0887"
            ],
            [
             0.1111111111111111,
             "#46039f"
            ],
            [
             0.2222222222222222,
             "#7201a8"
            ],
            [
             0.3333333333333333,
             "#9c179e"
            ],
            [
             0.4444444444444444,
             "#bd3786"
            ],
            [
             0.5555555555555556,
             "#d8576b"
            ],
            [
             0.6666666666666666,
             "#ed7953"
            ],
            [
             0.7777777777777778,
             "#fb9f3a"
            ],
            [
             0.8888888888888888,
             "#fdca26"
            ],
            [
             1,
             "#f0f921"
            ]
           ]
          },
          "colorway": [
           "#636efa",
           "#EF553B",
           "#00cc96",
           "#ab63fa",
           "#FFA15A",
           "#19d3f3",
           "#FF6692",
           "#B6E880",
           "#FF97FF",
           "#FECB52"
          ],
          "font": {
           "color": "#2a3f5f"
          },
          "geo": {
           "bgcolor": "white",
           "lakecolor": "white",
           "landcolor": "#E5ECF6",
           "showlakes": true,
           "showland": true,
           "subunitcolor": "white"
          },
          "hoverlabel": {
           "align": "left"
          },
          "hovermode": "closest",
          "mapbox": {
           "style": "light"
          },
          "paper_bgcolor": "white",
          "plot_bgcolor": "#E5ECF6",
          "polar": {
           "angularaxis": {
            "gridcolor": "white",
            "linecolor": "white",
            "ticks": ""
           },
           "bgcolor": "#E5ECF6",
           "radialaxis": {
            "gridcolor": "white",
            "linecolor": "white",
            "ticks": ""
           }
          },
          "scene": {
           "xaxis": {
            "backgroundcolor": "#E5ECF6",
            "gridcolor": "white",
            "gridwidth": 2,
            "linecolor": "white",
            "showbackground": true,
            "ticks": "",
            "zerolinecolor": "white"
           },
           "yaxis": {
            "backgroundcolor": "#E5ECF6",
            "gridcolor": "white",
            "gridwidth": 2,
            "linecolor": "white",
            "showbackground": true,
            "ticks": "",
            "zerolinecolor": "white"
           },
           "zaxis": {
            "backgroundcolor": "#E5ECF6",
            "gridcolor": "white",
            "gridwidth": 2,
            "linecolor": "white",
            "showbackground": true,
            "ticks": "",
            "zerolinecolor": "white"
           }
          },
          "shapedefaults": {
           "line": {
            "color": "#2a3f5f"
           }
          },
          "ternary": {
           "aaxis": {
            "gridcolor": "white",
            "linecolor": "white",
            "ticks": ""
           },
           "baxis": {
            "gridcolor": "white",
            "linecolor": "white",
            "ticks": ""
           },
           "bgcolor": "#E5ECF6",
           "caxis": {
            "gridcolor": "white",
            "linecolor": "white",
            "ticks": ""
           }
          },
          "title": {
           "x": 0.05
          },
          "xaxis": {
           "automargin": true,
           "gridcolor": "white",
           "linecolor": "white",
           "ticks": "",
           "title": {
            "standoff": 15
           },
           "zerolinecolor": "white",
           "zerolinewidth": 2
          },
          "yaxis": {
           "automargin": true,
           "gridcolor": "white",
           "linecolor": "white",
           "ticks": "",
           "title": {
            "standoff": 15
           },
           "zerolinecolor": "white",
           "zerolinewidth": 2
          }
         }
        },
        "xaxis": {
         "title": {
          "text": "region"
         }
        },
        "yaxis": {
         "title": {
          "text": "average loyalty score"
         }
        }
       }
      }
     },
     "metadata": {},
     "output_type": "display_data"
    }
   ],
   "source": [
    "average_loyalty_score_by_region = df.groupby('region').agg({'loyalty_score' : np.average})\n",
    "average_loyalty_score_by_region\n",
    "fig = go.Figure()\n",
    "for index, row in average_loyalty_score_by_region.iterrows():\n",
    "    fig.add_trace(\n",
    "        go.Bar(x=[row.name], y=[row['loyalty_score']], name=row.name)\n",
    "    )\n",
    "fig.update_xaxes(title_text='region')\n",
    "fig.update_yaxes(title_text='average loyalty score')\n",
    "fig.show()"
   ]
  },
  {
   "cell_type": "markdown",
   "id": "4c7500bb-36ca-4ea7-bc3c-4f15afbd4c41",
   "metadata": {},
   "source": [
    "2. Постройте гистограмму распределения зарплат клиентов на Севере."
   ]
  },
  {
   "cell_type": "code",
   "execution_count": 32,
   "id": "7325e7f8-5f00-4a82-8184-7064505f7ccd",
   "metadata": {},
   "outputs": [
    {
     "data": {
      "application/vnd.plotly.v1+json": {
       "config": {
        "plotlyServerURL": "https://plot.ly"
       },
       "data": [
        {
         "alignmentgroup": "True",
         "bingroup": "x",
         "hovertemplate": "annual_income=%{x}<br>count=%{y}<extra></extra>",
         "legendgroup": "",
         "marker": {
          "color": "#636efa",
          "pattern": {
           "shape": ""
          }
         },
         "name": "",
         "offsetgroup": "",
         "orientation": "v",
         "showlegend": false,
         "type": "histogram",
         "x": [
          45000,
          55000,
          65000,
          30000,
          47000,
          61000,
          54000,
          43000,
          70000,
          50000,
          46000,
          62000,
          53000,
          58000,
          69000,
          31000,
          57000,
          49000,
          66000,
          44000,
          72000,
          32000,
          63000,
          56000,
          59000,
          67000,
          52000,
          48000,
          71000,
          60000,
          55000,
          64000,
          50000,
          43000,
          75000,
          45000,
          68000,
          49000,
          73000,
          46000,
          57000,
          58000,
          66000,
          53000,
          72000,
          47000,
          61000,
          70000,
          54000,
          32000,
          69000,
          44000,
          65000,
          60000,
          59000,
          74000,
          52000,
          51000,
          62000,
          75000,
          46000,
          53000,
          71000,
          43000,
          63000,
          61000,
          70000,
          32000,
          68000,
          49000,
          57000,
          58000,
          66000,
          53000,
          72000,
          46000,
          61000,
          70000,
          54000,
          32000,
          69000,
          44000,
          65000,
          60000,
          59000,
          74000,
          52000,
          51000,
          62000,
          75000,
          46000,
          53000,
          71000,
          43000,
          63000,
          61000,
          70000,
          32000,
          68000,
          49000,
          57000,
          58000,
          66000,
          53000,
          72000,
          46000,
          61000,
          70000,
          54000,
          32000,
          69000,
          44000,
          65000,
          60000,
          59000,
          74000,
          52000,
          51000,
          62000,
          75000,
          46000,
          53000,
          71000,
          43000,
          63000,
          61000,
          70000,
          32000,
          68000,
          49000,
          57000,
          58000,
          66000,
          53000,
          72000,
          46000,
          61000,
          70000,
          54000,
          32000,
          69000,
          44000,
          65000,
          60000,
          59000,
          74000,
          52000,
          51000,
          62000,
          75000,
          46000,
          53000,
          71000,
          43000,
          63000,
          61000,
          70000,
          32000,
          68000,
          49000,
          57000,
          58000,
          66000,
          53000,
          72000,
          46000,
          61000,
          70000,
          54000,
          32000,
          69000,
          44000,
          65000,
          60000,
          59000,
          74000,
          52000,
          51000,
          62000,
          75000,
          46000,
          53000,
          71000,
          43000,
          63000,
          61000,
          70000,
          32000,
          68000,
          49000,
          57000,
          58000,
          66000,
          53000,
          72000,
          46000,
          61000,
          70000,
          54000,
          32000,
          69000,
          44000,
          65000,
          60000,
          59000,
          74000,
          52000,
          51000,
          62000,
          75000,
          46000,
          53000,
          71000,
          43000,
          63000,
          61000,
          70000,
          32000,
          68000,
          49000,
          57000,
          58000,
          66000,
          53000,
          72000,
          46000,
          61000,
          70000,
          54000,
          32000,
          69000,
          44000,
          65000,
          60000,
          59000,
          74000,
          52000,
          51000
         ],
         "xaxis": "x",
         "yaxis": "y"
        }
       ],
       "layout": {
        "barmode": "relative",
        "legend": {
         "tracegroupgap": 0
        },
        "margin": {
         "t": 60
        },
        "template": {
         "data": {
          "bar": [
           {
            "error_x": {
             "color": "#2a3f5f"
            },
            "error_y": {
             "color": "#2a3f5f"
            },
            "marker": {
             "line": {
              "color": "#E5ECF6",
              "width": 0.5
             },
             "pattern": {
              "fillmode": "overlay",
              "size": 10,
              "solidity": 0.2
             }
            },
            "type": "bar"
           }
          ],
          "barpolar": [
           {
            "marker": {
             "line": {
              "color": "#E5ECF6",
              "width": 0.5
             },
             "pattern": {
              "fillmode": "overlay",
              "size": 10,
              "solidity": 0.2
             }
            },
            "type": "barpolar"
           }
          ],
          "carpet": [
           {
            "aaxis": {
             "endlinecolor": "#2a3f5f",
             "gridcolor": "white",
             "linecolor": "white",
             "minorgridcolor": "white",
             "startlinecolor": "#2a3f5f"
            },
            "baxis": {
             "endlinecolor": "#2a3f5f",
             "gridcolor": "white",
             "linecolor": "white",
             "minorgridcolor": "white",
             "startlinecolor": "#2a3f5f"
            },
            "type": "carpet"
           }
          ],
          "choropleth": [
           {
            "colorbar": {
             "outlinewidth": 0,
             "ticks": ""
            },
            "type": "choropleth"
           }
          ],
          "contour": [
           {
            "colorbar": {
             "outlinewidth": 0,
             "ticks": ""
            },
            "colorscale": [
             [
              0,
              "#0d0887"
             ],
             [
              0.1111111111111111,
              "#46039f"
             ],
             [
              0.2222222222222222,
              "#7201a8"
             ],
             [
              0.3333333333333333,
              "#9c179e"
             ],
             [
              0.4444444444444444,
              "#bd3786"
             ],
             [
              0.5555555555555556,
              "#d8576b"
             ],
             [
              0.6666666666666666,
              "#ed7953"
             ],
             [
              0.7777777777777778,
              "#fb9f3a"
             ],
             [
              0.8888888888888888,
              "#fdca26"
             ],
             [
              1,
              "#f0f921"
             ]
            ],
            "type": "contour"
           }
          ],
          "contourcarpet": [
           {
            "colorbar": {
             "outlinewidth": 0,
             "ticks": ""
            },
            "type": "contourcarpet"
           }
          ],
          "heatmap": [
           {
            "colorbar": {
             "outlinewidth": 0,
             "ticks": ""
            },
            "colorscale": [
             [
              0,
              "#0d0887"
             ],
             [
              0.1111111111111111,
              "#46039f"
             ],
             [
              0.2222222222222222,
              "#7201a8"
             ],
             [
              0.3333333333333333,
              "#9c179e"
             ],
             [
              0.4444444444444444,
              "#bd3786"
             ],
             [
              0.5555555555555556,
              "#d8576b"
             ],
             [
              0.6666666666666666,
              "#ed7953"
             ],
             [
              0.7777777777777778,
              "#fb9f3a"
             ],
             [
              0.8888888888888888,
              "#fdca26"
             ],
             [
              1,
              "#f0f921"
             ]
            ],
            "type": "heatmap"
           }
          ],
          "heatmapgl": [
           {
            "colorbar": {
             "outlinewidth": 0,
             "ticks": ""
            },
            "colorscale": [
             [
              0,
              "#0d0887"
             ],
             [
              0.1111111111111111,
              "#46039f"
             ],
             [
              0.2222222222222222,
              "#7201a8"
             ],
             [
              0.3333333333333333,
              "#9c179e"
             ],
             [
              0.4444444444444444,
              "#bd3786"
             ],
             [
              0.5555555555555556,
              "#d8576b"
             ],
             [
              0.6666666666666666,
              "#ed7953"
             ],
             [
              0.7777777777777778,
              "#fb9f3a"
             ],
             [
              0.8888888888888888,
              "#fdca26"
             ],
             [
              1,
              "#f0f921"
             ]
            ],
            "type": "heatmapgl"
           }
          ],
          "histogram": [
           {
            "marker": {
             "pattern": {
              "fillmode": "overlay",
              "size": 10,
              "solidity": 0.2
             }
            },
            "type": "histogram"
           }
          ],
          "histogram2d": [
           {
            "colorbar": {
             "outlinewidth": 0,
             "ticks": ""
            },
            "colorscale": [
             [
              0,
              "#0d0887"
             ],
             [
              0.1111111111111111,
              "#46039f"
             ],
             [
              0.2222222222222222,
              "#7201a8"
             ],
             [
              0.3333333333333333,
              "#9c179e"
             ],
             [
              0.4444444444444444,
              "#bd3786"
             ],
             [
              0.5555555555555556,
              "#d8576b"
             ],
             [
              0.6666666666666666,
              "#ed7953"
             ],
             [
              0.7777777777777778,
              "#fb9f3a"
             ],
             [
              0.8888888888888888,
              "#fdca26"
             ],
             [
              1,
              "#f0f921"
             ]
            ],
            "type": "histogram2d"
           }
          ],
          "histogram2dcontour": [
           {
            "colorbar": {
             "outlinewidth": 0,
             "ticks": ""
            },
            "colorscale": [
             [
              0,
              "#0d0887"
             ],
             [
              0.1111111111111111,
              "#46039f"
             ],
             [
              0.2222222222222222,
              "#7201a8"
             ],
             [
              0.3333333333333333,
              "#9c179e"
             ],
             [
              0.4444444444444444,
              "#bd3786"
             ],
             [
              0.5555555555555556,
              "#d8576b"
             ],
             [
              0.6666666666666666,
              "#ed7953"
             ],
             [
              0.7777777777777778,
              "#fb9f3a"
             ],
             [
              0.8888888888888888,
              "#fdca26"
             ],
             [
              1,
              "#f0f921"
             ]
            ],
            "type": "histogram2dcontour"
           }
          ],
          "mesh3d": [
           {
            "colorbar": {
             "outlinewidth": 0,
             "ticks": ""
            },
            "type": "mesh3d"
           }
          ],
          "parcoords": [
           {
            "line": {
             "colorbar": {
              "outlinewidth": 0,
              "ticks": ""
             }
            },
            "type": "parcoords"
           }
          ],
          "pie": [
           {
            "automargin": true,
            "type": "pie"
           }
          ],
          "scatter": [
           {
            "fillpattern": {
             "fillmode": "overlay",
             "size": 10,
             "solidity": 0.2
            },
            "type": "scatter"
           }
          ],
          "scatter3d": [
           {
            "line": {
             "colorbar": {
              "outlinewidth": 0,
              "ticks": ""
             }
            },
            "marker": {
             "colorbar": {
              "outlinewidth": 0,
              "ticks": ""
             }
            },
            "type": "scatter3d"
           }
          ],
          "scattercarpet": [
           {
            "marker": {
             "colorbar": {
              "outlinewidth": 0,
              "ticks": ""
             }
            },
            "type": "scattercarpet"
           }
          ],
          "scattergeo": [
           {
            "marker": {
             "colorbar": {
              "outlinewidth": 0,
              "ticks": ""
             }
            },
            "type": "scattergeo"
           }
          ],
          "scattergl": [
           {
            "marker": {
             "colorbar": {
              "outlinewidth": 0,
              "ticks": ""
             }
            },
            "type": "scattergl"
           }
          ],
          "scattermapbox": [
           {
            "marker": {
             "colorbar": {
              "outlinewidth": 0,
              "ticks": ""
             }
            },
            "type": "scattermapbox"
           }
          ],
          "scatterpolar": [
           {
            "marker": {
             "colorbar": {
              "outlinewidth": 0,
              "ticks": ""
             }
            },
            "type": "scatterpolar"
           }
          ],
          "scatterpolargl": [
           {
            "marker": {
             "colorbar": {
              "outlinewidth": 0,
              "ticks": ""
             }
            },
            "type": "scatterpolargl"
           }
          ],
          "scatterternary": [
           {
            "marker": {
             "colorbar": {
              "outlinewidth": 0,
              "ticks": ""
             }
            },
            "type": "scatterternary"
           }
          ],
          "surface": [
           {
            "colorbar": {
             "outlinewidth": 0,
             "ticks": ""
            },
            "colorscale": [
             [
              0,
              "#0d0887"
             ],
             [
              0.1111111111111111,
              "#46039f"
             ],
             [
              0.2222222222222222,
              "#7201a8"
             ],
             [
              0.3333333333333333,
              "#9c179e"
             ],
             [
              0.4444444444444444,
              "#bd3786"
             ],
             [
              0.5555555555555556,
              "#d8576b"
             ],
             [
              0.6666666666666666,
              "#ed7953"
             ],
             [
              0.7777777777777778,
              "#fb9f3a"
             ],
             [
              0.8888888888888888,
              "#fdca26"
             ],
             [
              1,
              "#f0f921"
             ]
            ],
            "type": "surface"
           }
          ],
          "table": [
           {
            "cells": {
             "fill": {
              "color": "#EBF0F8"
             },
             "line": {
              "color": "white"
             }
            },
            "header": {
             "fill": {
              "color": "#C8D4E3"
             },
             "line": {
              "color": "white"
             }
            },
            "type": "table"
           }
          ]
         },
         "layout": {
          "annotationdefaults": {
           "arrowcolor": "#2a3f5f",
           "arrowhead": 0,
           "arrowwidth": 1
          },
          "autotypenumbers": "strict",
          "coloraxis": {
           "colorbar": {
            "outlinewidth": 0,
            "ticks": ""
           }
          },
          "colorscale": {
           "diverging": [
            [
             0,
             "#8e0152"
            ],
            [
             0.1,
             "#c51b7d"
            ],
            [
             0.2,
             "#de77ae"
            ],
            [
             0.3,
             "#f1b6da"
            ],
            [
             0.4,
             "#fde0ef"
            ],
            [
             0.5,
             "#f7f7f7"
            ],
            [
             0.6,
             "#e6f5d0"
            ],
            [
             0.7,
             "#b8e186"
            ],
            [
             0.8,
             "#7fbc41"
            ],
            [
             0.9,
             "#4d9221"
            ],
            [
             1,
             "#276419"
            ]
           ],
           "sequential": [
            [
             0,
             "#0d0887"
            ],
            [
             0.1111111111111111,
             "#46039f"
            ],
            [
             0.2222222222222222,
             "#7201a8"
            ],
            [
             0.3333333333333333,
             "#9c179e"
            ],
            [
             0.4444444444444444,
             "#bd3786"
            ],
            [
             0.5555555555555556,
             "#d8576b"
            ],
            [
             0.6666666666666666,
             "#ed7953"
            ],
            [
             0.7777777777777778,
             "#fb9f3a"
            ],
            [
             0.8888888888888888,
             "#fdca26"
            ],
            [
             1,
             "#f0f921"
            ]
           ],
           "sequentialminus": [
            [
             0,
             "#0d0887"
            ],
            [
             0.1111111111111111,
             "#46039f"
            ],
            [
             0.2222222222222222,
             "#7201a8"
            ],
            [
             0.3333333333333333,
             "#9c179e"
            ],
            [
             0.4444444444444444,
             "#bd3786"
            ],
            [
             0.5555555555555556,
             "#d8576b"
            ],
            [
             0.6666666666666666,
             "#ed7953"
            ],
            [
             0.7777777777777778,
             "#fb9f3a"
            ],
            [
             0.8888888888888888,
             "#fdca26"
            ],
            [
             1,
             "#f0f921"
            ]
           ]
          },
          "colorway": [
           "#636efa",
           "#EF553B",
           "#00cc96",
           "#ab63fa",
           "#FFA15A",
           "#19d3f3",
           "#FF6692",
           "#B6E880",
           "#FF97FF",
           "#FECB52"
          ],
          "font": {
           "color": "#2a3f5f"
          },
          "geo": {
           "bgcolor": "white",
           "lakecolor": "white",
           "landcolor": "#E5ECF6",
           "showlakes": true,
           "showland": true,
           "subunitcolor": "white"
          },
          "hoverlabel": {
           "align": "left"
          },
          "hovermode": "closest",
          "mapbox": {
           "style": "light"
          },
          "paper_bgcolor": "white",
          "plot_bgcolor": "#E5ECF6",
          "polar": {
           "angularaxis": {
            "gridcolor": "white",
            "linecolor": "white",
            "ticks": ""
           },
           "bgcolor": "#E5ECF6",
           "radialaxis": {
            "gridcolor": "white",
            "linecolor": "white",
            "ticks": ""
           }
          },
          "scene": {
           "xaxis": {
            "backgroundcolor": "#E5ECF6",
            "gridcolor": "white",
            "gridwidth": 2,
            "linecolor": "white",
            "showbackground": true,
            "ticks": "",
            "zerolinecolor": "white"
           },
           "yaxis": {
            "backgroundcolor": "#E5ECF6",
            "gridcolor": "white",
            "gridwidth": 2,
            "linecolor": "white",
            "showbackground": true,
            "ticks": "",
            "zerolinecolor": "white"
           },
           "zaxis": {
            "backgroundcolor": "#E5ECF6",
            "gridcolor": "white",
            "gridwidth": 2,
            "linecolor": "white",
            "showbackground": true,
            "ticks": "",
            "zerolinecolor": "white"
           }
          },
          "shapedefaults": {
           "line": {
            "color": "#2a3f5f"
           }
          },
          "ternary": {
           "aaxis": {
            "gridcolor": "white",
            "linecolor": "white",
            "ticks": ""
           },
           "baxis": {
            "gridcolor": "white",
            "linecolor": "white",
            "ticks": ""
           },
           "bgcolor": "#E5ECF6",
           "caxis": {
            "gridcolor": "white",
            "linecolor": "white",
            "ticks": ""
           }
          },
          "title": {
           "x": 0.05
          },
          "xaxis": {
           "automargin": true,
           "gridcolor": "white",
           "linecolor": "white",
           "ticks": "",
           "title": {
            "standoff": 15
           },
           "zerolinecolor": "white",
           "zerolinewidth": 2
          },
          "yaxis": {
           "automargin": true,
           "gridcolor": "white",
           "linecolor": "white",
           "ticks": "",
           "title": {
            "standoff": 15
           },
           "zerolinecolor": "white",
           "zerolinewidth": 2
          }
         }
        },
        "xaxis": {
         "anchor": "y",
         "domain": [
          0,
          1
         ],
         "title": {
          "text": "annual_income"
         }
        },
        "yaxis": {
         "anchor": "x",
         "domain": [
          0,
          1
         ],
         "title": {
          "text": "count"
         }
        }
       }
      }
     },
     "metadata": {},
     "output_type": "display_data"
    }
   ],
   "source": [
    "df[df['region'] == 'North']\n",
    "fig = px.histogram(df, x='annual_income')\n",
    "fig.show()\n"
   ]
  },
  {
   "cell_type": "markdown",
   "id": "efdd0669-36e0-4708-ac6b-ad0d92881113",
   "metadata": {},
   "source": [
    "3. Сравните уровни зарплат людей на севере и юге."
   ]
  },
  {
   "cell_type": "code",
   "execution_count": 33,
   "id": "7504a170-04a1-4b86-924d-8d46be16fd3c",
   "metadata": {},
   "outputs": [
    {
     "data": {
      "application/vnd.plotly.v1+json": {
       "config": {
        "plotlyServerURL": "https://plot.ly"
       },
       "data": [
        {
         "name": "From North",
         "type": "histogram",
         "x": [
          45000,
          47000,
          70000,
          62000,
          31000,
          66000,
          63000,
          52000,
          55000,
          43000,
          68000,
          46000,
          66000,
          47000,
          54000,
          44000,
          59000,
          51000,
          46000,
          43000,
          70000,
          49000,
          66000,
          46000,
          54000,
          44000,
          59000,
          51000,
          46000,
          43000,
          70000,
          49000,
          66000,
          46000,
          54000,
          44000,
          59000,
          51000,
          46000,
          43000,
          70000,
          49000,
          66000,
          46000,
          54000,
          44000,
          59000,
          51000,
          46000,
          43000,
          70000,
          49000,
          66000,
          46000,
          54000,
          44000,
          59000,
          51000,
          46000,
          43000,
          70000,
          49000,
          66000,
          46000,
          54000,
          44000,
          59000,
          51000,
          46000,
          43000,
          70000,
          49000,
          66000,
          46000,
          54000,
          44000,
          59000,
          51000
         ]
        },
        {
         "name": "From South",
         "type": "histogram",
         "x": [
          55000,
          61000,
          50000,
          53000,
          57000,
          72000,
          56000,
          48000,
          64000,
          75000,
          49000,
          57000,
          53000,
          61000,
          32000,
          65000,
          74000,
          62000,
          53000,
          63000,
          32000,
          57000,
          53000,
          61000,
          32000,
          65000,
          74000,
          62000,
          53000,
          63000,
          32000,
          57000,
          53000,
          61000,
          32000,
          65000,
          74000,
          62000,
          53000,
          63000,
          32000,
          57000,
          53000,
          61000,
          32000,
          65000,
          74000,
          62000,
          53000,
          63000,
          32000,
          57000,
          53000,
          61000,
          32000,
          65000,
          74000,
          62000,
          53000,
          63000,
          32000,
          57000,
          53000,
          61000,
          32000,
          65000,
          74000,
          62000,
          53000,
          63000,
          32000,
          57000,
          53000,
          61000,
          32000,
          65000,
          74000
         ]
        }
       ],
       "layout": {
        "template": {
         "data": {
          "bar": [
           {
            "error_x": {
             "color": "#2a3f5f"
            },
            "error_y": {
             "color": "#2a3f5f"
            },
            "marker": {
             "line": {
              "color": "#E5ECF6",
              "width": 0.5
             },
             "pattern": {
              "fillmode": "overlay",
              "size": 10,
              "solidity": 0.2
             }
            },
            "type": "bar"
           }
          ],
          "barpolar": [
           {
            "marker": {
             "line": {
              "color": "#E5ECF6",
              "width": 0.5
             },
             "pattern": {
              "fillmode": "overlay",
              "size": 10,
              "solidity": 0.2
             }
            },
            "type": "barpolar"
           }
          ],
          "carpet": [
           {
            "aaxis": {
             "endlinecolor": "#2a3f5f",
             "gridcolor": "white",
             "linecolor": "white",
             "minorgridcolor": "white",
             "startlinecolor": "#2a3f5f"
            },
            "baxis": {
             "endlinecolor": "#2a3f5f",
             "gridcolor": "white",
             "linecolor": "white",
             "minorgridcolor": "white",
             "startlinecolor": "#2a3f5f"
            },
            "type": "carpet"
           }
          ],
          "choropleth": [
           {
            "colorbar": {
             "outlinewidth": 0,
             "ticks": ""
            },
            "type": "choropleth"
           }
          ],
          "contour": [
           {
            "colorbar": {
             "outlinewidth": 0,
             "ticks": ""
            },
            "colorscale": [
             [
              0,
              "#0d0887"
             ],
             [
              0.1111111111111111,
              "#46039f"
             ],
             [
              0.2222222222222222,
              "#7201a8"
             ],
             [
              0.3333333333333333,
              "#9c179e"
             ],
             [
              0.4444444444444444,
              "#bd3786"
             ],
             [
              0.5555555555555556,
              "#d8576b"
             ],
             [
              0.6666666666666666,
              "#ed7953"
             ],
             [
              0.7777777777777778,
              "#fb9f3a"
             ],
             [
              0.8888888888888888,
              "#fdca26"
             ],
             [
              1,
              "#f0f921"
             ]
            ],
            "type": "contour"
           }
          ],
          "contourcarpet": [
           {
            "colorbar": {
             "outlinewidth": 0,
             "ticks": ""
            },
            "type": "contourcarpet"
           }
          ],
          "heatmap": [
           {
            "colorbar": {
             "outlinewidth": 0,
             "ticks": ""
            },
            "colorscale": [
             [
              0,
              "#0d0887"
             ],
             [
              0.1111111111111111,
              "#46039f"
             ],
             [
              0.2222222222222222,
              "#7201a8"
             ],
             [
              0.3333333333333333,
              "#9c179e"
             ],
             [
              0.4444444444444444,
              "#bd3786"
             ],
             [
              0.5555555555555556,
              "#d8576b"
             ],
             [
              0.6666666666666666,
              "#ed7953"
             ],
             [
              0.7777777777777778,
              "#fb9f3a"
             ],
             [
              0.8888888888888888,
              "#fdca26"
             ],
             [
              1,
              "#f0f921"
             ]
            ],
            "type": "heatmap"
           }
          ],
          "heatmapgl": [
           {
            "colorbar": {
             "outlinewidth": 0,
             "ticks": ""
            },
            "colorscale": [
             [
              0,
              "#0d0887"
             ],
             [
              0.1111111111111111,
              "#46039f"
             ],
             [
              0.2222222222222222,
              "#7201a8"
             ],
             [
              0.3333333333333333,
              "#9c179e"
             ],
             [
              0.4444444444444444,
              "#bd3786"
             ],
             [
              0.5555555555555556,
              "#d8576b"
             ],
             [
              0.6666666666666666,
              "#ed7953"
             ],
             [
              0.7777777777777778,
              "#fb9f3a"
             ],
             [
              0.8888888888888888,
              "#fdca26"
             ],
             [
              1,
              "#f0f921"
             ]
            ],
            "type": "heatmapgl"
           }
          ],
          "histogram": [
           {
            "marker": {
             "pattern": {
              "fillmode": "overlay",
              "size": 10,
              "solidity": 0.2
             }
            },
            "type": "histogram"
           }
          ],
          "histogram2d": [
           {
            "colorbar": {
             "outlinewidth": 0,
             "ticks": ""
            },
            "colorscale": [
             [
              0,
              "#0d0887"
             ],
             [
              0.1111111111111111,
              "#46039f"
             ],
             [
              0.2222222222222222,
              "#7201a8"
             ],
             [
              0.3333333333333333,
              "#9c179e"
             ],
             [
              0.4444444444444444,
              "#bd3786"
             ],
             [
              0.5555555555555556,
              "#d8576b"
             ],
             [
              0.6666666666666666,
              "#ed7953"
             ],
             [
              0.7777777777777778,
              "#fb9f3a"
             ],
             [
              0.8888888888888888,
              "#fdca26"
             ],
             [
              1,
              "#f0f921"
             ]
            ],
            "type": "histogram2d"
           }
          ],
          "histogram2dcontour": [
           {
            "colorbar": {
             "outlinewidth": 0,
             "ticks": ""
            },
            "colorscale": [
             [
              0,
              "#0d0887"
             ],
             [
              0.1111111111111111,
              "#46039f"
             ],
             [
              0.2222222222222222,
              "#7201a8"
             ],
             [
              0.3333333333333333,
              "#9c179e"
             ],
             [
              0.4444444444444444,
              "#bd3786"
             ],
             [
              0.5555555555555556,
              "#d8576b"
             ],
             [
              0.6666666666666666,
              "#ed7953"
             ],
             [
              0.7777777777777778,
              "#fb9f3a"
             ],
             [
              0.8888888888888888,
              "#fdca26"
             ],
             [
              1,
              "#f0f921"
             ]
            ],
            "type": "histogram2dcontour"
           }
          ],
          "mesh3d": [
           {
            "colorbar": {
             "outlinewidth": 0,
             "ticks": ""
            },
            "type": "mesh3d"
           }
          ],
          "parcoords": [
           {
            "line": {
             "colorbar": {
              "outlinewidth": 0,
              "ticks": ""
             }
            },
            "type": "parcoords"
           }
          ],
          "pie": [
           {
            "automargin": true,
            "type": "pie"
           }
          ],
          "scatter": [
           {
            "fillpattern": {
             "fillmode": "overlay",
             "size": 10,
             "solidity": 0.2
            },
            "type": "scatter"
           }
          ],
          "scatter3d": [
           {
            "line": {
             "colorbar": {
              "outlinewidth": 0,
              "ticks": ""
             }
            },
            "marker": {
             "colorbar": {
              "outlinewidth": 0,
              "ticks": ""
             }
            },
            "type": "scatter3d"
           }
          ],
          "scattercarpet": [
           {
            "marker": {
             "colorbar": {
              "outlinewidth": 0,
              "ticks": ""
             }
            },
            "type": "scattercarpet"
           }
          ],
          "scattergeo": [
           {
            "marker": {
             "colorbar": {
              "outlinewidth": 0,
              "ticks": ""
             }
            },
            "type": "scattergeo"
           }
          ],
          "scattergl": [
           {
            "marker": {
             "colorbar": {
              "outlinewidth": 0,
              "ticks": ""
             }
            },
            "type": "scattergl"
           }
          ],
          "scattermapbox": [
           {
            "marker": {
             "colorbar": {
              "outlinewidth": 0,
              "ticks": ""
             }
            },
            "type": "scattermapbox"
           }
          ],
          "scatterpolar": [
           {
            "marker": {
             "colorbar": {
              "outlinewidth": 0,
              "ticks": ""
             }
            },
            "type": "scatterpolar"
           }
          ],
          "scatterpolargl": [
           {
            "marker": {
             "colorbar": {
              "outlinewidth": 0,
              "ticks": ""
             }
            },
            "type": "scatterpolargl"
           }
          ],
          "scatterternary": [
           {
            "marker": {
             "colorbar": {
              "outlinewidth": 0,
              "ticks": ""
             }
            },
            "type": "scatterternary"
           }
          ],
          "surface": [
           {
            "colorbar": {
             "outlinewidth": 0,
             "ticks": ""
            },
            "colorscale": [
             [
              0,
              "#0d0887"
             ],
             [
              0.1111111111111111,
              "#46039f"
             ],
             [
              0.2222222222222222,
              "#7201a8"
             ],
             [
              0.3333333333333333,
              "#9c179e"
             ],
             [
              0.4444444444444444,
              "#bd3786"
             ],
             [
              0.5555555555555556,
              "#d8576b"
             ],
             [
              0.6666666666666666,
              "#ed7953"
             ],
             [
              0.7777777777777778,
              "#fb9f3a"
             ],
             [
              0.8888888888888888,
              "#fdca26"
             ],
             [
              1,
              "#f0f921"
             ]
            ],
            "type": "surface"
           }
          ],
          "table": [
           {
            "cells": {
             "fill": {
              "color": "#EBF0F8"
             },
             "line": {
              "color": "white"
             }
            },
            "header": {
             "fill": {
              "color": "#C8D4E3"
             },
             "line": {
              "color": "white"
             }
            },
            "type": "table"
           }
          ]
         },
         "layout": {
          "annotationdefaults": {
           "arrowcolor": "#2a3f5f",
           "arrowhead": 0,
           "arrowwidth": 1
          },
          "autotypenumbers": "strict",
          "coloraxis": {
           "colorbar": {
            "outlinewidth": 0,
            "ticks": ""
           }
          },
          "colorscale": {
           "diverging": [
            [
             0,
             "#8e0152"
            ],
            [
             0.1,
             "#c51b7d"
            ],
            [
             0.2,
             "#de77ae"
            ],
            [
             0.3,
             "#f1b6da"
            ],
            [
             0.4,
             "#fde0ef"
            ],
            [
             0.5,
             "#f7f7f7"
            ],
            [
             0.6,
             "#e6f5d0"
            ],
            [
             0.7,
             "#b8e186"
            ],
            [
             0.8,
             "#7fbc41"
            ],
            [
             0.9,
             "#4d9221"
            ],
            [
             1,
             "#276419"
            ]
           ],
           "sequential": [
            [
             0,
             "#0d0887"
            ],
            [
             0.1111111111111111,
             "#46039f"
            ],
            [
             0.2222222222222222,
             "#7201a8"
            ],
            [
             0.3333333333333333,
             "#9c179e"
            ],
            [
             0.4444444444444444,
             "#bd3786"
            ],
            [
             0.5555555555555556,
             "#d8576b"
            ],
            [
             0.6666666666666666,
             "#ed7953"
            ],
            [
             0.7777777777777778,
             "#fb9f3a"
            ],
            [
             0.8888888888888888,
             "#fdca26"
            ],
            [
             1,
             "#f0f921"
            ]
           ],
           "sequentialminus": [
            [
             0,
             "#0d0887"
            ],
            [
             0.1111111111111111,
             "#46039f"
            ],
            [
             0.2222222222222222,
             "#7201a8"
            ],
            [
             0.3333333333333333,
             "#9c179e"
            ],
            [
             0.4444444444444444,
             "#bd3786"
            ],
            [
             0.5555555555555556,
             "#d8576b"
            ],
            [
             0.6666666666666666,
             "#ed7953"
            ],
            [
             0.7777777777777778,
             "#fb9f3a"
            ],
            [
             0.8888888888888888,
             "#fdca26"
            ],
            [
             1,
             "#f0f921"
            ]
           ]
          },
          "colorway": [
           "#636efa",
           "#EF553B",
           "#00cc96",
           "#ab63fa",
           "#FFA15A",
           "#19d3f3",
           "#FF6692",
           "#B6E880",
           "#FF97FF",
           "#FECB52"
          ],
          "font": {
           "color": "#2a3f5f"
          },
          "geo": {
           "bgcolor": "white",
           "lakecolor": "white",
           "landcolor": "#E5ECF6",
           "showlakes": true,
           "showland": true,
           "subunitcolor": "white"
          },
          "hoverlabel": {
           "align": "left"
          },
          "hovermode": "closest",
          "mapbox": {
           "style": "light"
          },
          "paper_bgcolor": "white",
          "plot_bgcolor": "#E5ECF6",
          "polar": {
           "angularaxis": {
            "gridcolor": "white",
            "linecolor": "white",
            "ticks": ""
           },
           "bgcolor": "#E5ECF6",
           "radialaxis": {
            "gridcolor": "white",
            "linecolor": "white",
            "ticks": ""
           }
          },
          "scene": {
           "xaxis": {
            "backgroundcolor": "#E5ECF6",
            "gridcolor": "white",
            "gridwidth": 2,
            "linecolor": "white",
            "showbackground": true,
            "ticks": "",
            "zerolinecolor": "white"
           },
           "yaxis": {
            "backgroundcolor": "#E5ECF6",
            "gridcolor": "white",
            "gridwidth": 2,
            "linecolor": "white",
            "showbackground": true,
            "ticks": "",
            "zerolinecolor": "white"
           },
           "zaxis": {
            "backgroundcolor": "#E5ECF6",
            "gridcolor": "white",
            "gridwidth": 2,
            "linecolor": "white",
            "showbackground": true,
            "ticks": "",
            "zerolinecolor": "white"
           }
          },
          "shapedefaults": {
           "line": {
            "color": "#2a3f5f"
           }
          },
          "ternary": {
           "aaxis": {
            "gridcolor": "white",
            "linecolor": "white",
            "ticks": ""
           },
           "baxis": {
            "gridcolor": "white",
            "linecolor": "white",
            "ticks": ""
           },
           "bgcolor": "#E5ECF6",
           "caxis": {
            "gridcolor": "white",
            "linecolor": "white",
            "ticks": ""
           }
          },
          "title": {
           "x": 0.05
          },
          "xaxis": {
           "automargin": true,
           "gridcolor": "white",
           "linecolor": "white",
           "ticks": "",
           "title": {
            "standoff": 15
           },
           "zerolinecolor": "white",
           "zerolinewidth": 2
          },
          "yaxis": {
           "automargin": true,
           "gridcolor": "white",
           "linecolor": "white",
           "ticks": "",
           "title": {
            "standoff": 15
           },
           "zerolinecolor": "white",
           "zerolinewidth": 2
          }
         }
        },
        "xaxis": {
         "title": {
          "text": "annual income"
         }
        },
        "yaxis": {
         "title": {
          "text": "count"
         }
        }
       }
      }
     },
     "metadata": {},
     "output_type": "display_data"
    }
   ],
   "source": [
    "from_north = df[df['region'] == 'North']['annual_income']\n",
    "from_south =  df[df['region'] == 'South']['annual_income']\n",
    "fig = go.Figure()\n",
    "fig.add_trace(go.Histogram(x=from_north, name='From North'))\n",
    "fig.add_trace(go.Histogram(x=from_south, name='From South'))\n",
    "fig.update_xaxes(title_text='annual income')\n",
    "fig.update_yaxes(title_text='count')"
   ]
  },
  {
   "cell_type": "markdown",
   "id": "b5839a48-e992-45fc-81ee-59cb5aa79dda",
   "metadata": {},
   "source": [
    "4. Постройте box plot отображающий распределение уровня лояльности для людей до 20 лет, от 20 до 40, от 40 до 60 и старше 60 лет"
   ]
  },
  {
   "cell_type": "code",
   "execution_count": 34,
   "id": "1a942378-45ea-47a0-bac9-488960491613",
   "metadata": {},
   "outputs": [
    {
     "data": {
      "application/vnd.plotly.v1+json": {
       "config": {
        "plotlyServerURL": "https://plot.ly"
       },
       "data": [
        {
         "name": "under 20",
         "type": "bar",
         "x": [
          "< 20"
         ],
         "y": [
          null
         ]
        },
        {
         "name": "from 20 to 40",
         "type": "bar",
         "x": [
          "20-40"
         ],
         "y": [
          5.274399999999998
         ]
        },
        {
         "name": "from 40 to 60",
         "type": "bar",
         "x": [
          "40-60"
         ],
         "y": [
          8.475221238938053
         ]
        },
        {
         "name": "over 60",
         "type": "bar",
         "x": [
          "> 60"
         ],
         "y": [
          null
         ]
        }
       ],
       "layout": {
        "template": {
         "data": {
          "bar": [
           {
            "error_x": {
             "color": "#2a3f5f"
            },
            "error_y": {
             "color": "#2a3f5f"
            },
            "marker": {
             "line": {
              "color": "#E5ECF6",
              "width": 0.5
             },
             "pattern": {
              "fillmode": "overlay",
              "size": 10,
              "solidity": 0.2
             }
            },
            "type": "bar"
           }
          ],
          "barpolar": [
           {
            "marker": {
             "line": {
              "color": "#E5ECF6",
              "width": 0.5
             },
             "pattern": {
              "fillmode": "overlay",
              "size": 10,
              "solidity": 0.2
             }
            },
            "type": "barpolar"
           }
          ],
          "carpet": [
           {
            "aaxis": {
             "endlinecolor": "#2a3f5f",
             "gridcolor": "white",
             "linecolor": "white",
             "minorgridcolor": "white",
             "startlinecolor": "#2a3f5f"
            },
            "baxis": {
             "endlinecolor": "#2a3f5f",
             "gridcolor": "white",
             "linecolor": "white",
             "minorgridcolor": "white",
             "startlinecolor": "#2a3f5f"
            },
            "type": "carpet"
           }
          ],
          "choropleth": [
           {
            "colorbar": {
             "outlinewidth": 0,
             "ticks": ""
            },
            "type": "choropleth"
           }
          ],
          "contour": [
           {
            "colorbar": {
             "outlinewidth": 0,
             "ticks": ""
            },
            "colorscale": [
             [
              0,
              "#0d0887"
             ],
             [
              0.1111111111111111,
              "#46039f"
             ],
             [
              0.2222222222222222,
              "#7201a8"
             ],
             [
              0.3333333333333333,
              "#9c179e"
             ],
             [
              0.4444444444444444,
              "#bd3786"
             ],
             [
              0.5555555555555556,
              "#d8576b"
             ],
             [
              0.6666666666666666,
              "#ed7953"
             ],
             [
              0.7777777777777778,
              "#fb9f3a"
             ],
             [
              0.8888888888888888,
              "#fdca26"
             ],
             [
              1,
              "#f0f921"
             ]
            ],
            "type": "contour"
           }
          ],
          "contourcarpet": [
           {
            "colorbar": {
             "outlinewidth": 0,
             "ticks": ""
            },
            "type": "contourcarpet"
           }
          ],
          "heatmap": [
           {
            "colorbar": {
             "outlinewidth": 0,
             "ticks": ""
            },
            "colorscale": [
             [
              0,
              "#0d0887"
             ],
             [
              0.1111111111111111,
              "#46039f"
             ],
             [
              0.2222222222222222,
              "#7201a8"
             ],
             [
              0.3333333333333333,
              "#9c179e"
             ],
             [
              0.4444444444444444,
              "#bd3786"
             ],
             [
              0.5555555555555556,
              "#d8576b"
             ],
             [
              0.6666666666666666,
              "#ed7953"
             ],
             [
              0.7777777777777778,
              "#fb9f3a"
             ],
             [
              0.8888888888888888,
              "#fdca26"
             ],
             [
              1,
              "#f0f921"
             ]
            ],
            "type": "heatmap"
           }
          ],
          "heatmapgl": [
           {
            "colorbar": {
             "outlinewidth": 0,
             "ticks": ""
            },
            "colorscale": [
             [
              0,
              "#0d0887"
             ],
             [
              0.1111111111111111,
              "#46039f"
             ],
             [
              0.2222222222222222,
              "#7201a8"
             ],
             [
              0.3333333333333333,
              "#9c179e"
             ],
             [
              0.4444444444444444,
              "#bd3786"
             ],
             [
              0.5555555555555556,
              "#d8576b"
             ],
             [
              0.6666666666666666,
              "#ed7953"
             ],
             [
              0.7777777777777778,
              "#fb9f3a"
             ],
             [
              0.8888888888888888,
              "#fdca26"
             ],
             [
              1,
              "#f0f921"
             ]
            ],
            "type": "heatmapgl"
           }
          ],
          "histogram": [
           {
            "marker": {
             "pattern": {
              "fillmode": "overlay",
              "size": 10,
              "solidity": 0.2
             }
            },
            "type": "histogram"
           }
          ],
          "histogram2d": [
           {
            "colorbar": {
             "outlinewidth": 0,
             "ticks": ""
            },
            "colorscale": [
             [
              0,
              "#0d0887"
             ],
             [
              0.1111111111111111,
              "#46039f"
             ],
             [
              0.2222222222222222,
              "#7201a8"
             ],
             [
              0.3333333333333333,
              "#9c179e"
             ],
             [
              0.4444444444444444,
              "#bd3786"
             ],
             [
              0.5555555555555556,
              "#d8576b"
             ],
             [
              0.6666666666666666,
              "#ed7953"
             ],
             [
              0.7777777777777778,
              "#fb9f3a"
             ],
             [
              0.8888888888888888,
              "#fdca26"
             ],
             [
              1,
              "#f0f921"
             ]
            ],
            "type": "histogram2d"
           }
          ],
          "histogram2dcontour": [
           {
            "colorbar": {
             "outlinewidth": 0,
             "ticks": ""
            },
            "colorscale": [
             [
              0,
              "#0d0887"
             ],
             [
              0.1111111111111111,
              "#46039f"
             ],
             [
              0.2222222222222222,
              "#7201a8"
             ],
             [
              0.3333333333333333,
              "#9c179e"
             ],
             [
              0.4444444444444444,
              "#bd3786"
             ],
             [
              0.5555555555555556,
              "#d8576b"
             ],
             [
              0.6666666666666666,
              "#ed7953"
             ],
             [
              0.7777777777777778,
              "#fb9f3a"
             ],
             [
              0.8888888888888888,
              "#fdca26"
             ],
             [
              1,
              "#f0f921"
             ]
            ],
            "type": "histogram2dcontour"
           }
          ],
          "mesh3d": [
           {
            "colorbar": {
             "outlinewidth": 0,
             "ticks": ""
            },
            "type": "mesh3d"
           }
          ],
          "parcoords": [
           {
            "line": {
             "colorbar": {
              "outlinewidth": 0,
              "ticks": ""
             }
            },
            "type": "parcoords"
           }
          ],
          "pie": [
           {
            "automargin": true,
            "type": "pie"
           }
          ],
          "scatter": [
           {
            "fillpattern": {
             "fillmode": "overlay",
             "size": 10,
             "solidity": 0.2
            },
            "type": "scatter"
           }
          ],
          "scatter3d": [
           {
            "line": {
             "colorbar": {
              "outlinewidth": 0,
              "ticks": ""
             }
            },
            "marker": {
             "colorbar": {
              "outlinewidth": 0,
              "ticks": ""
             }
            },
            "type": "scatter3d"
           }
          ],
          "scattercarpet": [
           {
            "marker": {
             "colorbar": {
              "outlinewidth": 0,
              "ticks": ""
             }
            },
            "type": "scattercarpet"
           }
          ],
          "scattergeo": [
           {
            "marker": {
             "colorbar": {
              "outlinewidth": 0,
              "ticks": ""
             }
            },
            "type": "scattergeo"
           }
          ],
          "scattergl": [
           {
            "marker": {
             "colorbar": {
              "outlinewidth": 0,
              "ticks": ""
             }
            },
            "type": "scattergl"
           }
          ],
          "scattermapbox": [
           {
            "marker": {
             "colorbar": {
              "outlinewidth": 0,
              "ticks": ""
             }
            },
            "type": "scattermapbox"
           }
          ],
          "scatterpolar": [
           {
            "marker": {
             "colorbar": {
              "outlinewidth": 0,
              "ticks": ""
             }
            },
            "type": "scatterpolar"
           }
          ],
          "scatterpolargl": [
           {
            "marker": {
             "colorbar": {
              "outlinewidth": 0,
              "ticks": ""
             }
            },
            "type": "scatterpolargl"
           }
          ],
          "scatterternary": [
           {
            "marker": {
             "colorbar": {
              "outlinewidth": 0,
              "ticks": ""
             }
            },
            "type": "scatterternary"
           }
          ],
          "surface": [
           {
            "colorbar": {
             "outlinewidth": 0,
             "ticks": ""
            },
            "colorscale": [
             [
              0,
              "#0d0887"
             ],
             [
              0.1111111111111111,
              "#46039f"
             ],
             [
              0.2222222222222222,
              "#7201a8"
             ],
             [
              0.3333333333333333,
              "#9c179e"
             ],
             [
              0.4444444444444444,
              "#bd3786"
             ],
             [
              0.5555555555555556,
              "#d8576b"
             ],
             [
              0.6666666666666666,
              "#ed7953"
             ],
             [
              0.7777777777777778,
              "#fb9f3a"
             ],
             [
              0.8888888888888888,
              "#fdca26"
             ],
             [
              1,
              "#f0f921"
             ]
            ],
            "type": "surface"
           }
          ],
          "table": [
           {
            "cells": {
             "fill": {
              "color": "#EBF0F8"
             },
             "line": {
              "color": "white"
             }
            },
            "header": {
             "fill": {
              "color": "#C8D4E3"
             },
             "line": {
              "color": "white"
             }
            },
            "type": "table"
           }
          ]
         },
         "layout": {
          "annotationdefaults": {
           "arrowcolor": "#2a3f5f",
           "arrowhead": 0,
           "arrowwidth": 1
          },
          "autotypenumbers": "strict",
          "coloraxis": {
           "colorbar": {
            "outlinewidth": 0,
            "ticks": ""
           }
          },
          "colorscale": {
           "diverging": [
            [
             0,
             "#8e0152"
            ],
            [
             0.1,
             "#c51b7d"
            ],
            [
             0.2,
             "#de77ae"
            ],
            [
             0.3,
             "#f1b6da"
            ],
            [
             0.4,
             "#fde0ef"
            ],
            [
             0.5,
             "#f7f7f7"
            ],
            [
             0.6,
             "#e6f5d0"
            ],
            [
             0.7,
             "#b8e186"
            ],
            [
             0.8,
             "#7fbc41"
            ],
            [
             0.9,
             "#4d9221"
            ],
            [
             1,
             "#276419"
            ]
           ],
           "sequential": [
            [
             0,
             "#0d0887"
            ],
            [
             0.1111111111111111,
             "#46039f"
            ],
            [
             0.2222222222222222,
             "#7201a8"
            ],
            [
             0.3333333333333333,
             "#9c179e"
            ],
            [
             0.4444444444444444,
             "#bd3786"
            ],
            [
             0.5555555555555556,
             "#d8576b"
            ],
            [
             0.6666666666666666,
             "#ed7953"
            ],
            [
             0.7777777777777778,
             "#fb9f3a"
            ],
            [
             0.8888888888888888,
             "#fdca26"
            ],
            [
             1,
             "#f0f921"
            ]
           ],
           "sequentialminus": [
            [
             0,
             "#0d0887"
            ],
            [
             0.1111111111111111,
             "#46039f"
            ],
            [
             0.2222222222222222,
             "#7201a8"
            ],
            [
             0.3333333333333333,
             "#9c179e"
            ],
            [
             0.4444444444444444,
             "#bd3786"
            ],
            [
             0.5555555555555556,
             "#d8576b"
            ],
            [
             0.6666666666666666,
             "#ed7953"
            ],
            [
             0.7777777777777778,
             "#fb9f3a"
            ],
            [
             0.8888888888888888,
             "#fdca26"
            ],
            [
             1,
             "#f0f921"
            ]
           ]
          },
          "colorway": [
           "#636efa",
           "#EF553B",
           "#00cc96",
           "#ab63fa",
           "#FFA15A",
           "#19d3f3",
           "#FF6692",
           "#B6E880",
           "#FF97FF",
           "#FECB52"
          ],
          "font": {
           "color": "#2a3f5f"
          },
          "geo": {
           "bgcolor": "white",
           "lakecolor": "white",
           "landcolor": "#E5ECF6",
           "showlakes": true,
           "showland": true,
           "subunitcolor": "white"
          },
          "hoverlabel": {
           "align": "left"
          },
          "hovermode": "closest",
          "mapbox": {
           "style": "light"
          },
          "paper_bgcolor": "white",
          "plot_bgcolor": "#E5ECF6",
          "polar": {
           "angularaxis": {
            "gridcolor": "white",
            "linecolor": "white",
            "ticks": ""
           },
           "bgcolor": "#E5ECF6",
           "radialaxis": {
            "gridcolor": "white",
            "linecolor": "white",
            "ticks": ""
           }
          },
          "scene": {
           "xaxis": {
            "backgroundcolor": "#E5ECF6",
            "gridcolor": "white",
            "gridwidth": 2,
            "linecolor": "white",
            "showbackground": true,
            "ticks": "",
            "zerolinecolor": "white"
           },
           "yaxis": {
            "backgroundcolor": "#E5ECF6",
            "gridcolor": "white",
            "gridwidth": 2,
            "linecolor": "white",
            "showbackground": true,
            "ticks": "",
            "zerolinecolor": "white"
           },
           "zaxis": {
            "backgroundcolor": "#E5ECF6",
            "gridcolor": "white",
            "gridwidth": 2,
            "linecolor": "white",
            "showbackground": true,
            "ticks": "",
            "zerolinecolor": "white"
           }
          },
          "shapedefaults": {
           "line": {
            "color": "#2a3f5f"
           }
          },
          "ternary": {
           "aaxis": {
            "gridcolor": "white",
            "linecolor": "white",
            "ticks": ""
           },
           "baxis": {
            "gridcolor": "white",
            "linecolor": "white",
            "ticks": ""
           },
           "bgcolor": "#E5ECF6",
           "caxis": {
            "gridcolor": "white",
            "linecolor": "white",
            "ticks": ""
           }
          },
          "title": {
           "x": 0.05
          },
          "xaxis": {
           "automargin": true,
           "gridcolor": "white",
           "linecolor": "white",
           "ticks": "",
           "title": {
            "standoff": 15
           },
           "zerolinecolor": "white",
           "zerolinewidth": 2
          },
          "yaxis": {
           "automargin": true,
           "gridcolor": "white",
           "linecolor": "white",
           "ticks": "",
           "title": {
            "standoff": 15
           },
           "zerolinecolor": "white",
           "zerolinewidth": 2
          }
         }
        },
        "xaxis": {
         "title": {
          "text": "age category"
         }
        },
        "yaxis": {
         "title": {
          "text": "average loyalty score"
         }
        }
       }
      }
     },
     "metadata": {},
     "output_type": "display_data"
    }
   ],
   "source": [
    "t20 = df[df['age'] < 20]\n",
    "f20t40 = df[(20 <= df['age']) & (df['age'] < 40)]\n",
    "f40t60 = df[(40 <= df['age']) & (df['age'] < 60)]\n",
    "f60 = df[60 <= df['age']]\n",
    "\n",
    "fig = go.Figure()\n",
    "fig.add_trace(go.Bar(\n",
    "    x=['< 20'],\n",
    "    y=[t20['loyalty_score'].mean()],\n",
    "    name='under 20'\n",
    "))\n",
    "fig.add_trace(go.Bar(\n",
    "    x=['20-40'],\n",
    "    y=[f20t40['loyalty_score'].mean()],\n",
    "    name='from 20 to 40'\n",
    "))\n",
    "fig.add_trace(go.Bar(\n",
    "    x=['40-60'],\n",
    "    y=[f40t60['loyalty_score'].mean()],\n",
    "    name='from 40 to 60'\n",
    "))\n",
    "fig.add_trace(go.Bar(\n",
    "    x=['> 60'],\n",
    "    y=[f60['loyalty_score'].mean()],\n",
    "    name='over 60'\n",
    "))\n",
    "fig.update_xaxes(title_text='age category')\n",
    "fig.update_yaxes(title_text='average loyalty score')\n",
    "fig.show()\n"
   ]
  },
  {
   "cell_type": "markdown",
   "id": "d4c97bef-bb64-43cc-a89f-7510174492ec",
   "metadata": {},
   "source": [
    "5. Визуализируйте зависимость частоты покупок от заработка"
   ]
  },
  {
   "cell_type": "code",
   "execution_count": 35,
   "id": "a1f444af-3544-432c-8dc6-bb74d4cff272",
   "metadata": {},
   "outputs": [
    {
     "data": {
      "application/vnd.plotly.v1+json": {
       "config": {
        "plotlyServerURL": "https://plot.ly"
       },
       "data": [
        {
         "mode": "markers",
         "type": "scatter",
         "x": [
          45000,
          55000,
          65000,
          30000,
          47000,
          61000,
          54000,
          43000,
          70000,
          50000,
          46000,
          62000,
          53000,
          58000,
          69000,
          31000,
          57000,
          49000,
          66000,
          44000,
          72000,
          32000,
          63000,
          56000,
          59000,
          67000,
          52000,
          48000,
          71000,
          60000,
          55000,
          64000,
          50000,
          43000,
          75000,
          45000,
          68000,
          49000,
          73000,
          46000,
          57000,
          58000,
          66000,
          53000,
          72000,
          47000,
          61000,
          70000,
          54000,
          32000,
          69000,
          44000,
          65000,
          60000,
          59000,
          74000,
          52000,
          51000,
          62000,
          75000,
          46000,
          53000,
          71000,
          43000,
          63000,
          61000,
          70000,
          32000,
          68000,
          49000,
          57000,
          58000,
          66000,
          53000,
          72000,
          46000,
          61000,
          70000,
          54000,
          32000,
          69000,
          44000,
          65000,
          60000,
          59000,
          74000,
          52000,
          51000,
          62000,
          75000,
          46000,
          53000,
          71000,
          43000,
          63000,
          61000,
          70000,
          32000,
          68000,
          49000,
          57000,
          58000,
          66000,
          53000,
          72000,
          46000,
          61000,
          70000,
          54000,
          32000,
          69000,
          44000,
          65000,
          60000,
          59000,
          74000,
          52000,
          51000,
          62000,
          75000,
          46000,
          53000,
          71000,
          43000,
          63000,
          61000,
          70000,
          32000,
          68000,
          49000,
          57000,
          58000,
          66000,
          53000,
          72000,
          46000,
          61000,
          70000,
          54000,
          32000,
          69000,
          44000,
          65000,
          60000,
          59000,
          74000,
          52000,
          51000,
          62000,
          75000,
          46000,
          53000,
          71000,
          43000,
          63000,
          61000,
          70000,
          32000,
          68000,
          49000,
          57000,
          58000,
          66000,
          53000,
          72000,
          46000,
          61000,
          70000,
          54000,
          32000,
          69000,
          44000,
          65000,
          60000,
          59000,
          74000,
          52000,
          51000,
          62000,
          75000,
          46000,
          53000,
          71000,
          43000,
          63000,
          61000,
          70000,
          32000,
          68000,
          49000,
          57000,
          58000,
          66000,
          53000,
          72000,
          46000,
          61000,
          70000,
          54000,
          32000,
          69000,
          44000,
          65000,
          60000,
          59000,
          74000,
          52000,
          51000,
          62000,
          75000,
          46000,
          53000,
          71000,
          43000,
          63000,
          61000,
          70000,
          32000,
          68000,
          49000,
          57000,
          58000,
          66000,
          53000,
          72000,
          46000,
          61000,
          70000,
          54000,
          32000,
          69000,
          44000,
          65000,
          60000,
          59000,
          74000,
          52000,
          51000
         ],
         "y": [
          12,
          18,
          22,
          10,
          13,
          21,
          19,
          14,
          25,
          17,
          15,
          23,
          18,
          20,
          24,
          11,
          21,
          16,
          22,
          14,
          26,
          12,
          21,
          19,
          20,
          23,
          18,
          15,
          25,
          22,
          19,
          21,
          16,
          14,
          28,
          12,
          24,
          17,
          27,
          14,
          21,
          20,
          22,
          18,
          26,
          13,
          21,
          25,
          19,
          11,
          24,
          14,
          22,
          20,
          20,
          27,
          18,
          17,
          23,
          28,
          15,
          18,
          25,
          14,
          21,
          22,
          25,
          11,
          24,
          16,
          21,
          20,
          22,
          18,
          26,
          14,
          21,
          25,
          19,
          11,
          24,
          14,
          22,
          20,
          20,
          27,
          18,
          17,
          23,
          28,
          15,
          18,
          25,
          14,
          21,
          22,
          25,
          11,
          24,
          16,
          21,
          20,
          22,
          18,
          26,
          14,
          21,
          25,
          19,
          11,
          24,
          14,
          22,
          20,
          20,
          27,
          18,
          17,
          23,
          28,
          15,
          18,
          25,
          14,
          21,
          22,
          25,
          11,
          24,
          16,
          21,
          20,
          22,
          18,
          26,
          14,
          21,
          25,
          19,
          11,
          24,
          14,
          22,
          20,
          20,
          27,
          18,
          17,
          23,
          28,
          15,
          18,
          25,
          14,
          21,
          22,
          25,
          11,
          24,
          16,
          21,
          20,
          22,
          18,
          26,
          14,
          21,
          25,
          19,
          11,
          24,
          14,
          22,
          20,
          20,
          27,
          18,
          17,
          23,
          28,
          15,
          18,
          25,
          14,
          21,
          22,
          25,
          11,
          24,
          16,
          21,
          20,
          22,
          18,
          26,
          14,
          21,
          25,
          19,
          11,
          24,
          14,
          22,
          20,
          20,
          27,
          18,
          17,
          23,
          28,
          15,
          18,
          25,
          14,
          21,
          22,
          25,
          11,
          24,
          16,
          21,
          20,
          22,
          18,
          26,
          14,
          21,
          25,
          19,
          11,
          24,
          14,
          22,
          20,
          20,
          27,
          18,
          17
         ]
        }
       ],
       "layout": {
        "template": {
         "data": {
          "bar": [
           {
            "error_x": {
             "color": "#2a3f5f"
            },
            "error_y": {
             "color": "#2a3f5f"
            },
            "marker": {
             "line": {
              "color": "#E5ECF6",
              "width": 0.5
             },
             "pattern": {
              "fillmode": "overlay",
              "size": 10,
              "solidity": 0.2
             }
            },
            "type": "bar"
           }
          ],
          "barpolar": [
           {
            "marker": {
             "line": {
              "color": "#E5ECF6",
              "width": 0.5
             },
             "pattern": {
              "fillmode": "overlay",
              "size": 10,
              "solidity": 0.2
             }
            },
            "type": "barpolar"
           }
          ],
          "carpet": [
           {
            "aaxis": {
             "endlinecolor": "#2a3f5f",
             "gridcolor": "white",
             "linecolor": "white",
             "minorgridcolor": "white",
             "startlinecolor": "#2a3f5f"
            },
            "baxis": {
             "endlinecolor": "#2a3f5f",
             "gridcolor": "white",
             "linecolor": "white",
             "minorgridcolor": "white",
             "startlinecolor": "#2a3f5f"
            },
            "type": "carpet"
           }
          ],
          "choropleth": [
           {
            "colorbar": {
             "outlinewidth": 0,
             "ticks": ""
            },
            "type": "choropleth"
           }
          ],
          "contour": [
           {
            "colorbar": {
             "outlinewidth": 0,
             "ticks": ""
            },
            "colorscale": [
             [
              0,
              "#0d0887"
             ],
             [
              0.1111111111111111,
              "#46039f"
             ],
             [
              0.2222222222222222,
              "#7201a8"
             ],
             [
              0.3333333333333333,
              "#9c179e"
             ],
             [
              0.4444444444444444,
              "#bd3786"
             ],
             [
              0.5555555555555556,
              "#d8576b"
             ],
             [
              0.6666666666666666,
              "#ed7953"
             ],
             [
              0.7777777777777778,
              "#fb9f3a"
             ],
             [
              0.8888888888888888,
              "#fdca26"
             ],
             [
              1,
              "#f0f921"
             ]
            ],
            "type": "contour"
           }
          ],
          "contourcarpet": [
           {
            "colorbar": {
             "outlinewidth": 0,
             "ticks": ""
            },
            "type": "contourcarpet"
           }
          ],
          "heatmap": [
           {
            "colorbar": {
             "outlinewidth": 0,
             "ticks": ""
            },
            "colorscale": [
             [
              0,
              "#0d0887"
             ],
             [
              0.1111111111111111,
              "#46039f"
             ],
             [
              0.2222222222222222,
              "#7201a8"
             ],
             [
              0.3333333333333333,
              "#9c179e"
             ],
             [
              0.4444444444444444,
              "#bd3786"
             ],
             [
              0.5555555555555556,
              "#d8576b"
             ],
             [
              0.6666666666666666,
              "#ed7953"
             ],
             [
              0.7777777777777778,
              "#fb9f3a"
             ],
             [
              0.8888888888888888,
              "#fdca26"
             ],
             [
              1,
              "#f0f921"
             ]
            ],
            "type": "heatmap"
           }
          ],
          "heatmapgl": [
           {
            "colorbar": {
             "outlinewidth": 0,
             "ticks": ""
            },
            "colorscale": [
             [
              0,
              "#0d0887"
             ],
             [
              0.1111111111111111,
              "#46039f"
             ],
             [
              0.2222222222222222,
              "#7201a8"
             ],
             [
              0.3333333333333333,
              "#9c179e"
             ],
             [
              0.4444444444444444,
              "#bd3786"
             ],
             [
              0.5555555555555556,
              "#d8576b"
             ],
             [
              0.6666666666666666,
              "#ed7953"
             ],
             [
              0.7777777777777778,
              "#fb9f3a"
             ],
             [
              0.8888888888888888,
              "#fdca26"
             ],
             [
              1,
              "#f0f921"
             ]
            ],
            "type": "heatmapgl"
           }
          ],
          "histogram": [
           {
            "marker": {
             "pattern": {
              "fillmode": "overlay",
              "size": 10,
              "solidity": 0.2
             }
            },
            "type": "histogram"
           }
          ],
          "histogram2d": [
           {
            "colorbar": {
             "outlinewidth": 0,
             "ticks": ""
            },
            "colorscale": [
             [
              0,
              "#0d0887"
             ],
             [
              0.1111111111111111,
              "#46039f"
             ],
             [
              0.2222222222222222,
              "#7201a8"
             ],
             [
              0.3333333333333333,
              "#9c179e"
             ],
             [
              0.4444444444444444,
              "#bd3786"
             ],
             [
              0.5555555555555556,
              "#d8576b"
             ],
             [
              0.6666666666666666,
              "#ed7953"
             ],
             [
              0.7777777777777778,
              "#fb9f3a"
             ],
             [
              0.8888888888888888,
              "#fdca26"
             ],
             [
              1,
              "#f0f921"
             ]
            ],
            "type": "histogram2d"
           }
          ],
          "histogram2dcontour": [
           {
            "colorbar": {
             "outlinewidth": 0,
             "ticks": ""
            },
            "colorscale": [
             [
              0,
              "#0d0887"
             ],
             [
              0.1111111111111111,
              "#46039f"
             ],
             [
              0.2222222222222222,
              "#7201a8"
             ],
             [
              0.3333333333333333,
              "#9c179e"
             ],
             [
              0.4444444444444444,
              "#bd3786"
             ],
             [
              0.5555555555555556,
              "#d8576b"
             ],
             [
              0.6666666666666666,
              "#ed7953"
             ],
             [
              0.7777777777777778,
              "#fb9f3a"
             ],
             [
              0.8888888888888888,
              "#fdca26"
             ],
             [
              1,
              "#f0f921"
             ]
            ],
            "type": "histogram2dcontour"
           }
          ],
          "mesh3d": [
           {
            "colorbar": {
             "outlinewidth": 0,
             "ticks": ""
            },
            "type": "mesh3d"
           }
          ],
          "parcoords": [
           {
            "line": {
             "colorbar": {
              "outlinewidth": 0,
              "ticks": ""
             }
            },
            "type": "parcoords"
           }
          ],
          "pie": [
           {
            "automargin": true,
            "type": "pie"
           }
          ],
          "scatter": [
           {
            "fillpattern": {
             "fillmode": "overlay",
             "size": 10,
             "solidity": 0.2
            },
            "type": "scatter"
           }
          ],
          "scatter3d": [
           {
            "line": {
             "colorbar": {
              "outlinewidth": 0,
              "ticks": ""
             }
            },
            "marker": {
             "colorbar": {
              "outlinewidth": 0,
              "ticks": ""
             }
            },
            "type": "scatter3d"
           }
          ],
          "scattercarpet": [
           {
            "marker": {
             "colorbar": {
              "outlinewidth": 0,
              "ticks": ""
             }
            },
            "type": "scattercarpet"
           }
          ],
          "scattergeo": [
           {
            "marker": {
             "colorbar": {
              "outlinewidth": 0,
              "ticks": ""
             }
            },
            "type": "scattergeo"
           }
          ],
          "scattergl": [
           {
            "marker": {
             "colorbar": {
              "outlinewidth": 0,
              "ticks": ""
             }
            },
            "type": "scattergl"
           }
          ],
          "scattermapbox": [
           {
            "marker": {
             "colorbar": {
              "outlinewidth": 0,
              "ticks": ""
             }
            },
            "type": "scattermapbox"
           }
          ],
          "scatterpolar": [
           {
            "marker": {
             "colorbar": {
              "outlinewidth": 0,
              "ticks": ""
             }
            },
            "type": "scatterpolar"
           }
          ],
          "scatterpolargl": [
           {
            "marker": {
             "colorbar": {
              "outlinewidth": 0,
              "ticks": ""
             }
            },
            "type": "scatterpolargl"
           }
          ],
          "scatterternary": [
           {
            "marker": {
             "colorbar": {
              "outlinewidth": 0,
              "ticks": ""
             }
            },
            "type": "scatterternary"
           }
          ],
          "surface": [
           {
            "colorbar": {
             "outlinewidth": 0,
             "ticks": ""
            },
            "colorscale": [
             [
              0,
              "#0d0887"
             ],
             [
              0.1111111111111111,
              "#46039f"
             ],
             [
              0.2222222222222222,
              "#7201a8"
             ],
             [
              0.3333333333333333,
              "#9c179e"
             ],
             [
              0.4444444444444444,
              "#bd3786"
             ],
             [
              0.5555555555555556,
              "#d8576b"
             ],
             [
              0.6666666666666666,
              "#ed7953"
             ],
             [
              0.7777777777777778,
              "#fb9f3a"
             ],
             [
              0.8888888888888888,
              "#fdca26"
             ],
             [
              1,
              "#f0f921"
             ]
            ],
            "type": "surface"
           }
          ],
          "table": [
           {
            "cells": {
             "fill": {
              "color": "#EBF0F8"
             },
             "line": {
              "color": "white"
             }
            },
            "header": {
             "fill": {
              "color": "#C8D4E3"
             },
             "line": {
              "color": "white"
             }
            },
            "type": "table"
           }
          ]
         },
         "layout": {
          "annotationdefaults": {
           "arrowcolor": "#2a3f5f",
           "arrowhead": 0,
           "arrowwidth": 1
          },
          "autotypenumbers": "strict",
          "coloraxis": {
           "colorbar": {
            "outlinewidth": 0,
            "ticks": ""
           }
          },
          "colorscale": {
           "diverging": [
            [
             0,
             "#8e0152"
            ],
            [
             0.1,
             "#c51b7d"
            ],
            [
             0.2,
             "#de77ae"
            ],
            [
             0.3,
             "#f1b6da"
            ],
            [
             0.4,
             "#fde0ef"
            ],
            [
             0.5,
             "#f7f7f7"
            ],
            [
             0.6,
             "#e6f5d0"
            ],
            [
             0.7,
             "#b8e186"
            ],
            [
             0.8,
             "#7fbc41"
            ],
            [
             0.9,
             "#4d9221"
            ],
            [
             1,
             "#276419"
            ]
           ],
           "sequential": [
            [
             0,
             "#0d0887"
            ],
            [
             0.1111111111111111,
             "#46039f"
            ],
            [
             0.2222222222222222,
             "#7201a8"
            ],
            [
             0.3333333333333333,
             "#9c179e"
            ],
            [
             0.4444444444444444,
             "#bd3786"
            ],
            [
             0.5555555555555556,
             "#d8576b"
            ],
            [
             0.6666666666666666,
             "#ed7953"
            ],
            [
             0.7777777777777778,
             "#fb9f3a"
            ],
            [
             0.8888888888888888,
             "#fdca26"
            ],
            [
             1,
             "#f0f921"
            ]
           ],
           "sequentialminus": [
            [
             0,
             "#0d0887"
            ],
            [
             0.1111111111111111,
             "#46039f"
            ],
            [
             0.2222222222222222,
             "#7201a8"
            ],
            [
             0.3333333333333333,
             "#9c179e"
            ],
            [
             0.4444444444444444,
             "#bd3786"
            ],
            [
             0.5555555555555556,
             "#d8576b"
            ],
            [
             0.6666666666666666,
             "#ed7953"
            ],
            [
             0.7777777777777778,
             "#fb9f3a"
            ],
            [
             0.8888888888888888,
             "#fdca26"
            ],
            [
             1,
             "#f0f921"
            ]
           ]
          },
          "colorway": [
           "#636efa",
           "#EF553B",
           "#00cc96",
           "#ab63fa",
           "#FFA15A",
           "#19d3f3",
           "#FF6692",
           "#B6E880",
           "#FF97FF",
           "#FECB52"
          ],
          "font": {
           "color": "#2a3f5f"
          },
          "geo": {
           "bgcolor": "white",
           "lakecolor": "white",
           "landcolor": "#E5ECF6",
           "showlakes": true,
           "showland": true,
           "subunitcolor": "white"
          },
          "hoverlabel": {
           "align": "left"
          },
          "hovermode": "closest",
          "mapbox": {
           "style": "light"
          },
          "paper_bgcolor": "white",
          "plot_bgcolor": "#E5ECF6",
          "polar": {
           "angularaxis": {
            "gridcolor": "white",
            "linecolor": "white",
            "ticks": ""
           },
           "bgcolor": "#E5ECF6",
           "radialaxis": {
            "gridcolor": "white",
            "linecolor": "white",
            "ticks": ""
           }
          },
          "scene": {
           "xaxis": {
            "backgroundcolor": "#E5ECF6",
            "gridcolor": "white",
            "gridwidth": 2,
            "linecolor": "white",
            "showbackground": true,
            "ticks": "",
            "zerolinecolor": "white"
           },
           "yaxis": {
            "backgroundcolor": "#E5ECF6",
            "gridcolor": "white",
            "gridwidth": 2,
            "linecolor": "white",
            "showbackground": true,
            "ticks": "",
            "zerolinecolor": "white"
           },
           "zaxis": {
            "backgroundcolor": "#E5ECF6",
            "gridcolor": "white",
            "gridwidth": 2,
            "linecolor": "white",
            "showbackground": true,
            "ticks": "",
            "zerolinecolor": "white"
           }
          },
          "shapedefaults": {
           "line": {
            "color": "#2a3f5f"
           }
          },
          "ternary": {
           "aaxis": {
            "gridcolor": "white",
            "linecolor": "white",
            "ticks": ""
           },
           "baxis": {
            "gridcolor": "white",
            "linecolor": "white",
            "ticks": ""
           },
           "bgcolor": "#E5ECF6",
           "caxis": {
            "gridcolor": "white",
            "linecolor": "white",
            "ticks": ""
           }
          },
          "title": {
           "x": 0.05
          },
          "xaxis": {
           "automargin": true,
           "gridcolor": "white",
           "linecolor": "white",
           "ticks": "",
           "title": {
            "standoff": 15
           },
           "zerolinecolor": "white",
           "zerolinewidth": 2
          },
          "yaxis": {
           "automargin": true,
           "gridcolor": "white",
           "linecolor": "white",
           "ticks": "",
           "title": {
            "standoff": 15
           },
           "zerolinecolor": "white",
           "zerolinewidth": 2
          }
         }
        },
        "xaxis": {
         "title": {
          "text": "annual income"
         }
        },
        "yaxis": {
         "title": {
          "text": "purchase frequency"
         }
        }
       }
      }
     },
     "metadata": {},
     "output_type": "display_data"
    }
   ],
   "source": [
    "fig = go.Figure()\n",
    "fig.add_trace(go.Scatter(\n",
    "    x=df['annual_income'],\n",
    "    y=df['purchase_frequency'],\n",
    "    mode='markers'\n",
    "))\n",
    "fig.update_xaxes(title_text='annual income')\n",
    "fig.update_yaxes(title_text='purchase frequency')\n",
    "fig.show()"
   ]
  },
  {
   "cell_type": "markdown",
   "id": "a2ab764c-8ac1-4c5a-93ad-8168b0eb4934",
   "metadata": {},
   "source": [
    "6. Визуализируйте как зависит сумма покупок от зарплаты клиента"
   ]
  },
  {
   "cell_type": "code",
   "execution_count": 36,
   "id": "6449e306-fb6c-46d4-bcd8-b6b76fbf69d2",
   "metadata": {},
   "outputs": [
    {
     "data": {
      "application/vnd.plotly.v1+json": {
       "config": {
        "plotlyServerURL": "https://plot.ly"
       },
       "data": [
        {
         "mode": "markers",
         "type": "scatter",
         "x": [
          45000,
          55000,
          65000,
          30000,
          47000,
          61000,
          54000,
          43000,
          70000,
          50000,
          46000,
          62000,
          53000,
          58000,
          69000,
          31000,
          57000,
          49000,
          66000,
          44000,
          72000,
          32000,
          63000,
          56000,
          59000,
          67000,
          52000,
          48000,
          71000,
          60000,
          55000,
          64000,
          50000,
          43000,
          75000,
          45000,
          68000,
          49000,
          73000,
          46000,
          57000,
          58000,
          66000,
          53000,
          72000,
          47000,
          61000,
          70000,
          54000,
          32000,
          69000,
          44000,
          65000,
          60000,
          59000,
          74000,
          52000,
          51000,
          62000,
          75000,
          46000,
          53000,
          71000,
          43000,
          63000,
          61000,
          70000,
          32000,
          68000,
          49000,
          57000,
          58000,
          66000,
          53000,
          72000,
          46000,
          61000,
          70000,
          54000,
          32000,
          69000,
          44000,
          65000,
          60000,
          59000,
          74000,
          52000,
          51000,
          62000,
          75000,
          46000,
          53000,
          71000,
          43000,
          63000,
          61000,
          70000,
          32000,
          68000,
          49000,
          57000,
          58000,
          66000,
          53000,
          72000,
          46000,
          61000,
          70000,
          54000,
          32000,
          69000,
          44000,
          65000,
          60000,
          59000,
          74000,
          52000,
          51000,
          62000,
          75000,
          46000,
          53000,
          71000,
          43000,
          63000,
          61000,
          70000,
          32000,
          68000,
          49000,
          57000,
          58000,
          66000,
          53000,
          72000,
          46000,
          61000,
          70000,
          54000,
          32000,
          69000,
          44000,
          65000,
          60000,
          59000,
          74000,
          52000,
          51000,
          62000,
          75000,
          46000,
          53000,
          71000,
          43000,
          63000,
          61000,
          70000,
          32000,
          68000,
          49000,
          57000,
          58000,
          66000,
          53000,
          72000,
          46000,
          61000,
          70000,
          54000,
          32000,
          69000,
          44000,
          65000,
          60000,
          59000,
          74000,
          52000,
          51000,
          62000,
          75000,
          46000,
          53000,
          71000,
          43000,
          63000,
          61000,
          70000,
          32000,
          68000,
          49000,
          57000,
          58000,
          66000,
          53000,
          72000,
          46000,
          61000,
          70000,
          54000,
          32000,
          69000,
          44000,
          65000,
          60000,
          59000,
          74000,
          52000,
          51000,
          62000,
          75000,
          46000,
          53000,
          71000,
          43000,
          63000,
          61000,
          70000,
          32000,
          68000,
          49000,
          57000,
          58000,
          66000,
          53000,
          72000,
          46000,
          61000,
          70000,
          54000,
          32000,
          69000,
          44000,
          65000,
          60000,
          59000,
          74000,
          52000,
          51000
         ],
         "y": [
          200,
          350,
          500,
          150,
          220,
          480,
          400,
          230,
          600,
          320,
          250,
          520,
          380,
          420,
          590,
          160,
          440,
          300,
          510,
          240,
          610,
          170,
          460,
          390,
          430,
          530,
          360,
          280,
          600,
          450,
          350,
          470,
          320,
          230,
          640,
          200,
          550,
          300,
          620,
          250,
          440,
          420,
          510,
          380,
          610,
          220,
          480,
          600,
          400,
          170,
          590,
          240,
          500,
          450,
          430,
          630,
          360,
          340,
          520,
          640,
          270,
          380,
          600,
          230,
          470,
          480,
          600,
          170,
          550,
          300,
          440,
          420,
          510,
          380,
          610,
          250,
          480,
          600,
          400,
          170,
          590,
          240,
          500,
          450,
          430,
          630,
          360,
          340,
          520,
          640,
          270,
          380,
          600,
          230,
          470,
          480,
          600,
          170,
          550,
          300,
          440,
          420,
          510,
          380,
          610,
          250,
          480,
          600,
          400,
          170,
          590,
          240,
          500,
          450,
          430,
          630,
          360,
          340,
          520,
          640,
          270,
          380,
          600,
          230,
          470,
          480,
          600,
          170,
          550,
          300,
          440,
          420,
          510,
          380,
          610,
          250,
          480,
          600,
          400,
          170,
          590,
          240,
          500,
          450,
          430,
          630,
          360,
          340,
          520,
          640,
          270,
          380,
          600,
          230,
          470,
          480,
          600,
          170,
          550,
          300,
          440,
          420,
          510,
          380,
          610,
          250,
          480,
          600,
          400,
          170,
          590,
          240,
          500,
          450,
          430,
          630,
          360,
          340,
          520,
          640,
          270,
          380,
          600,
          230,
          470,
          480,
          600,
          170,
          550,
          300,
          440,
          420,
          510,
          380,
          610,
          250,
          480,
          600,
          400,
          170,
          590,
          240,
          500,
          450,
          430,
          630,
          360,
          340,
          520,
          640,
          270,
          380,
          600,
          230,
          470,
          480,
          600,
          170,
          550,
          300,
          440,
          420,
          510,
          380,
          610,
          250,
          480,
          600,
          400,
          170,
          590,
          240,
          500,
          450,
          430,
          630,
          360,
          340
         ]
        }
       ],
       "layout": {
        "template": {
         "data": {
          "bar": [
           {
            "error_x": {
             "color": "#2a3f5f"
            },
            "error_y": {
             "color": "#2a3f5f"
            },
            "marker": {
             "line": {
              "color": "#E5ECF6",
              "width": 0.5
             },
             "pattern": {
              "fillmode": "overlay",
              "size": 10,
              "solidity": 0.2
             }
            },
            "type": "bar"
           }
          ],
          "barpolar": [
           {
            "marker": {
             "line": {
              "color": "#E5ECF6",
              "width": 0.5
             },
             "pattern": {
              "fillmode": "overlay",
              "size": 10,
              "solidity": 0.2
             }
            },
            "type": "barpolar"
           }
          ],
          "carpet": [
           {
            "aaxis": {
             "endlinecolor": "#2a3f5f",
             "gridcolor": "white",
             "linecolor": "white",
             "minorgridcolor": "white",
             "startlinecolor": "#2a3f5f"
            },
            "baxis": {
             "endlinecolor": "#2a3f5f",
             "gridcolor": "white",
             "linecolor": "white",
             "minorgridcolor": "white",
             "startlinecolor": "#2a3f5f"
            },
            "type": "carpet"
           }
          ],
          "choropleth": [
           {
            "colorbar": {
             "outlinewidth": 0,
             "ticks": ""
            },
            "type": "choropleth"
           }
          ],
          "contour": [
           {
            "colorbar": {
             "outlinewidth": 0,
             "ticks": ""
            },
            "colorscale": [
             [
              0,
              "#0d0887"
             ],
             [
              0.1111111111111111,
              "#46039f"
             ],
             [
              0.2222222222222222,
              "#7201a8"
             ],
             [
              0.3333333333333333,
              "#9c179e"
             ],
             [
              0.4444444444444444,
              "#bd3786"
             ],
             [
              0.5555555555555556,
              "#d8576b"
             ],
             [
              0.6666666666666666,
              "#ed7953"
             ],
             [
              0.7777777777777778,
              "#fb9f3a"
             ],
             [
              0.8888888888888888,
              "#fdca26"
             ],
             [
              1,
              "#f0f921"
             ]
            ],
            "type": "contour"
           }
          ],
          "contourcarpet": [
           {
            "colorbar": {
             "outlinewidth": 0,
             "ticks": ""
            },
            "type": "contourcarpet"
           }
          ],
          "heatmap": [
           {
            "colorbar": {
             "outlinewidth": 0,
             "ticks": ""
            },
            "colorscale": [
             [
              0,
              "#0d0887"
             ],
             [
              0.1111111111111111,
              "#46039f"
             ],
             [
              0.2222222222222222,
              "#7201a8"
             ],
             [
              0.3333333333333333,
              "#9c179e"
             ],
             [
              0.4444444444444444,
              "#bd3786"
             ],
             [
              0.5555555555555556,
              "#d8576b"
             ],
             [
              0.6666666666666666,
              "#ed7953"
             ],
             [
              0.7777777777777778,
              "#fb9f3a"
             ],
             [
              0.8888888888888888,
              "#fdca26"
             ],
             [
              1,
              "#f0f921"
             ]
            ],
            "type": "heatmap"
           }
          ],
          "heatmapgl": [
           {
            "colorbar": {
             "outlinewidth": 0,
             "ticks": ""
            },
            "colorscale": [
             [
              0,
              "#0d0887"
             ],
             [
              0.1111111111111111,
              "#46039f"
             ],
             [
              0.2222222222222222,
              "#7201a8"
             ],
             [
              0.3333333333333333,
              "#9c179e"
             ],
             [
              0.4444444444444444,
              "#bd3786"
             ],
             [
              0.5555555555555556,
              "#d8576b"
             ],
             [
              0.6666666666666666,
              "#ed7953"
             ],
             [
              0.7777777777777778,
              "#fb9f3a"
             ],
             [
              0.8888888888888888,
              "#fdca26"
             ],
             [
              1,
              "#f0f921"
             ]
            ],
            "type": "heatmapgl"
           }
          ],
          "histogram": [
           {
            "marker": {
             "pattern": {
              "fillmode": "overlay",
              "size": 10,
              "solidity": 0.2
             }
            },
            "type": "histogram"
           }
          ],
          "histogram2d": [
           {
            "colorbar": {
             "outlinewidth": 0,
             "ticks": ""
            },
            "colorscale": [
             [
              0,
              "#0d0887"
             ],
             [
              0.1111111111111111,
              "#46039f"
             ],
             [
              0.2222222222222222,
              "#7201a8"
             ],
             [
              0.3333333333333333,
              "#9c179e"
             ],
             [
              0.4444444444444444,
              "#bd3786"
             ],
             [
              0.5555555555555556,
              "#d8576b"
             ],
             [
              0.6666666666666666,
              "#ed7953"
             ],
             [
              0.7777777777777778,
              "#fb9f3a"
             ],
             [
              0.8888888888888888,
              "#fdca26"
             ],
             [
              1,
              "#f0f921"
             ]
            ],
            "type": "histogram2d"
           }
          ],
          "histogram2dcontour": [
           {
            "colorbar": {
             "outlinewidth": 0,
             "ticks": ""
            },
            "colorscale": [
             [
              0,
              "#0d0887"
             ],
             [
              0.1111111111111111,
              "#46039f"
             ],
             [
              0.2222222222222222,
              "#7201a8"
             ],
             [
              0.3333333333333333,
              "#9c179e"
             ],
             [
              0.4444444444444444,
              "#bd3786"
             ],
             [
              0.5555555555555556,
              "#d8576b"
             ],
             [
              0.6666666666666666,
              "#ed7953"
             ],
             [
              0.7777777777777778,
              "#fb9f3a"
             ],
             [
              0.8888888888888888,
              "#fdca26"
             ],
             [
              1,
              "#f0f921"
             ]
            ],
            "type": "histogram2dcontour"
           }
          ],
          "mesh3d": [
           {
            "colorbar": {
             "outlinewidth": 0,
             "ticks": ""
            },
            "type": "mesh3d"
           }
          ],
          "parcoords": [
           {
            "line": {
             "colorbar": {
              "outlinewidth": 0,
              "ticks": ""
             }
            },
            "type": "parcoords"
           }
          ],
          "pie": [
           {
            "automargin": true,
            "type": "pie"
           }
          ],
          "scatter": [
           {
            "fillpattern": {
             "fillmode": "overlay",
             "size": 10,
             "solidity": 0.2
            },
            "type": "scatter"
           }
          ],
          "scatter3d": [
           {
            "line": {
             "colorbar": {
              "outlinewidth": 0,
              "ticks": ""
             }
            },
            "marker": {
             "colorbar": {
              "outlinewidth": 0,
              "ticks": ""
             }
            },
            "type": "scatter3d"
           }
          ],
          "scattercarpet": [
           {
            "marker": {
             "colorbar": {
              "outlinewidth": 0,
              "ticks": ""
             }
            },
            "type": "scattercarpet"
           }
          ],
          "scattergeo": [
           {
            "marker": {
             "colorbar": {
              "outlinewidth": 0,
              "ticks": ""
             }
            },
            "type": "scattergeo"
           }
          ],
          "scattergl": [
           {
            "marker": {
             "colorbar": {
              "outlinewidth": 0,
              "ticks": ""
             }
            },
            "type": "scattergl"
           }
          ],
          "scattermapbox": [
           {
            "marker": {
             "colorbar": {
              "outlinewidth": 0,
              "ticks": ""
             }
            },
            "type": "scattermapbox"
           }
          ],
          "scatterpolar": [
           {
            "marker": {
             "colorbar": {
              "outlinewidth": 0,
              "ticks": ""
             }
            },
            "type": "scatterpolar"
           }
          ],
          "scatterpolargl": [
           {
            "marker": {
             "colorbar": {
              "outlinewidth": 0,
              "ticks": ""
             }
            },
            "type": "scatterpolargl"
           }
          ],
          "scatterternary": [
           {
            "marker": {
             "colorbar": {
              "outlinewidth": 0,
              "ticks": ""
             }
            },
            "type": "scatterternary"
           }
          ],
          "surface": [
           {
            "colorbar": {
             "outlinewidth": 0,
             "ticks": ""
            },
            "colorscale": [
             [
              0,
              "#0d0887"
             ],
             [
              0.1111111111111111,
              "#46039f"
             ],
             [
              0.2222222222222222,
              "#7201a8"
             ],
             [
              0.3333333333333333,
              "#9c179e"
             ],
             [
              0.4444444444444444,
              "#bd3786"
             ],
             [
              0.5555555555555556,
              "#d8576b"
             ],
             [
              0.6666666666666666,
              "#ed7953"
             ],
             [
              0.7777777777777778,
              "#fb9f3a"
             ],
             [
              0.8888888888888888,
              "#fdca26"
             ],
             [
              1,
              "#f0f921"
             ]
            ],
            "type": "surface"
           }
          ],
          "table": [
           {
            "cells": {
             "fill": {
              "color": "#EBF0F8"
             },
             "line": {
              "color": "white"
             }
            },
            "header": {
             "fill": {
              "color": "#C8D4E3"
             },
             "line": {
              "color": "white"
             }
            },
            "type": "table"
           }
          ]
         },
         "layout": {
          "annotationdefaults": {
           "arrowcolor": "#2a3f5f",
           "arrowhead": 0,
           "arrowwidth": 1
          },
          "autotypenumbers": "strict",
          "coloraxis": {
           "colorbar": {
            "outlinewidth": 0,
            "ticks": ""
           }
          },
          "colorscale": {
           "diverging": [
            [
             0,
             "#8e0152"
            ],
            [
             0.1,
             "#c51b7d"
            ],
            [
             0.2,
             "#de77ae"
            ],
            [
             0.3,
             "#f1b6da"
            ],
            [
             0.4,
             "#fde0ef"
            ],
            [
             0.5,
             "#f7f7f7"
            ],
            [
             0.6,
             "#e6f5d0"
            ],
            [
             0.7,
             "#b8e186"
            ],
            [
             0.8,
             "#7fbc41"
            ],
            [
             0.9,
             "#4d9221"
            ],
            [
             1,
             "#276419"
            ]
           ],
           "sequential": [
            [
             0,
             "#0d0887"
            ],
            [
             0.1111111111111111,
             "#46039f"
            ],
            [
             0.2222222222222222,
             "#7201a8"
            ],
            [
             0.3333333333333333,
             "#9c179e"
            ],
            [
             0.4444444444444444,
             "#bd3786"
            ],
            [
             0.5555555555555556,
             "#d8576b"
            ],
            [
             0.6666666666666666,
             "#ed7953"
            ],
            [
             0.7777777777777778,
             "#fb9f3a"
            ],
            [
             0.8888888888888888,
             "#fdca26"
            ],
            [
             1,
             "#f0f921"
            ]
           ],
           "sequentialminus": [
            [
             0,
             "#0d0887"
            ],
            [
             0.1111111111111111,
             "#46039f"
            ],
            [
             0.2222222222222222,
             "#7201a8"
            ],
            [
             0.3333333333333333,
             "#9c179e"
            ],
            [
             0.4444444444444444,
             "#bd3786"
            ],
            [
             0.5555555555555556,
             "#d8576b"
            ],
            [
             0.6666666666666666,
             "#ed7953"
            ],
            [
             0.7777777777777778,
             "#fb9f3a"
            ],
            [
             0.8888888888888888,
             "#fdca26"
            ],
            [
             1,
             "#f0f921"
            ]
           ]
          },
          "colorway": [
           "#636efa",
           "#EF553B",
           "#00cc96",
           "#ab63fa",
           "#FFA15A",
           "#19d3f3",
           "#FF6692",
           "#B6E880",
           "#FF97FF",
           "#FECB52"
          ],
          "font": {
           "color": "#2a3f5f"
          },
          "geo": {
           "bgcolor": "white",
           "lakecolor": "white",
           "landcolor": "#E5ECF6",
           "showlakes": true,
           "showland": true,
           "subunitcolor": "white"
          },
          "hoverlabel": {
           "align": "left"
          },
          "hovermode": "closest",
          "mapbox": {
           "style": "light"
          },
          "paper_bgcolor": "white",
          "plot_bgcolor": "#E5ECF6",
          "polar": {
           "angularaxis": {
            "gridcolor": "white",
            "linecolor": "white",
            "ticks": ""
           },
           "bgcolor": "#E5ECF6",
           "radialaxis": {
            "gridcolor": "white",
            "linecolor": "white",
            "ticks": ""
           }
          },
          "scene": {
           "xaxis": {
            "backgroundcolor": "#E5ECF6",
            "gridcolor": "white",
            "gridwidth": 2,
            "linecolor": "white",
            "showbackground": true,
            "ticks": "",
            "zerolinecolor": "white"
           },
           "yaxis": {
            "backgroundcolor": "#E5ECF6",
            "gridcolor": "white",
            "gridwidth": 2,
            "linecolor": "white",
            "showbackground": true,
            "ticks": "",
            "zerolinecolor": "white"
           },
           "zaxis": {
            "backgroundcolor": "#E5ECF6",
            "gridcolor": "white",
            "gridwidth": 2,
            "linecolor": "white",
            "showbackground": true,
            "ticks": "",
            "zerolinecolor": "white"
           }
          },
          "shapedefaults": {
           "line": {
            "color": "#2a3f5f"
           }
          },
          "ternary": {
           "aaxis": {
            "gridcolor": "white",
            "linecolor": "white",
            "ticks": ""
           },
           "baxis": {
            "gridcolor": "white",
            "linecolor": "white",
            "ticks": ""
           },
           "bgcolor": "#E5ECF6",
           "caxis": {
            "gridcolor": "white",
            "linecolor": "white",
            "ticks": ""
           }
          },
          "title": {
           "x": 0.05
          },
          "xaxis": {
           "automargin": true,
           "gridcolor": "white",
           "linecolor": "white",
           "ticks": "",
           "title": {
            "standoff": 15
           },
           "zerolinecolor": "white",
           "zerolinewidth": 2
          },
          "yaxis": {
           "automargin": true,
           "gridcolor": "white",
           "linecolor": "white",
           "ticks": "",
           "title": {
            "standoff": 15
           },
           "zerolinecolor": "white",
           "zerolinewidth": 2
          }
         }
        },
        "xaxis": {
         "title": {
          "text": "annual income"
         }
        },
        "yaxis": {
         "title": {
          "text": "purchase amount"
         }
        }
       }
      }
     },
     "metadata": {},
     "output_type": "display_data"
    }
   ],
   "source": [
    "fig = go.Figure()\n",
    "\n",
    "fig.add_trace(go.Scatter(\n",
    "    x=df['annual_income'],\n",
    "    y=df['purchase_amount'],\n",
    "    mode='markers'\n",
    "))\n",
    "fig.update_xaxes(title_text='annual income')\n",
    "fig.update_yaxes(title_text='purchase amount')\n",
    "fig.show()"
   ]
  },
  {
   "cell_type": "markdown",
   "id": "16afdeec-8c90-4ed1-a599-e0b1343bbf5c",
   "metadata": {},
   "source": [
    "7. Придумайте как визуализировать зависимость между частотой покупок, суммой покупок и скором лояльности *\n",
    "\n",
    "\\* Задание на доп. балл"
   ]
  },
  {
   "cell_type": "code",
   "execution_count": 56,
   "id": "e10d0cc7-a1ca-4204-a875-b1660e44618d",
   "metadata": {},
   "outputs": [
    {
     "data": {
      "application/vnd.plotly.v1+json": {
       "config": {
        "plotlyServerURL": "https://plot.ly"
       },
       "data": [
        {
         "marker": {
          "color": "#00004f"
         },
         "mode": "markers",
         "type": "scatter",
         "x": [
          12
         ],
         "y": [
          4.5
         ]
        },
        {
         "marker": {
          "color": "#00008b"
         },
         "mode": "markers",
         "type": "scatter",
         "x": [
          18
         ],
         "y": [
          7
         ]
        },
        {
         "marker": {
          "color": "#0000c7"
         },
         "mode": "markers",
         "type": "scatter",
         "x": [
          22
         ],
         "y": [
          8
         ]
        },
        {
         "marker": {
          "color": "#00003b"
         },
         "mode": "markers",
         "type": "scatter",
         "x": [
          10
         ],
         "y": [
          3
         ]
        },
        {
         "marker": {
          "color": "#000057"
         },
         "mode": "markers",
         "type": "scatter",
         "x": [
          13
         ],
         "y": [
          4.8
         ]
        },
        {
         "marker": {
          "color": "#0000bf"
         },
         "mode": "markers",
         "type": "scatter",
         "x": [
          21
         ],
         "y": [
          7.8
         ]
        },
        {
         "marker": {
          "color": "#00009f"
         },
         "mode": "markers",
         "type": "scatter",
         "x": [
          19
         ],
         "y": [
          6.5
         ]
        },
        {
         "marker": {
          "color": "#00005b"
         },
         "mode": "markers",
         "type": "scatter",
         "x": [
          14
         ],
         "y": [
          4.2
         ]
        },
        {
         "marker": {
          "color": "#0000ef"
         },
         "mode": "markers",
         "type": "scatter",
         "x": [
          25
         ],
         "y": [
          9
         ]
        },
        {
         "marker": {
          "color": "#00007f"
         },
         "mode": "markers",
         "type": "scatter",
         "x": [
          17
         ],
         "y": [
          5.5
         ]
        },
        {
         "marker": {
          "color": "#000063"
         },
         "mode": "markers",
         "type": "scatter",
         "x": [
          15
         ],
         "y": [
          4.4
         ]
        },
        {
         "marker": {
          "color": "#0000cf"
         },
         "mode": "markers",
         "type": "scatter",
         "x": [
          23
         ],
         "y": [
          8.2
         ]
        },
        {
         "marker": {
          "color": "#000097"
         },
         "mode": "markers",
         "type": "scatter",
         "x": [
          18
         ],
         "y": [
          6
         ]
        },
        {
         "marker": {
          "color": "#0000a7"
         },
         "mode": "markers",
         "type": "scatter",
         "x": [
          20
         ],
         "y": [
          6.8
         ]
        },
        {
         "marker": {
          "color": "#0000eb"
         },
         "mode": "markers",
         "type": "scatter",
         "x": [
          24
         ],
         "y": [
          8.9
         ]
        },
        {
         "marker": {
          "color": "#00003f"
         },
         "mode": "markers",
         "type": "scatter",
         "x": [
          11
         ],
         "y": [
          3.2
         ]
        },
        {
         "marker": {
          "color": "#0000af"
         },
         "mode": "markers",
         "type": "scatter",
         "x": [
          21
         ],
         "y": [
          7
         ]
        },
        {
         "marker": {
          "color": "#000077"
         },
         "mode": "markers",
         "type": "scatter",
         "x": [
          16
         ],
         "y": [
          5
         ]
        },
        {
         "marker": {
          "color": "#0000cb"
         },
         "mode": "markers",
         "type": "scatter",
         "x": [
          22
         ],
         "y": [
          8.1
         ]
        },
        {
         "marker": {
          "color": "#00005f"
         },
         "mode": "markers",
         "type": "scatter",
         "x": [
          14
         ],
         "y": [
          4.3
         ]
        },
        {
         "marker": {
          "color": "#0000f3"
         },
         "mode": "markers",
         "type": "scatter",
         "x": [
          26
         ],
         "y": [
          9.2
         ]
        },
        {
         "marker": {
          "color": "#000043"
         },
         "mode": "markers",
         "type": "scatter",
         "x": [
          12
         ],
         "y": [
          3.3
         ]
        },
        {
         "marker": {
          "color": "#0000b7"
         },
         "mode": "markers",
         "type": "scatter",
         "x": [
          21
         ],
         "y": [
          7.5
         ]
        },
        {
         "marker": {
          "color": "#00009b"
         },
         "mode": "markers",
         "type": "scatter",
         "x": [
          19
         ],
         "y": [
          6.2
         ]
        },
        {
         "marker": {
          "color": "#0000ab"
         },
         "mode": "markers",
         "type": "scatter",
         "x": [
          20
         ],
         "y": [
          6.9
         ]
        },
        {
         "marker": {
          "color": "#0000d3"
         },
         "mode": "markers",
         "type": "scatter",
         "x": [
          23
         ],
         "y": [
          8.3
         ]
        },
        {
         "marker": {
          "color": "#00008f"
         },
         "mode": "markers",
         "type": "scatter",
         "x": [
          18
         ],
         "y": [
          5.8
         ]
        },
        {
         "marker": {
          "color": "#00006f"
         },
         "mode": "markers",
         "type": "scatter",
         "x": [
          15
         ],
         "y": [
          4.6
         ]
        },
        {
         "marker": {
          "color": "#0000ef"
         },
         "mode": "markers",
         "type": "scatter",
         "x": [
          25
         ],
         "y": [
          9
         ]
        },
        {
         "marker": {
          "color": "#0000b3"
         },
         "mode": "markers",
         "type": "scatter",
         "x": [
          22
         ],
         "y": [
          7.2
         ]
        },
        {
         "marker": {
          "color": "#00008b"
         },
         "mode": "markers",
         "type": "scatter",
         "x": [
          19
         ],
         "y": [
          6.5
         ]
        },
        {
         "marker": {
          "color": "#0000bb"
         },
         "mode": "markers",
         "type": "scatter",
         "x": [
          21
         ],
         "y": [
          7.8
         ]
        },
        {
         "marker": {
          "color": "#00007f"
         },
         "mode": "markers",
         "type": "scatter",
         "x": [
          16
         ],
         "y": [
          5.5
         ]
        },
        {
         "marker": {
          "color": "#00005b"
         },
         "mode": "markers",
         "type": "scatter",
         "x": [
          14
         ],
         "y": [
          4
         ]
        },
        {
         "marker": {
          "color": "#0000ff"
         },
         "mode": "markers",
         "type": "scatter",
         "x": [
          28
         ],
         "y": [
          9.5
         ]
        },
        {
         "marker": {
          "color": "#00004f"
         },
         "mode": "markers",
         "type": "scatter",
         "x": [
          12
         ],
         "y": [
          4.5
         ]
        },
        {
         "marker": {
          "color": "#0000db"
         },
         "mode": "markers",
         "type": "scatter",
         "x": [
          24
         ],
         "y": [
          8.5
         ]
        },
        {
         "marker": {
          "color": "#000077"
         },
         "mode": "markers",
         "type": "scatter",
         "x": [
          17
         ],
         "y": [
          5
         ]
        },
        {
         "marker": {
          "color": "#0000f7"
         },
         "mode": "markers",
         "type": "scatter",
         "x": [
          27
         ],
         "y": [
          9.3
         ]
        },
        {
         "marker": {
          "color": "#000063"
         },
         "mode": "markers",
         "type": "scatter",
         "x": [
          14
         ],
         "y": [
          4.2
         ]
        },
        {
         "marker": {
          "color": "#0000af"
         },
         "mode": "markers",
         "type": "scatter",
         "x": [
          21
         ],
         "y": [
          7
         ]
        },
        {
         "marker": {
          "color": "#0000a7"
         },
         "mode": "markers",
         "type": "scatter",
         "x": [
          20
         ],
         "y": [
          6.8
         ]
        },
        {
         "marker": {
          "color": "#0000cb"
         },
         "mode": "markers",
         "type": "scatter",
         "x": [
          22
         ],
         "y": [
          8.1
         ]
        },
        {
         "marker": {
          "color": "#000097"
         },
         "mode": "markers",
         "type": "scatter",
         "x": [
          18
         ],
         "y": [
          6
         ]
        },
        {
         "marker": {
          "color": "#0000f3"
         },
         "mode": "markers",
         "type": "scatter",
         "x": [
          26
         ],
         "y": [
          9.2
         ]
        },
        {
         "marker": {
          "color": "#000057"
         },
         "mode": "markers",
         "type": "scatter",
         "x": [
          13
         ],
         "y": [
          4.4
         ]
        },
        {
         "marker": {
          "color": "#0000bf"
         },
         "mode": "markers",
         "type": "scatter",
         "x": [
          21
         ],
         "y": [
          7.8
         ]
        },
        {
         "marker": {
          "color": "#0000ef"
         },
         "mode": "markers",
         "type": "scatter",
         "x": [
          25
         ],
         "y": [
          9
         ]
        },
        {
         "marker": {
          "color": "#00009f"
         },
         "mode": "markers",
         "type": "scatter",
         "x": [
          19
         ],
         "y": [
          6.5
         ]
        },
        {
         "marker": {
          "color": "#000043"
         },
         "mode": "markers",
         "type": "scatter",
         "x": [
          11
         ],
         "y": [
          3.3
         ]
        },
        {
         "marker": {
          "color": "#0000eb"
         },
         "mode": "markers",
         "type": "scatter",
         "x": [
          24
         ],
         "y": [
          8.9
         ]
        },
        {
         "marker": {
          "color": "#00005f"
         },
         "mode": "markers",
         "type": "scatter",
         "x": [
          14
         ],
         "y": [
          4.3
         ]
        },
        {
         "marker": {
          "color": "#0000c7"
         },
         "mode": "markers",
         "type": "scatter",
         "x": [
          22
         ],
         "y": [
          8
         ]
        },
        {
         "marker": {
          "color": "#0000b3"
         },
         "mode": "markers",
         "type": "scatter",
         "x": [
          20
         ],
         "y": [
          7.2
         ]
        },
        {
         "marker": {
          "color": "#0000ab"
         },
         "mode": "markers",
         "type": "scatter",
         "x": [
          20
         ],
         "y": [
          6.9
         ]
        },
        {
         "marker": {
          "color": "#0000fb"
         },
         "mode": "markers",
         "type": "scatter",
         "x": [
          27
         ],
         "y": [
          9.4
         ]
        },
        {
         "marker": {
          "color": "#00008f"
         },
         "mode": "markers",
         "type": "scatter",
         "x": [
          18
         ],
         "y": [
          5.8
         ]
        },
        {
         "marker": {
          "color": "#000087"
         },
         "mode": "markers",
         "type": "scatter",
         "x": [
          17
         ],
         "y": [
          5.6
         ]
        },
        {
         "marker": {
          "color": "#0000cf"
         },
         "mode": "markers",
         "type": "scatter",
         "x": [
          23
         ],
         "y": [
          8.2
         ]
        },
        {
         "marker": {
          "color": "#0000ff"
         },
         "mode": "markers",
         "type": "scatter",
         "x": [
          28
         ],
         "y": [
          9.5
         ]
        },
        {
         "marker": {
          "color": "#00006b"
         },
         "mode": "markers",
         "type": "scatter",
         "x": [
          15
         ],
         "y": [
          4.3
         ]
        },
        {
         "marker": {
          "color": "#000097"
         },
         "mode": "markers",
         "type": "scatter",
         "x": [
          18
         ],
         "y": [
          6
         ]
        },
        {
         "marker": {
          "color": "#0000ef"
         },
         "mode": "markers",
         "type": "scatter",
         "x": [
          25
         ],
         "y": [
          9
         ]
        },
        {
         "marker": {
          "color": "#00005b"
         },
         "mode": "markers",
         "type": "scatter",
         "x": [
          14
         ],
         "y": [
          4
         ]
        },
        {
         "marker": {
          "color": "#0000bb"
         },
         "mode": "markers",
         "type": "scatter",
         "x": [
          21
         ],
         "y": [
          7.8
         ]
        },
        {
         "marker": {
          "color": "#0000bf"
         },
         "mode": "markers",
         "type": "scatter",
         "x": [
          22
         ],
         "y": [
          7.7
         ]
        },
        {
         "marker": {
          "color": "#0000ef"
         },
         "mode": "markers",
         "type": "scatter",
         "x": [
          25
         ],
         "y": [
          9
         ]
        },
        {
         "marker": {
          "color": "#000043"
         },
         "mode": "markers",
         "type": "scatter",
         "x": [
          11
         ],
         "y": [
          3.3
         ]
        },
        {
         "marker": {
          "color": "#0000db"
         },
         "mode": "markers",
         "type": "scatter",
         "x": [
          24
         ],
         "y": [
          8.5
         ]
        },
        {
         "marker": {
          "color": "#000077"
         },
         "mode": "markers",
         "type": "scatter",
         "x": [
          16
         ],
         "y": [
          5
         ]
        },
        {
         "marker": {
          "color": "#0000af"
         },
         "mode": "markers",
         "type": "scatter",
         "x": [
          21
         ],
         "y": [
          7
         ]
        },
        {
         "marker": {
          "color": "#0000a7"
         },
         "mode": "markers",
         "type": "scatter",
         "x": [
          20
         ],
         "y": [
          6.8
         ]
        },
        {
         "marker": {
          "color": "#0000cb"
         },
         "mode": "markers",
         "type": "scatter",
         "x": [
          22
         ],
         "y": [
          8.1
         ]
        },
        {
         "marker": {
          "color": "#000097"
         },
         "mode": "markers",
         "type": "scatter",
         "x": [
          18
         ],
         "y": [
          6
         ]
        },
        {
         "marker": {
          "color": "#0000f3"
         },
         "mode": "markers",
         "type": "scatter",
         "x": [
          26
         ],
         "y": [
          9.2
         ]
        },
        {
         "marker": {
          "color": "#000063"
         },
         "mode": "markers",
         "type": "scatter",
         "x": [
          14
         ],
         "y": [
          4.2
         ]
        },
        {
         "marker": {
          "color": "#0000bf"
         },
         "mode": "markers",
         "type": "scatter",
         "x": [
          21
         ],
         "y": [
          7.8
         ]
        },
        {
         "marker": {
          "color": "#0000ef"
         },
         "mode": "markers",
         "type": "scatter",
         "x": [
          25
         ],
         "y": [
          9
         ]
        },
        {
         "marker": {
          "color": "#00009f"
         },
         "mode": "markers",
         "type": "scatter",
         "x": [
          19
         ],
         "y": [
          6.5
         ]
        },
        {
         "marker": {
          "color": "#000043"
         },
         "mode": "markers",
         "type": "scatter",
         "x": [
          11
         ],
         "y": [
          3.3
         ]
        },
        {
         "marker": {
          "color": "#0000eb"
         },
         "mode": "markers",
         "type": "scatter",
         "x": [
          24
         ],
         "y": [
          8.9
         ]
        },
        {
         "marker": {
          "color": "#00005f"
         },
         "mode": "markers",
         "type": "scatter",
         "x": [
          14
         ],
         "y": [
          4.3
         ]
        },
        {
         "marker": {
          "color": "#0000c7"
         },
         "mode": "markers",
         "type": "scatter",
         "x": [
          22
         ],
         "y": [
          8
         ]
        },
        {
         "marker": {
          "color": "#0000b3"
         },
         "mode": "markers",
         "type": "scatter",
         "x": [
          20
         ],
         "y": [
          7.2
         ]
        },
        {
         "marker": {
          "color": "#0000ab"
         },
         "mode": "markers",
         "type": "scatter",
         "x": [
          20
         ],
         "y": [
          6.9
         ]
        },
        {
         "marker": {
          "color": "#0000fb"
         },
         "mode": "markers",
         "type": "scatter",
         "x": [
          27
         ],
         "y": [
          9.4
         ]
        },
        {
         "marker": {
          "color": "#00008f"
         },
         "mode": "markers",
         "type": "scatter",
         "x": [
          18
         ],
         "y": [
          5.8
         ]
        },
        {
         "marker": {
          "color": "#000087"
         },
         "mode": "markers",
         "type": "scatter",
         "x": [
          17
         ],
         "y": [
          5.6
         ]
        },
        {
         "marker": {
          "color": "#0000cf"
         },
         "mode": "markers",
         "type": "scatter",
         "x": [
          23
         ],
         "y": [
          8.2
         ]
        },
        {
         "marker": {
          "color": "#0000ff"
         },
         "mode": "markers",
         "type": "scatter",
         "x": [
          28
         ],
         "y": [
          9.5
         ]
        },
        {
         "marker": {
          "color": "#00006b"
         },
         "mode": "markers",
         "type": "scatter",
         "x": [
          15
         ],
         "y": [
          4.3
         ]
        },
        {
         "marker": {
          "color": "#000097"
         },
         "mode": "markers",
         "type": "scatter",
         "x": [
          18
         ],
         "y": [
          6
         ]
        },
        {
         "marker": {
          "color": "#0000ef"
         },
         "mode": "markers",
         "type": "scatter",
         "x": [
          25
         ],
         "y": [
          9
         ]
        },
        {
         "marker": {
          "color": "#00005b"
         },
         "mode": "markers",
         "type": "scatter",
         "x": [
          14
         ],
         "y": [
          4
         ]
        },
        {
         "marker": {
          "color": "#0000bb"
         },
         "mode": "markers",
         "type": "scatter",
         "x": [
          21
         ],
         "y": [
          7.8
         ]
        },
        {
         "marker": {
          "color": "#0000bf"
         },
         "mode": "markers",
         "type": "scatter",
         "x": [
          22
         ],
         "y": [
          7.7
         ]
        },
        {
         "marker": {
          "color": "#0000ef"
         },
         "mode": "markers",
         "type": "scatter",
         "x": [
          25
         ],
         "y": [
          9
         ]
        },
        {
         "marker": {
          "color": "#000043"
         },
         "mode": "markers",
         "type": "scatter",
         "x": [
          11
         ],
         "y": [
          3.3
         ]
        },
        {
         "marker": {
          "color": "#0000db"
         },
         "mode": "markers",
         "type": "scatter",
         "x": [
          24
         ],
         "y": [
          8.5
         ]
        },
        {
         "marker": {
          "color": "#000077"
         },
         "mode": "markers",
         "type": "scatter",
         "x": [
          16
         ],
         "y": [
          5
         ]
        },
        {
         "marker": {
          "color": "#0000af"
         },
         "mode": "markers",
         "type": "scatter",
         "x": [
          21
         ],
         "y": [
          7
         ]
        },
        {
         "marker": {
          "color": "#0000a7"
         },
         "mode": "markers",
         "type": "scatter",
         "x": [
          20
         ],
         "y": [
          6.8
         ]
        },
        {
         "marker": {
          "color": "#0000cb"
         },
         "mode": "markers",
         "type": "scatter",
         "x": [
          22
         ],
         "y": [
          8.1
         ]
        },
        {
         "marker": {
          "color": "#000097"
         },
         "mode": "markers",
         "type": "scatter",
         "x": [
          18
         ],
         "y": [
          6
         ]
        },
        {
         "marker": {
          "color": "#0000f3"
         },
         "mode": "markers",
         "type": "scatter",
         "x": [
          26
         ],
         "y": [
          9.2
         ]
        },
        {
         "marker": {
          "color": "#000063"
         },
         "mode": "markers",
         "type": "scatter",
         "x": [
          14
         ],
         "y": [
          4.2
         ]
        },
        {
         "marker": {
          "color": "#0000bf"
         },
         "mode": "markers",
         "type": "scatter",
         "x": [
          21
         ],
         "y": [
          7.8
         ]
        },
        {
         "marker": {
          "color": "#0000ef"
         },
         "mode": "markers",
         "type": "scatter",
         "x": [
          25
         ],
         "y": [
          9
         ]
        },
        {
         "marker": {
          "color": "#00009f"
         },
         "mode": "markers",
         "type": "scatter",
         "x": [
          19
         ],
         "y": [
          6.5
         ]
        },
        {
         "marker": {
          "color": "#000043"
         },
         "mode": "markers",
         "type": "scatter",
         "x": [
          11
         ],
         "y": [
          3.3
         ]
        },
        {
         "marker": {
          "color": "#0000eb"
         },
         "mode": "markers",
         "type": "scatter",
         "x": [
          24
         ],
         "y": [
          8.9
         ]
        },
        {
         "marker": {
          "color": "#00005f"
         },
         "mode": "markers",
         "type": "scatter",
         "x": [
          14
         ],
         "y": [
          4.3
         ]
        },
        {
         "marker": {
          "color": "#0000c7"
         },
         "mode": "markers",
         "type": "scatter",
         "x": [
          22
         ],
         "y": [
          8
         ]
        },
        {
         "marker": {
          "color": "#0000b3"
         },
         "mode": "markers",
         "type": "scatter",
         "x": [
          20
         ],
         "y": [
          7.2
         ]
        },
        {
         "marker": {
          "color": "#0000ab"
         },
         "mode": "markers",
         "type": "scatter",
         "x": [
          20
         ],
         "y": [
          6.9
         ]
        },
        {
         "marker": {
          "color": "#0000fb"
         },
         "mode": "markers",
         "type": "scatter",
         "x": [
          27
         ],
         "y": [
          9.4
         ]
        },
        {
         "marker": {
          "color": "#00008f"
         },
         "mode": "markers",
         "type": "scatter",
         "x": [
          18
         ],
         "y": [
          5.8
         ]
        },
        {
         "marker": {
          "color": "#000087"
         },
         "mode": "markers",
         "type": "scatter",
         "x": [
          17
         ],
         "y": [
          5.6
         ]
        },
        {
         "marker": {
          "color": "#0000cf"
         },
         "mode": "markers",
         "type": "scatter",
         "x": [
          23
         ],
         "y": [
          8.2
         ]
        },
        {
         "marker": {
          "color": "#0000ff"
         },
         "mode": "markers",
         "type": "scatter",
         "x": [
          28
         ],
         "y": [
          9.5
         ]
        },
        {
         "marker": {
          "color": "#00006b"
         },
         "mode": "markers",
         "type": "scatter",
         "x": [
          15
         ],
         "y": [
          4.3
         ]
        },
        {
         "marker": {
          "color": "#000097"
         },
         "mode": "markers",
         "type": "scatter",
         "x": [
          18
         ],
         "y": [
          6
         ]
        },
        {
         "marker": {
          "color": "#0000ef"
         },
         "mode": "markers",
         "type": "scatter",
         "x": [
          25
         ],
         "y": [
          9
         ]
        },
        {
         "marker": {
          "color": "#00005b"
         },
         "mode": "markers",
         "type": "scatter",
         "x": [
          14
         ],
         "y": [
          4
         ]
        },
        {
         "marker": {
          "color": "#0000bb"
         },
         "mode": "markers",
         "type": "scatter",
         "x": [
          21
         ],
         "y": [
          7.8
         ]
        },
        {
         "marker": {
          "color": "#0000bf"
         },
         "mode": "markers",
         "type": "scatter",
         "x": [
          22
         ],
         "y": [
          7.7
         ]
        },
        {
         "marker": {
          "color": "#0000ef"
         },
         "mode": "markers",
         "type": "scatter",
         "x": [
          25
         ],
         "y": [
          9
         ]
        },
        {
         "marker": {
          "color": "#000043"
         },
         "mode": "markers",
         "type": "scatter",
         "x": [
          11
         ],
         "y": [
          3.3
         ]
        },
        {
         "marker": {
          "color": "#0000db"
         },
         "mode": "markers",
         "type": "scatter",
         "x": [
          24
         ],
         "y": [
          8.5
         ]
        },
        {
         "marker": {
          "color": "#000077"
         },
         "mode": "markers",
         "type": "scatter",
         "x": [
          16
         ],
         "y": [
          5
         ]
        },
        {
         "marker": {
          "color": "#0000af"
         },
         "mode": "markers",
         "type": "scatter",
         "x": [
          21
         ],
         "y": [
          7
         ]
        },
        {
         "marker": {
          "color": "#0000a7"
         },
         "mode": "markers",
         "type": "scatter",
         "x": [
          20
         ],
         "y": [
          6.8
         ]
        },
        {
         "marker": {
          "color": "#0000cb"
         },
         "mode": "markers",
         "type": "scatter",
         "x": [
          22
         ],
         "y": [
          8.1
         ]
        },
        {
         "marker": {
          "color": "#000097"
         },
         "mode": "markers",
         "type": "scatter",
         "x": [
          18
         ],
         "y": [
          6
         ]
        },
        {
         "marker": {
          "color": "#0000f3"
         },
         "mode": "markers",
         "type": "scatter",
         "x": [
          26
         ],
         "y": [
          9.2
         ]
        },
        {
         "marker": {
          "color": "#000063"
         },
         "mode": "markers",
         "type": "scatter",
         "x": [
          14
         ],
         "y": [
          4.2
         ]
        },
        {
         "marker": {
          "color": "#0000bf"
         },
         "mode": "markers",
         "type": "scatter",
         "x": [
          21
         ],
         "y": [
          7.8
         ]
        },
        {
         "marker": {
          "color": "#0000ef"
         },
         "mode": "markers",
         "type": "scatter",
         "x": [
          25
         ],
         "y": [
          9
         ]
        },
        {
         "marker": {
          "color": "#00009f"
         },
         "mode": "markers",
         "type": "scatter",
         "x": [
          19
         ],
         "y": [
          6.5
         ]
        },
        {
         "marker": {
          "color": "#000043"
         },
         "mode": "markers",
         "type": "scatter",
         "x": [
          11
         ],
         "y": [
          3.3
         ]
        },
        {
         "marker": {
          "color": "#0000eb"
         },
         "mode": "markers",
         "type": "scatter",
         "x": [
          24
         ],
         "y": [
          8.9
         ]
        },
        {
         "marker": {
          "color": "#00005f"
         },
         "mode": "markers",
         "type": "scatter",
         "x": [
          14
         ],
         "y": [
          4.3
         ]
        },
        {
         "marker": {
          "color": "#0000c7"
         },
         "mode": "markers",
         "type": "scatter",
         "x": [
          22
         ],
         "y": [
          8
         ]
        },
        {
         "marker": {
          "color": "#0000b3"
         },
         "mode": "markers",
         "type": "scatter",
         "x": [
          20
         ],
         "y": [
          7.2
         ]
        },
        {
         "marker": {
          "color": "#0000ab"
         },
         "mode": "markers",
         "type": "scatter",
         "x": [
          20
         ],
         "y": [
          6.9
         ]
        },
        {
         "marker": {
          "color": "#0000fb"
         },
         "mode": "markers",
         "type": "scatter",
         "x": [
          27
         ],
         "y": [
          9.4
         ]
        },
        {
         "marker": {
          "color": "#00008f"
         },
         "mode": "markers",
         "type": "scatter",
         "x": [
          18
         ],
         "y": [
          5.8
         ]
        },
        {
         "marker": {
          "color": "#000087"
         },
         "mode": "markers",
         "type": "scatter",
         "x": [
          17
         ],
         "y": [
          5.6
         ]
        },
        {
         "marker": {
          "color": "#0000cf"
         },
         "mode": "markers",
         "type": "scatter",
         "x": [
          23
         ],
         "y": [
          8.2
         ]
        },
        {
         "marker": {
          "color": "#0000ff"
         },
         "mode": "markers",
         "type": "scatter",
         "x": [
          28
         ],
         "y": [
          9.5
         ]
        },
        {
         "marker": {
          "color": "#00006b"
         },
         "mode": "markers",
         "type": "scatter",
         "x": [
          15
         ],
         "y": [
          4.3
         ]
        },
        {
         "marker": {
          "color": "#000097"
         },
         "mode": "markers",
         "type": "scatter",
         "x": [
          18
         ],
         "y": [
          6
         ]
        },
        {
         "marker": {
          "color": "#0000ef"
         },
         "mode": "markers",
         "type": "scatter",
         "x": [
          25
         ],
         "y": [
          9
         ]
        },
        {
         "marker": {
          "color": "#00005b"
         },
         "mode": "markers",
         "type": "scatter",
         "x": [
          14
         ],
         "y": [
          4
         ]
        },
        {
         "marker": {
          "color": "#0000bb"
         },
         "mode": "markers",
         "type": "scatter",
         "x": [
          21
         ],
         "y": [
          7.8
         ]
        },
        {
         "marker": {
          "color": "#0000bf"
         },
         "mode": "markers",
         "type": "scatter",
         "x": [
          22
         ],
         "y": [
          7.7
         ]
        },
        {
         "marker": {
          "color": "#0000ef"
         },
         "mode": "markers",
         "type": "scatter",
         "x": [
          25
         ],
         "y": [
          9
         ]
        },
        {
         "marker": {
          "color": "#000043"
         },
         "mode": "markers",
         "type": "scatter",
         "x": [
          11
         ],
         "y": [
          3.3
         ]
        },
        {
         "marker": {
          "color": "#0000db"
         },
         "mode": "markers",
         "type": "scatter",
         "x": [
          24
         ],
         "y": [
          8.5
         ]
        },
        {
         "marker": {
          "color": "#000077"
         },
         "mode": "markers",
         "type": "scatter",
         "x": [
          16
         ],
         "y": [
          5
         ]
        },
        {
         "marker": {
          "color": "#0000af"
         },
         "mode": "markers",
         "type": "scatter",
         "x": [
          21
         ],
         "y": [
          7
         ]
        },
        {
         "marker": {
          "color": "#0000a7"
         },
         "mode": "markers",
         "type": "scatter",
         "x": [
          20
         ],
         "y": [
          6.8
         ]
        },
        {
         "marker": {
          "color": "#0000cb"
         },
         "mode": "markers",
         "type": "scatter",
         "x": [
          22
         ],
         "y": [
          8.1
         ]
        },
        {
         "marker": {
          "color": "#000097"
         },
         "mode": "markers",
         "type": "scatter",
         "x": [
          18
         ],
         "y": [
          6
         ]
        },
        {
         "marker": {
          "color": "#0000f3"
         },
         "mode": "markers",
         "type": "scatter",
         "x": [
          26
         ],
         "y": [
          9.2
         ]
        },
        {
         "marker": {
          "color": "#000063"
         },
         "mode": "markers",
         "type": "scatter",
         "x": [
          14
         ],
         "y": [
          4.2
         ]
        },
        {
         "marker": {
          "color": "#0000bf"
         },
         "mode": "markers",
         "type": "scatter",
         "x": [
          21
         ],
         "y": [
          7.8
         ]
        },
        {
         "marker": {
          "color": "#0000ef"
         },
         "mode": "markers",
         "type": "scatter",
         "x": [
          25
         ],
         "y": [
          9
         ]
        },
        {
         "marker": {
          "color": "#00009f"
         },
         "mode": "markers",
         "type": "scatter",
         "x": [
          19
         ],
         "y": [
          6.5
         ]
        },
        {
         "marker": {
          "color": "#000043"
         },
         "mode": "markers",
         "type": "scatter",
         "x": [
          11
         ],
         "y": [
          3.3
         ]
        },
        {
         "marker": {
          "color": "#0000eb"
         },
         "mode": "markers",
         "type": "scatter",
         "x": [
          24
         ],
         "y": [
          8.9
         ]
        },
        {
         "marker": {
          "color": "#00005f"
         },
         "mode": "markers",
         "type": "scatter",
         "x": [
          14
         ],
         "y": [
          4.3
         ]
        },
        {
         "marker": {
          "color": "#0000c7"
         },
         "mode": "markers",
         "type": "scatter",
         "x": [
          22
         ],
         "y": [
          8
         ]
        },
        {
         "marker": {
          "color": "#0000b3"
         },
         "mode": "markers",
         "type": "scatter",
         "x": [
          20
         ],
         "y": [
          7.2
         ]
        },
        {
         "marker": {
          "color": "#0000ab"
         },
         "mode": "markers",
         "type": "scatter",
         "x": [
          20
         ],
         "y": [
          6.9
         ]
        },
        {
         "marker": {
          "color": "#0000fb"
         },
         "mode": "markers",
         "type": "scatter",
         "x": [
          27
         ],
         "y": [
          9.4
         ]
        },
        {
         "marker": {
          "color": "#00008f"
         },
         "mode": "markers",
         "type": "scatter",
         "x": [
          18
         ],
         "y": [
          5.8
         ]
        },
        {
         "marker": {
          "color": "#000087"
         },
         "mode": "markers",
         "type": "scatter",
         "x": [
          17
         ],
         "y": [
          5.6
         ]
        },
        {
         "marker": {
          "color": "#0000cf"
         },
         "mode": "markers",
         "type": "scatter",
         "x": [
          23
         ],
         "y": [
          8.2
         ]
        },
        {
         "marker": {
          "color": "#0000ff"
         },
         "mode": "markers",
         "type": "scatter",
         "x": [
          28
         ],
         "y": [
          9.5
         ]
        },
        {
         "marker": {
          "color": "#00006b"
         },
         "mode": "markers",
         "type": "scatter",
         "x": [
          15
         ],
         "y": [
          4.3
         ]
        },
        {
         "marker": {
          "color": "#000097"
         },
         "mode": "markers",
         "type": "scatter",
         "x": [
          18
         ],
         "y": [
          6
         ]
        },
        {
         "marker": {
          "color": "#0000ef"
         },
         "mode": "markers",
         "type": "scatter",
         "x": [
          25
         ],
         "y": [
          9
         ]
        },
        {
         "marker": {
          "color": "#00005b"
         },
         "mode": "markers",
         "type": "scatter",
         "x": [
          14
         ],
         "y": [
          4
         ]
        },
        {
         "marker": {
          "color": "#0000bb"
         },
         "mode": "markers",
         "type": "scatter",
         "x": [
          21
         ],
         "y": [
          7.8
         ]
        },
        {
         "marker": {
          "color": "#0000bf"
         },
         "mode": "markers",
         "type": "scatter",
         "x": [
          22
         ],
         "y": [
          7.7
         ]
        },
        {
         "marker": {
          "color": "#0000ef"
         },
         "mode": "markers",
         "type": "scatter",
         "x": [
          25
         ],
         "y": [
          9
         ]
        },
        {
         "marker": {
          "color": "#000043"
         },
         "mode": "markers",
         "type": "scatter",
         "x": [
          11
         ],
         "y": [
          3.3
         ]
        },
        {
         "marker": {
          "color": "#0000db"
         },
         "mode": "markers",
         "type": "scatter",
         "x": [
          24
         ],
         "y": [
          8.5
         ]
        },
        {
         "marker": {
          "color": "#000077"
         },
         "mode": "markers",
         "type": "scatter",
         "x": [
          16
         ],
         "y": [
          5
         ]
        },
        {
         "marker": {
          "color": "#0000af"
         },
         "mode": "markers",
         "type": "scatter",
         "x": [
          21
         ],
         "y": [
          7
         ]
        },
        {
         "marker": {
          "color": "#0000a7"
         },
         "mode": "markers",
         "type": "scatter",
         "x": [
          20
         ],
         "y": [
          6.8
         ]
        },
        {
         "marker": {
          "color": "#0000cb"
         },
         "mode": "markers",
         "type": "scatter",
         "x": [
          22
         ],
         "y": [
          8.1
         ]
        },
        {
         "marker": {
          "color": "#000097"
         },
         "mode": "markers",
         "type": "scatter",
         "x": [
          18
         ],
         "y": [
          6
         ]
        },
        {
         "marker": {
          "color": "#0000f3"
         },
         "mode": "markers",
         "type": "scatter",
         "x": [
          26
         ],
         "y": [
          9.2
         ]
        },
        {
         "marker": {
          "color": "#000063"
         },
         "mode": "markers",
         "type": "scatter",
         "x": [
          14
         ],
         "y": [
          4.2
         ]
        },
        {
         "marker": {
          "color": "#0000bf"
         },
         "mode": "markers",
         "type": "scatter",
         "x": [
          21
         ],
         "y": [
          7.8
         ]
        },
        {
         "marker": {
          "color": "#0000ef"
         },
         "mode": "markers",
         "type": "scatter",
         "x": [
          25
         ],
         "y": [
          9
         ]
        },
        {
         "marker": {
          "color": "#00009f"
         },
         "mode": "markers",
         "type": "scatter",
         "x": [
          19
         ],
         "y": [
          6.5
         ]
        },
        {
         "marker": {
          "color": "#000043"
         },
         "mode": "markers",
         "type": "scatter",
         "x": [
          11
         ],
         "y": [
          3.3
         ]
        },
        {
         "marker": {
          "color": "#0000eb"
         },
         "mode": "markers",
         "type": "scatter",
         "x": [
          24
         ],
         "y": [
          8.9
         ]
        },
        {
         "marker": {
          "color": "#00005f"
         },
         "mode": "markers",
         "type": "scatter",
         "x": [
          14
         ],
         "y": [
          4.3
         ]
        },
        {
         "marker": {
          "color": "#0000c7"
         },
         "mode": "markers",
         "type": "scatter",
         "x": [
          22
         ],
         "y": [
          8
         ]
        },
        {
         "marker": {
          "color": "#0000b3"
         },
         "mode": "markers",
         "type": "scatter",
         "x": [
          20
         ],
         "y": [
          7.2
         ]
        },
        {
         "marker": {
          "color": "#0000ab"
         },
         "mode": "markers",
         "type": "scatter",
         "x": [
          20
         ],
         "y": [
          6.9
         ]
        },
        {
         "marker": {
          "color": "#0000fb"
         },
         "mode": "markers",
         "type": "scatter",
         "x": [
          27
         ],
         "y": [
          9.4
         ]
        },
        {
         "marker": {
          "color": "#00008f"
         },
         "mode": "markers",
         "type": "scatter",
         "x": [
          18
         ],
         "y": [
          5.8
         ]
        },
        {
         "marker": {
          "color": "#000087"
         },
         "mode": "markers",
         "type": "scatter",
         "x": [
          17
         ],
         "y": [
          5.6
         ]
        },
        {
         "marker": {
          "color": "#0000cf"
         },
         "mode": "markers",
         "type": "scatter",
         "x": [
          23
         ],
         "y": [
          8.2
         ]
        },
        {
         "marker": {
          "color": "#0000ff"
         },
         "mode": "markers",
         "type": "scatter",
         "x": [
          28
         ],
         "y": [
          9.5
         ]
        },
        {
         "marker": {
          "color": "#00006b"
         },
         "mode": "markers",
         "type": "scatter",
         "x": [
          15
         ],
         "y": [
          4.3
         ]
        },
        {
         "marker": {
          "color": "#000097"
         },
         "mode": "markers",
         "type": "scatter",
         "x": [
          18
         ],
         "y": [
          6
         ]
        },
        {
         "marker": {
          "color": "#0000ef"
         },
         "mode": "markers",
         "type": "scatter",
         "x": [
          25
         ],
         "y": [
          9
         ]
        },
        {
         "marker": {
          "color": "#00005b"
         },
         "mode": "markers",
         "type": "scatter",
         "x": [
          14
         ],
         "y": [
          4
         ]
        },
        {
         "marker": {
          "color": "#0000bb"
         },
         "mode": "markers",
         "type": "scatter",
         "x": [
          21
         ],
         "y": [
          7.8
         ]
        },
        {
         "marker": {
          "color": "#0000bf"
         },
         "mode": "markers",
         "type": "scatter",
         "x": [
          22
         ],
         "y": [
          7.7
         ]
        },
        {
         "marker": {
          "color": "#0000ef"
         },
         "mode": "markers",
         "type": "scatter",
         "x": [
          25
         ],
         "y": [
          9
         ]
        },
        {
         "marker": {
          "color": "#000043"
         },
         "mode": "markers",
         "type": "scatter",
         "x": [
          11
         ],
         "y": [
          3.3
         ]
        },
        {
         "marker": {
          "color": "#0000db"
         },
         "mode": "markers",
         "type": "scatter",
         "x": [
          24
         ],
         "y": [
          8.5
         ]
        },
        {
         "marker": {
          "color": "#000077"
         },
         "mode": "markers",
         "type": "scatter",
         "x": [
          16
         ],
         "y": [
          5
         ]
        },
        {
         "marker": {
          "color": "#0000af"
         },
         "mode": "markers",
         "type": "scatter",
         "x": [
          21
         ],
         "y": [
          7
         ]
        },
        {
         "marker": {
          "color": "#0000a7"
         },
         "mode": "markers",
         "type": "scatter",
         "x": [
          20
         ],
         "y": [
          6.8
         ]
        },
        {
         "marker": {
          "color": "#0000cb"
         },
         "mode": "markers",
         "type": "scatter",
         "x": [
          22
         ],
         "y": [
          8.1
         ]
        },
        {
         "marker": {
          "color": "#000097"
         },
         "mode": "markers",
         "type": "scatter",
         "x": [
          18
         ],
         "y": [
          6
         ]
        },
        {
         "marker": {
          "color": "#0000f3"
         },
         "mode": "markers",
         "type": "scatter",
         "x": [
          26
         ],
         "y": [
          9.2
         ]
        },
        {
         "marker": {
          "color": "#000063"
         },
         "mode": "markers",
         "type": "scatter",
         "x": [
          14
         ],
         "y": [
          4.2
         ]
        },
        {
         "marker": {
          "color": "#0000bf"
         },
         "mode": "markers",
         "type": "scatter",
         "x": [
          21
         ],
         "y": [
          7.8
         ]
        },
        {
         "marker": {
          "color": "#0000ef"
         },
         "mode": "markers",
         "type": "scatter",
         "x": [
          25
         ],
         "y": [
          9
         ]
        },
        {
         "marker": {
          "color": "#00009f"
         },
         "mode": "markers",
         "type": "scatter",
         "x": [
          19
         ],
         "y": [
          6.5
         ]
        },
        {
         "marker": {
          "color": "#000043"
         },
         "mode": "markers",
         "type": "scatter",
         "x": [
          11
         ],
         "y": [
          3.3
         ]
        },
        {
         "marker": {
          "color": "#0000eb"
         },
         "mode": "markers",
         "type": "scatter",
         "x": [
          24
         ],
         "y": [
          8.9
         ]
        },
        {
         "marker": {
          "color": "#00005f"
         },
         "mode": "markers",
         "type": "scatter",
         "x": [
          14
         ],
         "y": [
          4.3
         ]
        },
        {
         "marker": {
          "color": "#0000c7"
         },
         "mode": "markers",
         "type": "scatter",
         "x": [
          22
         ],
         "y": [
          8
         ]
        },
        {
         "marker": {
          "color": "#0000b3"
         },
         "mode": "markers",
         "type": "scatter",
         "x": [
          20
         ],
         "y": [
          7.2
         ]
        },
        {
         "marker": {
          "color": "#0000ab"
         },
         "mode": "markers",
         "type": "scatter",
         "x": [
          20
         ],
         "y": [
          6.9
         ]
        },
        {
         "marker": {
          "color": "#0000fb"
         },
         "mode": "markers",
         "type": "scatter",
         "x": [
          27
         ],
         "y": [
          9.4
         ]
        },
        {
         "marker": {
          "color": "#00008f"
         },
         "mode": "markers",
         "type": "scatter",
         "x": [
          18
         ],
         "y": [
          5.8
         ]
        },
        {
         "marker": {
          "color": "#000087"
         },
         "mode": "markers",
         "type": "scatter",
         "x": [
          17
         ],
         "y": [
          5.6
         ]
        }
       ],
       "layout": {
        "showlegend": false,
        "template": {
         "data": {
          "bar": [
           {
            "error_x": {
             "color": "#2a3f5f"
            },
            "error_y": {
             "color": "#2a3f5f"
            },
            "marker": {
             "line": {
              "color": "#E5ECF6",
              "width": 0.5
             },
             "pattern": {
              "fillmode": "overlay",
              "size": 10,
              "solidity": 0.2
             }
            },
            "type": "bar"
           }
          ],
          "barpolar": [
           {
            "marker": {
             "line": {
              "color": "#E5ECF6",
              "width": 0.5
             },
             "pattern": {
              "fillmode": "overlay",
              "size": 10,
              "solidity": 0.2
             }
            },
            "type": "barpolar"
           }
          ],
          "carpet": [
           {
            "aaxis": {
             "endlinecolor": "#2a3f5f",
             "gridcolor": "white",
             "linecolor": "white",
             "minorgridcolor": "white",
             "startlinecolor": "#2a3f5f"
            },
            "baxis": {
             "endlinecolor": "#2a3f5f",
             "gridcolor": "white",
             "linecolor": "white",
             "minorgridcolor": "white",
             "startlinecolor": "#2a3f5f"
            },
            "type": "carpet"
           }
          ],
          "choropleth": [
           {
            "colorbar": {
             "outlinewidth": 0,
             "ticks": ""
            },
            "type": "choropleth"
           }
          ],
          "contour": [
           {
            "colorbar": {
             "outlinewidth": 0,
             "ticks": ""
            },
            "colorscale": [
             [
              0,
              "#0d0887"
             ],
             [
              0.1111111111111111,
              "#46039f"
             ],
             [
              0.2222222222222222,
              "#7201a8"
             ],
             [
              0.3333333333333333,
              "#9c179e"
             ],
             [
              0.4444444444444444,
              "#bd3786"
             ],
             [
              0.5555555555555556,
              "#d8576b"
             ],
             [
              0.6666666666666666,
              "#ed7953"
             ],
             [
              0.7777777777777778,
              "#fb9f3a"
             ],
             [
              0.8888888888888888,
              "#fdca26"
             ],
             [
              1,
              "#f0f921"
             ]
            ],
            "type": "contour"
           }
          ],
          "contourcarpet": [
           {
            "colorbar": {
             "outlinewidth": 0,
             "ticks": ""
            },
            "type": "contourcarpet"
           }
          ],
          "heatmap": [
           {
            "colorbar": {
             "outlinewidth": 0,
             "ticks": ""
            },
            "colorscale": [
             [
              0,
              "#0d0887"
             ],
             [
              0.1111111111111111,
              "#46039f"
             ],
             [
              0.2222222222222222,
              "#7201a8"
             ],
             [
              0.3333333333333333,
              "#9c179e"
             ],
             [
              0.4444444444444444,
              "#bd3786"
             ],
             [
              0.5555555555555556,
              "#d8576b"
             ],
             [
              0.6666666666666666,
              "#ed7953"
             ],
             [
              0.7777777777777778,
              "#fb9f3a"
             ],
             [
              0.8888888888888888,
              "#fdca26"
             ],
             [
              1,
              "#f0f921"
             ]
            ],
            "type": "heatmap"
           }
          ],
          "heatmapgl": [
           {
            "colorbar": {
             "outlinewidth": 0,
             "ticks": ""
            },
            "colorscale": [
             [
              0,
              "#0d0887"
             ],
             [
              0.1111111111111111,
              "#46039f"
             ],
             [
              0.2222222222222222,
              "#7201a8"
             ],
             [
              0.3333333333333333,
              "#9c179e"
             ],
             [
              0.4444444444444444,
              "#bd3786"
             ],
             [
              0.5555555555555556,
              "#d8576b"
             ],
             [
              0.6666666666666666,
              "#ed7953"
             ],
             [
              0.7777777777777778,
              "#fb9f3a"
             ],
             [
              0.8888888888888888,
              "#fdca26"
             ],
             [
              1,
              "#f0f921"
             ]
            ],
            "type": "heatmapgl"
           }
          ],
          "histogram": [
           {
            "marker": {
             "pattern": {
              "fillmode": "overlay",
              "size": 10,
              "solidity": 0.2
             }
            },
            "type": "histogram"
           }
          ],
          "histogram2d": [
           {
            "colorbar": {
             "outlinewidth": 0,
             "ticks": ""
            },
            "colorscale": [
             [
              0,
              "#0d0887"
             ],
             [
              0.1111111111111111,
              "#46039f"
             ],
             [
              0.2222222222222222,
              "#7201a8"
             ],
             [
              0.3333333333333333,
              "#9c179e"
             ],
             [
              0.4444444444444444,
              "#bd3786"
             ],
             [
              0.5555555555555556,
              "#d8576b"
             ],
             [
              0.6666666666666666,
              "#ed7953"
             ],
             [
              0.7777777777777778,
              "#fb9f3a"
             ],
             [
              0.8888888888888888,
              "#fdca26"
             ],
             [
              1,
              "#f0f921"
             ]
            ],
            "type": "histogram2d"
           }
          ],
          "histogram2dcontour": [
           {
            "colorbar": {
             "outlinewidth": 0,
             "ticks": ""
            },
            "colorscale": [
             [
              0,
              "#0d0887"
             ],
             [
              0.1111111111111111,
              "#46039f"
             ],
             [
              0.2222222222222222,
              "#7201a8"
             ],
             [
              0.3333333333333333,
              "#9c179e"
             ],
             [
              0.4444444444444444,
              "#bd3786"
             ],
             [
              0.5555555555555556,
              "#d8576b"
             ],
             [
              0.6666666666666666,
              "#ed7953"
             ],
             [
              0.7777777777777778,
              "#fb9f3a"
             ],
             [
              0.8888888888888888,
              "#fdca26"
             ],
             [
              1,
              "#f0f921"
             ]
            ],
            "type": "histogram2dcontour"
           }
          ],
          "mesh3d": [
           {
            "colorbar": {
             "outlinewidth": 0,
             "ticks": ""
            },
            "type": "mesh3d"
           }
          ],
          "parcoords": [
           {
            "line": {
             "colorbar": {
              "outlinewidth": 0,
              "ticks": ""
             }
            },
            "type": "parcoords"
           }
          ],
          "pie": [
           {
            "automargin": true,
            "type": "pie"
           }
          ],
          "scatter": [
           {
            "fillpattern": {
             "fillmode": "overlay",
             "size": 10,
             "solidity": 0.2
            },
            "type": "scatter"
           }
          ],
          "scatter3d": [
           {
            "line": {
             "colorbar": {
              "outlinewidth": 0,
              "ticks": ""
             }
            },
            "marker": {
             "colorbar": {
              "outlinewidth": 0,
              "ticks": ""
             }
            },
            "type": "scatter3d"
           }
          ],
          "scattercarpet": [
           {
            "marker": {
             "colorbar": {
              "outlinewidth": 0,
              "ticks": ""
             }
            },
            "type": "scattercarpet"
           }
          ],
          "scattergeo": [
           {
            "marker": {
             "colorbar": {
              "outlinewidth": 0,
              "ticks": ""
             }
            },
            "type": "scattergeo"
           }
          ],
          "scattergl": [
           {
            "marker": {
             "colorbar": {
              "outlinewidth": 0,
              "ticks": ""
             }
            },
            "type": "scattergl"
           }
          ],
          "scattermapbox": [
           {
            "marker": {
             "colorbar": {
              "outlinewidth": 0,
              "ticks": ""
             }
            },
            "type": "scattermapbox"
           }
          ],
          "scatterpolar": [
           {
            "marker": {
             "colorbar": {
              "outlinewidth": 0,
              "ticks": ""
             }
            },
            "type": "scatterpolar"
           }
          ],
          "scatterpolargl": [
           {
            "marker": {
             "colorbar": {
              "outlinewidth": 0,
              "ticks": ""
             }
            },
            "type": "scatterpolargl"
           }
          ],
          "scatterternary": [
           {
            "marker": {
             "colorbar": {
              "outlinewidth": 0,
              "ticks": ""
             }
            },
            "type": "scatterternary"
           }
          ],
          "surface": [
           {
            "colorbar": {
             "outlinewidth": 0,
             "ticks": ""
            },
            "colorscale": [
             [
              0,
              "#0d0887"
             ],
             [
              0.1111111111111111,
              "#46039f"
             ],
             [
              0.2222222222222222,
              "#7201a8"
             ],
             [
              0.3333333333333333,
              "#9c179e"
             ],
             [
              0.4444444444444444,
              "#bd3786"
             ],
             [
              0.5555555555555556,
              "#d8576b"
             ],
             [
              0.6666666666666666,
              "#ed7953"
             ],
             [
              0.7777777777777778,
              "#fb9f3a"
             ],
             [
              0.8888888888888888,
              "#fdca26"
             ],
             [
              1,
              "#f0f921"
             ]
            ],
            "type": "surface"
           }
          ],
          "table": [
           {
            "cells": {
             "fill": {
              "color": "#EBF0F8"
             },
             "line": {
              "color": "white"
             }
            },
            "header": {
             "fill": {
              "color": "#C8D4E3"
             },
             "line": {
              "color": "white"
             }
            },
            "type": "table"
           }
          ]
         },
         "layout": {
          "annotationdefaults": {
           "arrowcolor": "#2a3f5f",
           "arrowhead": 0,
           "arrowwidth": 1
          },
          "autotypenumbers": "strict",
          "coloraxis": {
           "colorbar": {
            "outlinewidth": 0,
            "ticks": ""
           }
          },
          "colorscale": {
           "diverging": [
            [
             0,
             "#8e0152"
            ],
            [
             0.1,
             "#c51b7d"
            ],
            [
             0.2,
             "#de77ae"
            ],
            [
             0.3,
             "#f1b6da"
            ],
            [
             0.4,
             "#fde0ef"
            ],
            [
             0.5,
             "#f7f7f7"
            ],
            [
             0.6,
             "#e6f5d0"
            ],
            [
             0.7,
             "#b8e186"
            ],
            [
             0.8,
             "#7fbc41"
            ],
            [
             0.9,
             "#4d9221"
            ],
            [
             1,
             "#276419"
            ]
           ],
           "sequential": [
            [
             0,
             "#0d0887"
            ],
            [
             0.1111111111111111,
             "#46039f"
            ],
            [
             0.2222222222222222,
             "#7201a8"
            ],
            [
             0.3333333333333333,
             "#9c179e"
            ],
            [
             0.4444444444444444,
             "#bd3786"
            ],
            [
             0.5555555555555556,
             "#d8576b"
            ],
            [
             0.6666666666666666,
             "#ed7953"
            ],
            [
             0.7777777777777778,
             "#fb9f3a"
            ],
            [
             0.8888888888888888,
             "#fdca26"
            ],
            [
             1,
             "#f0f921"
            ]
           ],
           "sequentialminus": [
            [
             0,
             "#0d0887"
            ],
            [
             0.1111111111111111,
             "#46039f"
            ],
            [
             0.2222222222222222,
             "#7201a8"
            ],
            [
             0.3333333333333333,
             "#9c179e"
            ],
            [
             0.4444444444444444,
             "#bd3786"
            ],
            [
             0.5555555555555556,
             "#d8576b"
            ],
            [
             0.6666666666666666,
             "#ed7953"
            ],
            [
             0.7777777777777778,
             "#fb9f3a"
            ],
            [
             0.8888888888888888,
             "#fdca26"
            ],
            [
             1,
             "#f0f921"
            ]
           ]
          },
          "colorway": [
           "#636efa",
           "#EF553B",
           "#00cc96",
           "#ab63fa",
           "#FFA15A",
           "#19d3f3",
           "#FF6692",
           "#B6E880",
           "#FF97FF",
           "#FECB52"
          ],
          "font": {
           "color": "#2a3f5f"
          },
          "geo": {
           "bgcolor": "white",
           "lakecolor": "white",
           "landcolor": "#E5ECF6",
           "showlakes": true,
           "showland": true,
           "subunitcolor": "white"
          },
          "hoverlabel": {
           "align": "left"
          },
          "hovermode": "closest",
          "mapbox": {
           "style": "light"
          },
          "paper_bgcolor": "white",
          "plot_bgcolor": "#E5ECF6",
          "polar": {
           "angularaxis": {
            "gridcolor": "white",
            "linecolor": "white",
            "ticks": ""
           },
           "bgcolor": "#E5ECF6",
           "radialaxis": {
            "gridcolor": "white",
            "linecolor": "white",
            "ticks": ""
           }
          },
          "scene": {
           "xaxis": {
            "backgroundcolor": "#E5ECF6",
            "gridcolor": "white",
            "gridwidth": 2,
            "linecolor": "white",
            "showbackground": true,
            "ticks": "",
            "zerolinecolor": "white"
           },
           "yaxis": {
            "backgroundcolor": "#E5ECF6",
            "gridcolor": "white",
            "gridwidth": 2,
            "linecolor": "white",
            "showbackground": true,
            "ticks": "",
            "zerolinecolor": "white"
           },
           "zaxis": {
            "backgroundcolor": "#E5ECF6",
            "gridcolor": "white",
            "gridwidth": 2,
            "linecolor": "white",
            "showbackground": true,
            "ticks": "",
            "zerolinecolor": "white"
           }
          },
          "shapedefaults": {
           "line": {
            "color": "#2a3f5f"
           }
          },
          "ternary": {
           "aaxis": {
            "gridcolor": "white",
            "linecolor": "white",
            "ticks": ""
           },
           "baxis": {
            "gridcolor": "white",
            "linecolor": "white",
            "ticks": ""
           },
           "bgcolor": "#E5ECF6",
           "caxis": {
            "gridcolor": "white",
            "linecolor": "white",
            "ticks": ""
           }
          },
          "title": {
           "x": 0.05
          },
          "xaxis": {
           "automargin": true,
           "gridcolor": "white",
           "linecolor": "white",
           "ticks": "",
           "title": {
            "standoff": 15
           },
           "zerolinecolor": "white",
           "zerolinewidth": 2
          },
          "yaxis": {
           "automargin": true,
           "gridcolor": "white",
           "linecolor": "white",
           "ticks": "",
           "title": {
            "standoff": 15
           },
           "zerolinecolor": "white",
           "zerolinewidth": 2
          }
         }
        },
        "xaxis": {
         "title": {
          "text": "purchase frequency"
         }
        },
        "yaxis": {
         "title": {
          "text": "loyalty score"
         }
        }
       }
      }
     },
     "metadata": {},
     "output_type": "display_data"
    }
   ],
   "source": [
    "def define_color_by_purchase_amount(pa: int):\n",
    "    h = pa*255//640\n",
    "    return '#0000' + ('' if h >= 16 else '0') + hex(h)[2:]\n",
    "\n",
    "fig = go.Figure()\n",
    "for index, row in df.iterrows():\n",
    "    fig.add_trace(go.Scatter(\n",
    "        x=[row['purchase_frequency']],\n",
    "        y=[row['loyalty_score']],\n",
    "        mode='markers',\n",
    "        marker_color=define_color_by_purchase_amount(row['purchase_amount'])\n",
    "    ))\n",
    "\n",
    "fig.update_xaxes(title_text='purchase frequency')\n",
    "fig.update_yaxes(title_text='loyalty score')\n",
    "fig.update_layout(showlegend=False)\n",
    "fig.show()\n"
   ]
  }
 ],
 "metadata": {
  "kernelspec": {
   "display_name": "Python 3 (ipykernel)",
   "language": "python",
   "name": "python3"
  },
  "language_info": {
   "codemirror_mode": {
    "name": "ipython",
    "version": 3
   },
   "file_extension": ".py",
   "mimetype": "text/x-python",
   "name": "python",
   "nbconvert_exporter": "python",
   "pygments_lexer": "ipython3",
   "version": "3.10.12"
  }
 },
 "nbformat": 4,
 "nbformat_minor": 5
}
